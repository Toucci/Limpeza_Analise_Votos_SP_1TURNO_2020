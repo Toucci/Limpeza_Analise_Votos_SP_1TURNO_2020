{
 "cells": [
  {
   "cell_type": "markdown",
   "id": "412337ba",
   "metadata": {
    "papermill": {
     "duration": 0.015628,
     "end_time": "2023-08-20T21:39:22.227378",
     "exception": false,
     "start_time": "2023-08-20T21:39:22.211750",
     "status": "completed"
    },
    "tags": []
   },
   "source": [
    "<div style=\"font-family:Inter; text-align:center; font-size:36px;\n",
    "            background-color:#5A5A5A; border-radius: 20px; padding: 10px\">\n",
    "    <b style=\"color: white\">Limpeza e tratamento dos dados brutos</b>\n",
    "</div>"
   ]
  },
  {
   "cell_type": "markdown",
   "id": "1f977aff",
   "metadata": {
    "papermill": {
     "duration": 0.014974,
     "end_time": "2023-08-20T21:39:22.259236",
     "exception": false,
     "start_time": "2023-08-20T21:39:22.244262",
     "status": "completed"
    },
    "tags": []
   },
   "source": [
    "<div style=\"font-size: 23px; font-family:Inter\"><b>A limpeza consistirá no tratamento de dois arquivos:</b></div>\n",
    "\n",
    "<ul>\n",
    "    <li><p style=\"font-size: 20px; font-family: Inter\">perfil_eleitorado_2020.csv;</p></li>\n",
    "    <li><p style=\"font-size: 20px; font-family: Inter\">SP_turno_1.csv;</p></li>\n",
    "</ul>\n",
    "\n",
    "<div style=\"font-size: 23px; font-family:Inter\"><b>Primeiro, irei realizar a limpeza e tratamento do arquivo perfil_eleitorado_2020.csv, e após ele, o arquivo SP_turno1.csv.</b></div>"
   ]
  },
  {
   "cell_type": "markdown",
   "id": "b7ccf993",
   "metadata": {
    "papermill": {
     "duration": 0.014885,
     "end_time": "2023-08-20T21:39:22.289297",
     "exception": false,
     "start_time": "2023-08-20T21:39:22.274412",
     "status": "completed"
    },
    "tags": []
   },
   "source": [
    "<div style=\"font-size: 28px; font-family:Inter\"><b>Bibliotecas utilizadas</b></div>\n",
    "<hr style=\"height:6px; background-color:#5A5A5A\"></hr>\n",
    "\n",
    "<div style=\"font-size: 22px; font-family:Inter\">\n",
    "    <ul>\n",
    "        <li> <b>Pandas</b> para limpeza e manipulação dos dados;</li>   \n",
    "        <li> <b>NumPy</b> para operações de distribuição dos dados</li>\n",
    "    </ul>\n",
    "</div>\n",
    "\n",
    "<div style=\"display: flex;\">\n",
    "  <img src=\"https://upload.wikimedia.org/wikipedia/commons/thumb/e/ed/Pandas_logo.svg/1200px-Pandas_logo.svg.png\" style=\"width: 200px; height: -100px; margin-right: 5px;\">\n",
    "  <img src=\"https://upload.wikimedia.org/wikipedia/commons/thumb/3/31/NumPy_logo_2020.svg/1200px-NumPy_logo_2020.svg.png\" style=\"width: 200px; height: -100px; margin-right: 5px;\">\n",
    "</div>"
   ]
  },
  {
   "cell_type": "markdown",
   "id": "d6834682",
   "metadata": {
    "papermill": {
     "duration": 0.01496,
     "end_time": "2023-08-20T21:39:22.319330",
     "exception": false,
     "start_time": "2023-08-20T21:39:22.304370",
     "status": "completed"
    },
    "tags": []
   },
   "source": [
    "<div style=\"font-size: 32px; text-align:center;font-family:Inter\"><b>Imports</b></div>\n",
    "<hr style=\"height:6px; background-color:#5A5A5A\"></hr>"
   ]
  },
  {
   "cell_type": "code",
   "execution_count": 1,
   "id": "415b599f",
   "metadata": {
    "_cell_guid": "b1076dfc-b9ad-4769-8c92-a6c4dae69d19",
    "_uuid": "8f2839f25d086af736a60e9eeb907d3b93b6e0e5",
    "execution": {
     "iopub.execute_input": "2023-08-20T21:39:22.352566Z",
     "iopub.status.busy": "2023-08-20T21:39:22.351816Z",
     "iopub.status.idle": "2023-08-20T21:39:22.360437Z",
     "shell.execute_reply": "2023-08-20T21:39:22.359672Z"
    },
    "papermill": {
     "duration": 0.027111,
     "end_time": "2023-08-20T21:39:22.362233",
     "exception": false,
     "start_time": "2023-08-20T21:39:22.335122",
     "status": "completed"
    },
    "tags": []
   },
   "outputs": [],
   "source": [
    "import pandas as pd\n",
    "import numpy as np"
   ]
  },
  {
   "cell_type": "code",
   "execution_count": 2,
   "id": "3ec413f3",
   "metadata": {
    "execution": {
     "iopub.execute_input": "2023-08-20T21:39:22.394445Z",
     "iopub.status.busy": "2023-08-20T21:39:22.393803Z",
     "iopub.status.idle": "2023-08-20T21:39:22.398100Z",
     "shell.execute_reply": "2023-08-20T21:39:22.397363Z"
    },
    "papermill": {
     "duration": 0.022509,
     "end_time": "2023-08-20T21:39:22.399857",
     "exception": false,
     "start_time": "2023-08-20T21:39:22.377348",
     "status": "completed"
    },
    "tags": []
   },
   "outputs": [],
   "source": [
    "pd.options.display.max_columns = None #Não limitar o máximo de colunas do DataFrame\n",
    "pd.options.mode.chained_assignment = None #Evitar avisos de cópias"
   ]
  },
  {
   "cell_type": "markdown",
   "id": "4af1e06b",
   "metadata": {
    "papermill": {
     "duration": 0.014765,
     "end_time": "2023-08-20T21:39:22.429706",
     "exception": false,
     "start_time": "2023-08-20T21:39:22.414941",
     "status": "completed"
    },
    "tags": []
   },
   "source": [
    "<div style=\"font-family:Inter; text-align:center; font-size:36px;\n",
    "            background-color:#5A5A5A; border-radius: 20px; padding: 10px\">\n",
    "    <b style=\"color: white\">Arquivo perfil_eleitorado_2020.csv</b>\n",
    "</div>"
   ]
  },
  {
   "cell_type": "markdown",
   "id": "860862dc",
   "metadata": {
    "papermill": {
     "duration": 0.014676,
     "end_time": "2023-08-20T21:39:22.459406",
     "exception": false,
     "start_time": "2023-08-20T21:39:22.444730",
     "status": "completed"
    },
    "tags": []
   },
   "source": [
    "<div style=\"font-size: 32px;font-family:Inter\"><b>Importando e analisando o material Perfil do eleitorado </b></div>\n",
    "<hr style=\"height:6px; background-color:#5A5A5A\"></hr>"
   ]
  },
  {
   "cell_type": "code",
   "execution_count": 3,
   "id": "f6a6368c",
   "metadata": {
    "execution": {
     "iopub.execute_input": "2023-08-20T21:39:22.491110Z",
     "iopub.status.busy": "2023-08-20T21:39:22.490727Z",
     "iopub.status.idle": "2023-08-20T21:39:43.540323Z",
     "shell.execute_reply": "2023-08-20T21:39:43.539358Z"
    },
    "papermill": {
     "duration": 21.068809,
     "end_time": "2023-08-20T21:39:43.543108",
     "exception": false,
     "start_time": "2023-08-20T21:39:22.474299",
     "status": "completed"
    },
    "tags": []
   },
   "outputs": [],
   "source": [
    "dados_eleitorado = pd.read_csv('/kaggle/input/perfil-eleitorado-2020/perfil_eleitorado_2020.csv', sep = ';', encoding = 'latin1')"
   ]
  },
  {
   "cell_type": "markdown",
   "id": "a824f921",
   "metadata": {
    "papermill": {
     "duration": 0.015123,
     "end_time": "2023-08-20T21:39:43.573894",
     "exception": false,
     "start_time": "2023-08-20T21:39:43.558771",
     "status": "completed"
    },
    "tags": []
   },
   "source": [
    "<div style=\"font-size: 32px;font-family:Inter\"><b>Visualizando dados brutos </b></div>\n",
    "<hr style=\"height:6px; background-color:#5A5A5A\"></hr>"
   ]
  },
  {
   "cell_type": "code",
   "execution_count": 4,
   "id": "8c5c90b8",
   "metadata": {
    "execution": {
     "iopub.execute_input": "2023-08-20T21:39:43.606145Z",
     "iopub.status.busy": "2023-08-20T21:39:43.605469Z",
     "iopub.status.idle": "2023-08-20T21:39:43.631614Z",
     "shell.execute_reply": "2023-08-20T21:39:43.630646Z"
    },
    "papermill": {
     "duration": 0.04525,
     "end_time": "2023-08-20T21:39:43.634173",
     "exception": false,
     "start_time": "2023-08-20T21:39:43.588923",
     "status": "completed"
    },
    "tags": []
   },
   "outputs": [
    {
     "data": {
      "text/html": [
       "<div>\n",
       "<style scoped>\n",
       "    .dataframe tbody tr th:only-of-type {\n",
       "        vertical-align: middle;\n",
       "    }\n",
       "\n",
       "    .dataframe tbody tr th {\n",
       "        vertical-align: top;\n",
       "    }\n",
       "\n",
       "    .dataframe thead th {\n",
       "        text-align: right;\n",
       "    }\n",
       "</style>\n",
       "<table border=\"1\" class=\"dataframe\">\n",
       "  <thead>\n",
       "    <tr style=\"text-align: right;\">\n",
       "      <th></th>\n",
       "      <th>DT_GERACAO</th>\n",
       "      <th>HH_GERACAO</th>\n",
       "      <th>ANO_ELEICAO</th>\n",
       "      <th>SG_UF</th>\n",
       "      <th>CD_MUNICIPIO</th>\n",
       "      <th>NM_MUNICIPIO</th>\n",
       "      <th>CD_MUN_SIT_BIOMETRIA</th>\n",
       "      <th>DS_MUN_SIT_BIOMETRIA</th>\n",
       "      <th>NR_ZONA</th>\n",
       "      <th>CD_GENERO</th>\n",
       "      <th>DS_GENERO</th>\n",
       "      <th>CD_ESTADO_CIVIL</th>\n",
       "      <th>DS_ESTADO_CIVIL</th>\n",
       "      <th>CD_FAIXA_ETARIA</th>\n",
       "      <th>DS_FAIXA_ETARIA</th>\n",
       "      <th>CD_GRAU_ESCOLARIDADE</th>\n",
       "      <th>DS_GRAU_ESCOLARIDADE</th>\n",
       "      <th>QT_ELEITORES_PERFIL</th>\n",
       "      <th>QT_ELEITORES_BIOMETRIA</th>\n",
       "      <th>QT_ELEITORES_DEFICIENCIA</th>\n",
       "      <th>QT_ELEITORES_INC_NM_SOCIAL</th>\n",
       "    </tr>\n",
       "  </thead>\n",
       "  <tbody>\n",
       "    <tr>\n",
       "      <th>0</th>\n",
       "      <td>01/08/2020</td>\n",
       "      <td>08:37:48</td>\n",
       "      <td>2020</td>\n",
       "      <td>SP</td>\n",
       "      <td>70734</td>\n",
       "      <td>SÃO BENTO DO SAPUCAÍ</td>\n",
       "      <td>0</td>\n",
       "      <td>Sem biometria</td>\n",
       "      <td>314</td>\n",
       "      <td>4</td>\n",
       "      <td>FEMININO</td>\n",
       "      <td>3</td>\n",
       "      <td>CASADO</td>\n",
       "      <td>7074</td>\n",
       "      <td>70 a 74 anos</td>\n",
       "      <td>3</td>\n",
       "      <td>ENSINO FUNDAMENTAL INCOMPLETO</td>\n",
       "      <td>47</td>\n",
       "      <td>37</td>\n",
       "      <td>1</td>\n",
       "      <td>0</td>\n",
       "    </tr>\n",
       "    <tr>\n",
       "      <th>1</th>\n",
       "      <td>01/08/2020</td>\n",
       "      <td>08:37:48</td>\n",
       "      <td>2020</td>\n",
       "      <td>SP</td>\n",
       "      <td>70734</td>\n",
       "      <td>SÃO BENTO DO SAPUCAÍ</td>\n",
       "      <td>0</td>\n",
       "      <td>Sem biometria</td>\n",
       "      <td>314</td>\n",
       "      <td>4</td>\n",
       "      <td>FEMININO</td>\n",
       "      <td>3</td>\n",
       "      <td>CASADO</td>\n",
       "      <td>7074</td>\n",
       "      <td>70 a 74 anos</td>\n",
       "      <td>4</td>\n",
       "      <td>ENSINO FUNDAMENTAL COMPLETO</td>\n",
       "      <td>5</td>\n",
       "      <td>4</td>\n",
       "      <td>0</td>\n",
       "      <td>0</td>\n",
       "    </tr>\n",
       "    <tr>\n",
       "      <th>2</th>\n",
       "      <td>01/08/2020</td>\n",
       "      <td>08:37:48</td>\n",
       "      <td>2020</td>\n",
       "      <td>SP</td>\n",
       "      <td>70734</td>\n",
       "      <td>SÃO BENTO DO SAPUCAÍ</td>\n",
       "      <td>0</td>\n",
       "      <td>Sem biometria</td>\n",
       "      <td>314</td>\n",
       "      <td>4</td>\n",
       "      <td>FEMININO</td>\n",
       "      <td>3</td>\n",
       "      <td>CASADO</td>\n",
       "      <td>7074</td>\n",
       "      <td>70 a 74 anos</td>\n",
       "      <td>5</td>\n",
       "      <td>ENSINO MÉDIO INCOMPLETO</td>\n",
       "      <td>1</td>\n",
       "      <td>1</td>\n",
       "      <td>0</td>\n",
       "      <td>0</td>\n",
       "    </tr>\n",
       "    <tr>\n",
       "      <th>3</th>\n",
       "      <td>01/08/2020</td>\n",
       "      <td>08:37:48</td>\n",
       "      <td>2020</td>\n",
       "      <td>SP</td>\n",
       "      <td>70734</td>\n",
       "      <td>SÃO BENTO DO SAPUCAÍ</td>\n",
       "      <td>0</td>\n",
       "      <td>Sem biometria</td>\n",
       "      <td>314</td>\n",
       "      <td>4</td>\n",
       "      <td>FEMININO</td>\n",
       "      <td>3</td>\n",
       "      <td>CASADO</td>\n",
       "      <td>7074</td>\n",
       "      <td>70 a 74 anos</td>\n",
       "      <td>6</td>\n",
       "      <td>ENSINO MÉDIO COMPLETO</td>\n",
       "      <td>10</td>\n",
       "      <td>8</td>\n",
       "      <td>0</td>\n",
       "      <td>0</td>\n",
       "    </tr>\n",
       "    <tr>\n",
       "      <th>4</th>\n",
       "      <td>01/08/2020</td>\n",
       "      <td>08:37:48</td>\n",
       "      <td>2020</td>\n",
       "      <td>SP</td>\n",
       "      <td>70734</td>\n",
       "      <td>SÃO BENTO DO SAPUCAÍ</td>\n",
       "      <td>0</td>\n",
       "      <td>Sem biometria</td>\n",
       "      <td>314</td>\n",
       "      <td>4</td>\n",
       "      <td>FEMININO</td>\n",
       "      <td>3</td>\n",
       "      <td>CASADO</td>\n",
       "      <td>7074</td>\n",
       "      <td>70 a 74 anos</td>\n",
       "      <td>8</td>\n",
       "      <td>SUPERIOR COMPLETO</td>\n",
       "      <td>23</td>\n",
       "      <td>18</td>\n",
       "      <td>0</td>\n",
       "      <td>0</td>\n",
       "    </tr>\n",
       "  </tbody>\n",
       "</table>\n",
       "</div>"
      ],
      "text/plain": [
       "   DT_GERACAO HH_GERACAO  ANO_ELEICAO SG_UF  CD_MUNICIPIO  \\\n",
       "0  01/08/2020   08:37:48         2020    SP         70734   \n",
       "1  01/08/2020   08:37:48         2020    SP         70734   \n",
       "2  01/08/2020   08:37:48         2020    SP         70734   \n",
       "3  01/08/2020   08:37:48         2020    SP         70734   \n",
       "4  01/08/2020   08:37:48         2020    SP         70734   \n",
       "\n",
       "           NM_MUNICIPIO  CD_MUN_SIT_BIOMETRIA DS_MUN_SIT_BIOMETRIA  NR_ZONA  \\\n",
       "0  SÃO BENTO DO SAPUCAÍ                     0        Sem biometria      314   \n",
       "1  SÃO BENTO DO SAPUCAÍ                     0        Sem biometria      314   \n",
       "2  SÃO BENTO DO SAPUCAÍ                     0        Sem biometria      314   \n",
       "3  SÃO BENTO DO SAPUCAÍ                     0        Sem biometria      314   \n",
       "4  SÃO BENTO DO SAPUCAÍ                     0        Sem biometria      314   \n",
       "\n",
       "   CD_GENERO DS_GENERO  CD_ESTADO_CIVIL DS_ESTADO_CIVIL  CD_FAIXA_ETARIA  \\\n",
       "0          4  FEMININO                3          CASADO             7074   \n",
       "1          4  FEMININO                3          CASADO             7074   \n",
       "2          4  FEMININO                3          CASADO             7074   \n",
       "3          4  FEMININO                3          CASADO             7074   \n",
       "4          4  FEMININO                3          CASADO             7074   \n",
       "\n",
       "                  DS_FAIXA_ETARIA  CD_GRAU_ESCOLARIDADE  \\\n",
       "0  70 a 74 anos                                       3   \n",
       "1  70 a 74 anos                                       4   \n",
       "2  70 a 74 anos                                       5   \n",
       "3  70 a 74 anos                                       6   \n",
       "4  70 a 74 anos                                       8   \n",
       "\n",
       "            DS_GRAU_ESCOLARIDADE  QT_ELEITORES_PERFIL  QT_ELEITORES_BIOMETRIA  \\\n",
       "0  ENSINO FUNDAMENTAL INCOMPLETO                   47                      37   \n",
       "1    ENSINO FUNDAMENTAL COMPLETO                    5                       4   \n",
       "2        ENSINO MÉDIO INCOMPLETO                    1                       1   \n",
       "3          ENSINO MÉDIO COMPLETO                   10                       8   \n",
       "4              SUPERIOR COMPLETO                   23                      18   \n",
       "\n",
       "   QT_ELEITORES_DEFICIENCIA  QT_ELEITORES_INC_NM_SOCIAL  \n",
       "0                         1                           0  \n",
       "1                         0                           0  \n",
       "2                         0                           0  \n",
       "3                         0                           0  \n",
       "4                         0                           0  "
      ]
     },
     "execution_count": 4,
     "metadata": {},
     "output_type": "execute_result"
    }
   ],
   "source": [
    "dados_eleitorado.head() #Pré-visualização dos dados"
   ]
  },
  {
   "cell_type": "code",
   "execution_count": 5,
   "id": "780b3054",
   "metadata": {
    "execution": {
     "iopub.execute_input": "2023-08-20T21:39:43.668180Z",
     "iopub.status.busy": "2023-08-20T21:39:43.667014Z",
     "iopub.status.idle": "2023-08-20T21:39:43.673920Z",
     "shell.execute_reply": "2023-08-20T21:39:43.673172Z"
    },
    "papermill": {
     "duration": 0.026099,
     "end_time": "2023-08-20T21:39:43.675987",
     "exception": false,
     "start_time": "2023-08-20T21:39:43.649888",
     "status": "completed"
    },
    "tags": []
   },
   "outputs": [
    {
     "data": {
      "text/plain": [
       "(4248507, 21)"
      ]
     },
     "execution_count": 5,
     "metadata": {},
     "output_type": "execute_result"
    }
   ],
   "source": [
    "dados_eleitorado.shape #Visualizar número de linhas e colunas do arquivo"
   ]
  },
  {
   "cell_type": "code",
   "execution_count": 6,
   "id": "2e32646d",
   "metadata": {
    "execution": {
     "iopub.execute_input": "2023-08-20T21:39:43.709440Z",
     "iopub.status.busy": "2023-08-20T21:39:43.708734Z",
     "iopub.status.idle": "2023-08-20T21:39:43.715375Z",
     "shell.execute_reply": "2023-08-20T21:39:43.714589Z"
    },
    "papermill": {
     "duration": 0.025661,
     "end_time": "2023-08-20T21:39:43.717356",
     "exception": false,
     "start_time": "2023-08-20T21:39:43.691695",
     "status": "completed"
    },
    "tags": []
   },
   "outputs": [
    {
     "data": {
      "text/plain": [
       "Index(['DT_GERACAO', 'HH_GERACAO', 'ANO_ELEICAO', 'SG_UF', 'CD_MUNICIPIO',\n",
       "       'NM_MUNICIPIO', 'CD_MUN_SIT_BIOMETRIA', 'DS_MUN_SIT_BIOMETRIA',\n",
       "       'NR_ZONA', 'CD_GENERO', 'DS_GENERO', 'CD_ESTADO_CIVIL',\n",
       "       'DS_ESTADO_CIVIL', 'CD_FAIXA_ETARIA', 'DS_FAIXA_ETARIA',\n",
       "       'CD_GRAU_ESCOLARIDADE', 'DS_GRAU_ESCOLARIDADE', 'QT_ELEITORES_PERFIL',\n",
       "       'QT_ELEITORES_BIOMETRIA', 'QT_ELEITORES_DEFICIENCIA',\n",
       "       'QT_ELEITORES_INC_NM_SOCIAL'],\n",
       "      dtype='object')"
      ]
     },
     "execution_count": 6,
     "metadata": {},
     "output_type": "execute_result"
    }
   ],
   "source": [
    "dados_eleitorado.columns #Visualizar as colunas"
   ]
  },
  {
   "cell_type": "markdown",
   "id": "0607000c",
   "metadata": {
    "papermill": {
     "duration": 0.01562,
     "end_time": "2023-08-20T21:39:43.748624",
     "exception": false,
     "start_time": "2023-08-20T21:39:43.733004",
     "status": "completed"
    },
    "tags": []
   },
   "source": [
    "<div style=\"font-size: 23px; font-family:Inter\"><b>Para a análise que será realizada, quero obter insights e descobertas para as seguintes perguntas:</b></div>\n",
    "\n",
    "\n",
    "\n",
    "   <ul>\n",
    "    <li><p style=\"font-size: 20px; font-family: Inter\">em qual município o candidato X foi mais votado;</p></li>\n",
    "    <li><p style=\"font-size: 20px; font-family: Inter\">qual candidato foi mais votado em cada município;</p></li>\n",
    "    <li><p style=\"font-size: 20px; font-family: Inter\">qual perfil do eleitorado (faixa etária, gênero, grau de escolaridade, etc.) mais votou em cada candidato.</p></li>\n",
    "    <li><p style=\"font-size: 20px; font-family: Inter\">Qual foi o candidato mais votado em SP?.</p></li>\n",
    "</ul>\n",
    "\n",
    "<div style=\"font-size: 23px; font-family:Inter\"><b>Para responde-las, não será necessário tratar todo o DataFrame, necessitando apenas das colunas que nos retornem as respostas para essas perguntas.</b></div>"
   ]
  },
  {
   "cell_type": "markdown",
   "id": "81adb2d0",
   "metadata": {
    "papermill": {
     "duration": 0.015285,
     "end_time": "2023-08-20T21:39:43.779612",
     "exception": false,
     "start_time": "2023-08-20T21:39:43.764327",
     "status": "completed"
    },
    "tags": []
   },
   "source": [
    "<div style=\"font-size: 32px;font-family:Inter\"><b>Estabelecendo as colunas que serão utilizadas</b></div>\n",
    "<hr style=\"height:6px; background-color:#5A5A5A\"></hr>"
   ]
  },
  {
   "cell_type": "code",
   "execution_count": 7,
   "id": "ceb2ee80",
   "metadata": {
    "execution": {
     "iopub.execute_input": "2023-08-20T21:39:43.812858Z",
     "iopub.status.busy": "2023-08-20T21:39:43.812105Z",
     "iopub.status.idle": "2023-08-20T21:39:43.816847Z",
     "shell.execute_reply": "2023-08-20T21:39:43.816149Z"
    },
    "papermill": {
     "duration": 0.023632,
     "end_time": "2023-08-20T21:39:43.818792",
     "exception": false,
     "start_time": "2023-08-20T21:39:43.795160",
     "status": "completed"
    },
    "tags": []
   },
   "outputs": [],
   "source": [
    "colunas_mantidas = ['ANO_ELEICAO','SG_UF','CD_MUNICIPIO','NM_MUNICIPIO','DS_GENERO', 'DS_ESTADO_CIVIL', 'DS_FAIXA_ETARIA',\n",
    "                   'DS_GRAU_ESCOLARIDADE', 'QT_ELEITORES_PERFIL']"
   ]
  },
  {
   "cell_type": "code",
   "execution_count": 8,
   "id": "2e977a19",
   "metadata": {
    "execution": {
     "iopub.execute_input": "2023-08-20T21:39:43.852666Z",
     "iopub.status.busy": "2023-08-20T21:39:43.851912Z",
     "iopub.status.idle": "2023-08-20T21:39:44.550714Z",
     "shell.execute_reply": "2023-08-20T21:39:44.549536Z"
    },
    "papermill": {
     "duration": 0.71832,
     "end_time": "2023-08-20T21:39:44.552786",
     "exception": false,
     "start_time": "2023-08-20T21:39:43.834466",
     "status": "completed"
    },
    "tags": []
   },
   "outputs": [
    {
     "data": {
      "text/html": [
       "<div>\n",
       "<style scoped>\n",
       "    .dataframe tbody tr th:only-of-type {\n",
       "        vertical-align: middle;\n",
       "    }\n",
       "\n",
       "    .dataframe tbody tr th {\n",
       "        vertical-align: top;\n",
       "    }\n",
       "\n",
       "    .dataframe thead th {\n",
       "        text-align: right;\n",
       "    }\n",
       "</style>\n",
       "<table border=\"1\" class=\"dataframe\">\n",
       "  <thead>\n",
       "    <tr style=\"text-align: right;\">\n",
       "      <th></th>\n",
       "      <th>ANO_ELEICAO</th>\n",
       "      <th>SG_UF</th>\n",
       "      <th>CD_MUNICIPIO</th>\n",
       "      <th>NM_MUNICIPIO</th>\n",
       "      <th>DS_GENERO</th>\n",
       "      <th>DS_ESTADO_CIVIL</th>\n",
       "      <th>DS_FAIXA_ETARIA</th>\n",
       "      <th>DS_GRAU_ESCOLARIDADE</th>\n",
       "      <th>QT_ELEITORES_PERFIL</th>\n",
       "    </tr>\n",
       "  </thead>\n",
       "  <tbody>\n",
       "    <tr>\n",
       "      <th>0</th>\n",
       "      <td>2020</td>\n",
       "      <td>SP</td>\n",
       "      <td>70734</td>\n",
       "      <td>SÃO BENTO DO SAPUCAÍ</td>\n",
       "      <td>FEMININO</td>\n",
       "      <td>CASADO</td>\n",
       "      <td>70 a 74 anos</td>\n",
       "      <td>ENSINO FUNDAMENTAL INCOMPLETO</td>\n",
       "      <td>47</td>\n",
       "    </tr>\n",
       "    <tr>\n",
       "      <th>1</th>\n",
       "      <td>2020</td>\n",
       "      <td>SP</td>\n",
       "      <td>70734</td>\n",
       "      <td>SÃO BENTO DO SAPUCAÍ</td>\n",
       "      <td>FEMININO</td>\n",
       "      <td>CASADO</td>\n",
       "      <td>70 a 74 anos</td>\n",
       "      <td>ENSINO FUNDAMENTAL COMPLETO</td>\n",
       "      <td>5</td>\n",
       "    </tr>\n",
       "    <tr>\n",
       "      <th>2</th>\n",
       "      <td>2020</td>\n",
       "      <td>SP</td>\n",
       "      <td>70734</td>\n",
       "      <td>SÃO BENTO DO SAPUCAÍ</td>\n",
       "      <td>FEMININO</td>\n",
       "      <td>CASADO</td>\n",
       "      <td>70 a 74 anos</td>\n",
       "      <td>ENSINO MÉDIO INCOMPLETO</td>\n",
       "      <td>1</td>\n",
       "    </tr>\n",
       "    <tr>\n",
       "      <th>3</th>\n",
       "      <td>2020</td>\n",
       "      <td>SP</td>\n",
       "      <td>70734</td>\n",
       "      <td>SÃO BENTO DO SAPUCAÍ</td>\n",
       "      <td>FEMININO</td>\n",
       "      <td>CASADO</td>\n",
       "      <td>70 a 74 anos</td>\n",
       "      <td>ENSINO MÉDIO COMPLETO</td>\n",
       "      <td>10</td>\n",
       "    </tr>\n",
       "    <tr>\n",
       "      <th>4</th>\n",
       "      <td>2020</td>\n",
       "      <td>SP</td>\n",
       "      <td>70734</td>\n",
       "      <td>SÃO BENTO DO SAPUCAÍ</td>\n",
       "      <td>FEMININO</td>\n",
       "      <td>CASADO</td>\n",
       "      <td>70 a 74 anos</td>\n",
       "      <td>SUPERIOR COMPLETO</td>\n",
       "      <td>23</td>\n",
       "    </tr>\n",
       "    <tr>\n",
       "      <th>5</th>\n",
       "      <td>2020</td>\n",
       "      <td>SP</td>\n",
       "      <td>70734</td>\n",
       "      <td>SÃO BENTO DO SAPUCAÍ</td>\n",
       "      <td>FEMININO</td>\n",
       "      <td>CASADO</td>\n",
       "      <td>75 a 79 anos</td>\n",
       "      <td>ANALFABETO</td>\n",
       "      <td>12</td>\n",
       "    </tr>\n",
       "    <tr>\n",
       "      <th>6</th>\n",
       "      <td>2020</td>\n",
       "      <td>SP</td>\n",
       "      <td>70734</td>\n",
       "      <td>SÃO BENTO DO SAPUCAÍ</td>\n",
       "      <td>FEMININO</td>\n",
       "      <td>CASADO</td>\n",
       "      <td>75 a 79 anos</td>\n",
       "      <td>LÊ E ESCREVE</td>\n",
       "      <td>20</td>\n",
       "    </tr>\n",
       "    <tr>\n",
       "      <th>7</th>\n",
       "      <td>2020</td>\n",
       "      <td>SP</td>\n",
       "      <td>70734</td>\n",
       "      <td>SÃO BENTO DO SAPUCAÍ</td>\n",
       "      <td>FEMININO</td>\n",
       "      <td>CASADO</td>\n",
       "      <td>75 a 79 anos</td>\n",
       "      <td>ENSINO FUNDAMENTAL INCOMPLETO</td>\n",
       "      <td>31</td>\n",
       "    </tr>\n",
       "    <tr>\n",
       "      <th>8</th>\n",
       "      <td>2020</td>\n",
       "      <td>SP</td>\n",
       "      <td>70734</td>\n",
       "      <td>SÃO BENTO DO SAPUCAÍ</td>\n",
       "      <td>FEMININO</td>\n",
       "      <td>CASADO</td>\n",
       "      <td>75 a 79 anos</td>\n",
       "      <td>ENSINO FUNDAMENTAL COMPLETO</td>\n",
       "      <td>8</td>\n",
       "    </tr>\n",
       "    <tr>\n",
       "      <th>9</th>\n",
       "      <td>2020</td>\n",
       "      <td>SP</td>\n",
       "      <td>70734</td>\n",
       "      <td>SÃO BENTO DO SAPUCAÍ</td>\n",
       "      <td>FEMININO</td>\n",
       "      <td>CASADO</td>\n",
       "      <td>75 a 79 anos</td>\n",
       "      <td>ENSINO MÉDIO INCOMPLETO</td>\n",
       "      <td>2</td>\n",
       "    </tr>\n",
       "  </tbody>\n",
       "</table>\n",
       "</div>"
      ],
      "text/plain": [
       "   ANO_ELEICAO SG_UF  CD_MUNICIPIO          NM_MUNICIPIO DS_GENERO  \\\n",
       "0         2020    SP         70734  SÃO BENTO DO SAPUCAÍ  FEMININO   \n",
       "1         2020    SP         70734  SÃO BENTO DO SAPUCAÍ  FEMININO   \n",
       "2         2020    SP         70734  SÃO BENTO DO SAPUCAÍ  FEMININO   \n",
       "3         2020    SP         70734  SÃO BENTO DO SAPUCAÍ  FEMININO   \n",
       "4         2020    SP         70734  SÃO BENTO DO SAPUCAÍ  FEMININO   \n",
       "5         2020    SP         70734  SÃO BENTO DO SAPUCAÍ  FEMININO   \n",
       "6         2020    SP         70734  SÃO BENTO DO SAPUCAÍ  FEMININO   \n",
       "7         2020    SP         70734  SÃO BENTO DO SAPUCAÍ  FEMININO   \n",
       "8         2020    SP         70734  SÃO BENTO DO SAPUCAÍ  FEMININO   \n",
       "9         2020    SP         70734  SÃO BENTO DO SAPUCAÍ  FEMININO   \n",
       "\n",
       "  DS_ESTADO_CIVIL                 DS_FAIXA_ETARIA  \\\n",
       "0          CASADO  70 a 74 anos                     \n",
       "1          CASADO  70 a 74 anos                     \n",
       "2          CASADO  70 a 74 anos                     \n",
       "3          CASADO  70 a 74 anos                     \n",
       "4          CASADO  70 a 74 anos                     \n",
       "5          CASADO  75 a 79 anos                     \n",
       "6          CASADO  75 a 79 anos                     \n",
       "7          CASADO  75 a 79 anos                     \n",
       "8          CASADO  75 a 79 anos                     \n",
       "9          CASADO  75 a 79 anos                     \n",
       "\n",
       "            DS_GRAU_ESCOLARIDADE  QT_ELEITORES_PERFIL  \n",
       "0  ENSINO FUNDAMENTAL INCOMPLETO                   47  \n",
       "1    ENSINO FUNDAMENTAL COMPLETO                    5  \n",
       "2        ENSINO MÉDIO INCOMPLETO                    1  \n",
       "3          ENSINO MÉDIO COMPLETO                   10  \n",
       "4              SUPERIOR COMPLETO                   23  \n",
       "5                     ANALFABETO                   12  \n",
       "6                   LÊ E ESCREVE                   20  \n",
       "7  ENSINO FUNDAMENTAL INCOMPLETO                   31  \n",
       "8    ENSINO FUNDAMENTAL COMPLETO                    8  \n",
       "9        ENSINO MÉDIO INCOMPLETO                    2  "
      ]
     },
     "execution_count": 8,
     "metadata": {},
     "output_type": "execute_result"
    }
   ],
   "source": [
    "dados_eleitorado = dados_eleitorado[colunas_mantidas].reset_index(drop=True) #Eliminando colunas não utilizadas\n",
    "dados_eleitorado.head(10) #Visualizando a nova tabela"
   ]
  },
  {
   "cell_type": "code",
   "execution_count": 9,
   "id": "6feb087d",
   "metadata": {
    "execution": {
     "iopub.execute_input": "2023-08-20T21:39:44.586575Z",
     "iopub.status.busy": "2023-08-20T21:39:44.586231Z",
     "iopub.status.idle": "2023-08-20T21:39:44.603105Z",
     "shell.execute_reply": "2023-08-20T21:39:44.602018Z"
    },
    "papermill": {
     "duration": 0.03687,
     "end_time": "2023-08-20T21:39:44.605792",
     "exception": false,
     "start_time": "2023-08-20T21:39:44.568922",
     "status": "completed"
    },
    "tags": []
   },
   "outputs": [
    {
     "name": "stdout",
     "output_type": "stream",
     "text": [
      "<class 'pandas.core.frame.DataFrame'>\n",
      "RangeIndex: 4248507 entries, 0 to 4248506\n",
      "Data columns (total 9 columns):\n",
      " #   Column                Dtype \n",
      "---  ------                ----- \n",
      " 0   ANO_ELEICAO           int64 \n",
      " 1   SG_UF                 object\n",
      " 2   CD_MUNICIPIO          int64 \n",
      " 3   NM_MUNICIPIO          object\n",
      " 4   DS_GENERO             object\n",
      " 5   DS_ESTADO_CIVIL       object\n",
      " 6   DS_FAIXA_ETARIA       object\n",
      " 7   DS_GRAU_ESCOLARIDADE  object\n",
      " 8   QT_ELEITORES_PERFIL   int64 \n",
      "dtypes: int64(3), object(6)\n",
      "memory usage: 291.7+ MB\n"
     ]
    }
   ],
   "source": [
    "dados_eleitorado.info() #Obtendo informações dos tipos de dados das colunas"
   ]
  },
  {
   "cell_type": "code",
   "execution_count": 10,
   "id": "aa5ba904",
   "metadata": {
    "execution": {
     "iopub.execute_input": "2023-08-20T21:39:44.639850Z",
     "iopub.status.busy": "2023-08-20T21:39:44.639503Z",
     "iopub.status.idle": "2023-08-20T21:39:48.404900Z",
     "shell.execute_reply": "2023-08-20T21:39:48.403799Z"
    },
    "papermill": {
     "duration": 3.785056,
     "end_time": "2023-08-20T21:39:48.407051",
     "exception": false,
     "start_time": "2023-08-20T21:39:44.621995",
     "status": "completed"
    },
    "tags": []
   },
   "outputs": [
    {
     "data": {
      "text/plain": [
       "ANO_ELEICAO             0\n",
       "SG_UF                   0\n",
       "CD_MUNICIPIO            0\n",
       "NM_MUNICIPIO            0\n",
       "DS_GENERO               0\n",
       "DS_ESTADO_CIVIL         0\n",
       "DS_FAIXA_ETARIA         0\n",
       "DS_GRAU_ESCOLARIDADE    0\n",
       "QT_ELEITORES_PERFIL     0\n",
       "dtype: int64"
      ]
     },
     "execution_count": 10,
     "metadata": {},
     "output_type": "execute_result"
    }
   ],
   "source": [
    "dados_eleitorado.isnull().sum() #verificando se há valores nulos"
   ]
  },
  {
   "cell_type": "markdown",
   "id": "a3da96c0",
   "metadata": {
    "papermill": {
     "duration": 0.016054,
     "end_time": "2023-08-20T21:39:48.439590",
     "exception": false,
     "start_time": "2023-08-20T21:39:48.423536",
     "status": "completed"
    },
    "tags": []
   },
   "source": [
    "<div style=\"font-size: 32px;font-family:Inter\"><b>Filtrando apenas pelo estado de SP</b></div>\n",
    "<hr style=\"height:6px; background-color:#5A5A5A\"></hr>"
   ]
  },
  {
   "cell_type": "code",
   "execution_count": 11,
   "id": "43a07734",
   "metadata": {
    "execution": {
     "iopub.execute_input": "2023-08-20T21:39:48.474013Z",
     "iopub.status.busy": "2023-08-20T21:39:48.473634Z",
     "iopub.status.idle": "2023-08-20T21:39:48.863312Z",
     "shell.execute_reply": "2023-08-20T21:39:48.862176Z"
    },
    "papermill": {
     "duration": 0.40983,
     "end_time": "2023-08-20T21:39:48.865629",
     "exception": false,
     "start_time": "2023-08-20T21:39:48.455799",
     "status": "completed"
    },
    "tags": []
   },
   "outputs": [
    {
     "data": {
      "text/html": [
       "<div>\n",
       "<style scoped>\n",
       "    .dataframe tbody tr th:only-of-type {\n",
       "        vertical-align: middle;\n",
       "    }\n",
       "\n",
       "    .dataframe tbody tr th {\n",
       "        vertical-align: top;\n",
       "    }\n",
       "\n",
       "    .dataframe thead th {\n",
       "        text-align: right;\n",
       "    }\n",
       "</style>\n",
       "<table border=\"1\" class=\"dataframe\">\n",
       "  <thead>\n",
       "    <tr style=\"text-align: right;\">\n",
       "      <th></th>\n",
       "      <th>ANO_ELEICAO</th>\n",
       "      <th>SG_UF</th>\n",
       "      <th>CD_MUNICIPIO</th>\n",
       "      <th>NM_MUNICIPIO</th>\n",
       "      <th>DS_GENERO</th>\n",
       "      <th>DS_ESTADO_CIVIL</th>\n",
       "      <th>DS_FAIXA_ETARIA</th>\n",
       "      <th>DS_GRAU_ESCOLARIDADE</th>\n",
       "      <th>QT_ELEITORES_PERFIL</th>\n",
       "    </tr>\n",
       "  </thead>\n",
       "  <tbody>\n",
       "    <tr>\n",
       "      <th>0</th>\n",
       "      <td>2020</td>\n",
       "      <td>SP</td>\n",
       "      <td>70734</td>\n",
       "      <td>SÃO BENTO DO SAPUCAÍ</td>\n",
       "      <td>FEMININO</td>\n",
       "      <td>CASADO</td>\n",
       "      <td>70 a 74 anos</td>\n",
       "      <td>ENSINO FUNDAMENTAL INCOMPLETO</td>\n",
       "      <td>47</td>\n",
       "    </tr>\n",
       "    <tr>\n",
       "      <th>1</th>\n",
       "      <td>2020</td>\n",
       "      <td>SP</td>\n",
       "      <td>70734</td>\n",
       "      <td>SÃO BENTO DO SAPUCAÍ</td>\n",
       "      <td>FEMININO</td>\n",
       "      <td>CASADO</td>\n",
       "      <td>70 a 74 anos</td>\n",
       "      <td>ENSINO FUNDAMENTAL COMPLETO</td>\n",
       "      <td>5</td>\n",
       "    </tr>\n",
       "    <tr>\n",
       "      <th>2</th>\n",
       "      <td>2020</td>\n",
       "      <td>SP</td>\n",
       "      <td>70734</td>\n",
       "      <td>SÃO BENTO DO SAPUCAÍ</td>\n",
       "      <td>FEMININO</td>\n",
       "      <td>CASADO</td>\n",
       "      <td>70 a 74 anos</td>\n",
       "      <td>ENSINO MÉDIO INCOMPLETO</td>\n",
       "      <td>1</td>\n",
       "    </tr>\n",
       "    <tr>\n",
       "      <th>3</th>\n",
       "      <td>2020</td>\n",
       "      <td>SP</td>\n",
       "      <td>70734</td>\n",
       "      <td>SÃO BENTO DO SAPUCAÍ</td>\n",
       "      <td>FEMININO</td>\n",
       "      <td>CASADO</td>\n",
       "      <td>70 a 74 anos</td>\n",
       "      <td>ENSINO MÉDIO COMPLETO</td>\n",
       "      <td>10</td>\n",
       "    </tr>\n",
       "    <tr>\n",
       "      <th>4</th>\n",
       "      <td>2020</td>\n",
       "      <td>SP</td>\n",
       "      <td>70734</td>\n",
       "      <td>SÃO BENTO DO SAPUCAÍ</td>\n",
       "      <td>FEMININO</td>\n",
       "      <td>CASADO</td>\n",
       "      <td>70 a 74 anos</td>\n",
       "      <td>SUPERIOR COMPLETO</td>\n",
       "      <td>23</td>\n",
       "    </tr>\n",
       "    <tr>\n",
       "      <th>...</th>\n",
       "      <td>...</td>\n",
       "      <td>...</td>\n",
       "      <td>...</td>\n",
       "      <td>...</td>\n",
       "      <td>...</td>\n",
       "      <td>...</td>\n",
       "      <td>...</td>\n",
       "      <td>...</td>\n",
       "      <td>...</td>\n",
       "    </tr>\n",
       "    <tr>\n",
       "      <th>4248331</th>\n",
       "      <td>2020</td>\n",
       "      <td>SP</td>\n",
       "      <td>72451</td>\n",
       "      <td>VOTUPORANGA</td>\n",
       "      <td>MASCULINO</td>\n",
       "      <td>CASADO</td>\n",
       "      <td>55 a 59 anos</td>\n",
       "      <td>ENSINO MÉDIO COMPLETO</td>\n",
       "      <td>512</td>\n",
       "    </tr>\n",
       "    <tr>\n",
       "      <th>4248332</th>\n",
       "      <td>2020</td>\n",
       "      <td>SP</td>\n",
       "      <td>72451</td>\n",
       "      <td>VOTUPORANGA</td>\n",
       "      <td>MASCULINO</td>\n",
       "      <td>CASADO</td>\n",
       "      <td>55 a 59 anos</td>\n",
       "      <td>SUPERIOR INCOMPLETO</td>\n",
       "      <td>41</td>\n",
       "    </tr>\n",
       "    <tr>\n",
       "      <th>4248333</th>\n",
       "      <td>2020</td>\n",
       "      <td>SP</td>\n",
       "      <td>72451</td>\n",
       "      <td>VOTUPORANGA</td>\n",
       "      <td>MASCULINO</td>\n",
       "      <td>CASADO</td>\n",
       "      <td>55 a 59 anos</td>\n",
       "      <td>SUPERIOR COMPLETO</td>\n",
       "      <td>323</td>\n",
       "    </tr>\n",
       "    <tr>\n",
       "      <th>4248334</th>\n",
       "      <td>2020</td>\n",
       "      <td>SP</td>\n",
       "      <td>72451</td>\n",
       "      <td>VOTUPORANGA</td>\n",
       "      <td>MASCULINO</td>\n",
       "      <td>CASADO</td>\n",
       "      <td>60 a 64 anos</td>\n",
       "      <td>ANALFABETO</td>\n",
       "      <td>26</td>\n",
       "    </tr>\n",
       "    <tr>\n",
       "      <th>4248335</th>\n",
       "      <td>2020</td>\n",
       "      <td>SP</td>\n",
       "      <td>72451</td>\n",
       "      <td>VOTUPORANGA</td>\n",
       "      <td>MASCULINO</td>\n",
       "      <td>CASADO</td>\n",
       "      <td>60 a 64 anos</td>\n",
       "      <td>LÊ E ESCREVE</td>\n",
       "      <td>251</td>\n",
       "    </tr>\n",
       "  </tbody>\n",
       "</table>\n",
       "<p>639502 rows × 9 columns</p>\n",
       "</div>"
      ],
      "text/plain": [
       "         ANO_ELEICAO SG_UF  CD_MUNICIPIO          NM_MUNICIPIO  DS_GENERO  \\\n",
       "0               2020    SP         70734  SÃO BENTO DO SAPUCAÍ   FEMININO   \n",
       "1               2020    SP         70734  SÃO BENTO DO SAPUCAÍ   FEMININO   \n",
       "2               2020    SP         70734  SÃO BENTO DO SAPUCAÍ   FEMININO   \n",
       "3               2020    SP         70734  SÃO BENTO DO SAPUCAÍ   FEMININO   \n",
       "4               2020    SP         70734  SÃO BENTO DO SAPUCAÍ   FEMININO   \n",
       "...              ...   ...           ...                   ...        ...   \n",
       "4248331         2020    SP         72451           VOTUPORANGA  MASCULINO   \n",
       "4248332         2020    SP         72451           VOTUPORANGA  MASCULINO   \n",
       "4248333         2020    SP         72451           VOTUPORANGA  MASCULINO   \n",
       "4248334         2020    SP         72451           VOTUPORANGA  MASCULINO   \n",
       "4248335         2020    SP         72451           VOTUPORANGA  MASCULINO   \n",
       "\n",
       "        DS_ESTADO_CIVIL                 DS_FAIXA_ETARIA  \\\n",
       "0                CASADO  70 a 74 anos                     \n",
       "1                CASADO  70 a 74 anos                     \n",
       "2                CASADO  70 a 74 anos                     \n",
       "3                CASADO  70 a 74 anos                     \n",
       "4                CASADO  70 a 74 anos                     \n",
       "...                 ...                             ...   \n",
       "4248331          CASADO  55 a 59 anos                     \n",
       "4248332          CASADO  55 a 59 anos                     \n",
       "4248333          CASADO  55 a 59 anos                     \n",
       "4248334          CASADO  60 a 64 anos                     \n",
       "4248335          CASADO  60 a 64 anos                     \n",
       "\n",
       "                  DS_GRAU_ESCOLARIDADE  QT_ELEITORES_PERFIL  \n",
       "0        ENSINO FUNDAMENTAL INCOMPLETO                   47  \n",
       "1          ENSINO FUNDAMENTAL COMPLETO                    5  \n",
       "2              ENSINO MÉDIO INCOMPLETO                    1  \n",
       "3                ENSINO MÉDIO COMPLETO                   10  \n",
       "4                    SUPERIOR COMPLETO                   23  \n",
       "...                                ...                  ...  \n",
       "4248331          ENSINO MÉDIO COMPLETO                  512  \n",
       "4248332            SUPERIOR INCOMPLETO                   41  \n",
       "4248333              SUPERIOR COMPLETO                  323  \n",
       "4248334                     ANALFABETO                   26  \n",
       "4248335                   LÊ E ESCREVE                  251  \n",
       "\n",
       "[639502 rows x 9 columns]"
      ]
     },
     "execution_count": 11,
     "metadata": {},
     "output_type": "execute_result"
    }
   ],
   "source": [
    "#Buscando e retornando quais linhas possuem SP como UF/Estado\n",
    "dados_eleitorado_sp = dados_eleitorado.loc[dados_eleitorado['SG_UF'] == 'SP']\n",
    "dados_eleitorado_sp"
   ]
  },
  {
   "cell_type": "markdown",
   "id": "9ee73abb",
   "metadata": {
    "papermill": {
     "duration": 0.016585,
     "end_time": "2023-08-20T21:39:48.899835",
     "exception": false,
     "start_time": "2023-08-20T21:39:48.883250",
     "status": "completed"
    },
    "tags": []
   },
   "source": [
    "\n",
    "<div style=\"font-size: 32px;font-family:Inter\"><b>Analisando se há alguma anomalia nas colunas(erros gramaticais, valores inválidos ou não informados)</b></div>\n",
    "<hr style=\"height:6px; background-color:#5A5A5A\"></hr>"
   ]
  },
  {
   "cell_type": "code",
   "execution_count": 12,
   "id": "bd47fd44",
   "metadata": {
    "execution": {
     "iopub.execute_input": "2023-08-20T21:39:48.935851Z",
     "iopub.status.busy": "2023-08-20T21:39:48.934746Z",
     "iopub.status.idle": "2023-08-20T21:39:48.948633Z",
     "shell.execute_reply": "2023-08-20T21:39:48.947540Z"
    },
    "papermill": {
     "duration": 0.034068,
     "end_time": "2023-08-20T21:39:48.950716",
     "exception": false,
     "start_time": "2023-08-20T21:39:48.916648",
     "status": "completed"
    },
    "tags": []
   },
   "outputs": [
    {
     "name": "stdout",
     "output_type": "stream",
     "text": [
      "2020    639502\n",
      "Name: ANO_ELEICAO, dtype: int64\n"
     ]
    }
   ],
   "source": [
    "print(dados_eleitorado_sp['ANO_ELEICAO'].value_counts()) #Retorna o total de aparições de cada classe colunar\n",
    "\n",
    "#Tudo ok! Como os dados são de 2020, apenas este valor está aparecendo."
   ]
  },
  {
   "cell_type": "code",
   "execution_count": 13,
   "id": "194906a7",
   "metadata": {
    "execution": {
     "iopub.execute_input": "2023-08-20T21:39:48.986954Z",
     "iopub.status.busy": "2023-08-20T21:39:48.986170Z",
     "iopub.status.idle": "2023-08-20T21:39:49.040728Z",
     "shell.execute_reply": "2023-08-20T21:39:49.039678Z"
    },
    "papermill": {
     "duration": 0.075043,
     "end_time": "2023-08-20T21:39:49.042915",
     "exception": false,
     "start_time": "2023-08-20T21:39:48.967872",
     "status": "completed"
    },
    "tags": []
   },
   "outputs": [
    {
     "name": "stdout",
     "output_type": "stream",
     "text": [
      "SP    639502\n",
      "Name: SG_UF, dtype: int64\n"
     ]
    }
   ],
   "source": [
    "print(dados_eleitorado_sp['SG_UF'].value_counts())\n",
    "\n",
    "#Tudo ok! Como o foco é o estado de SP, apenas este valor está aparecendo."
   ]
  },
  {
   "cell_type": "code",
   "execution_count": 14,
   "id": "07d7a808",
   "metadata": {
    "execution": {
     "iopub.execute_input": "2023-08-20T21:39:49.078921Z",
     "iopub.status.busy": "2023-08-20T21:39:49.077966Z",
     "iopub.status.idle": "2023-08-20T21:39:49.092160Z",
     "shell.execute_reply": "2023-08-20T21:39:49.090992Z"
    },
    "papermill": {
     "duration": 0.034476,
     "end_time": "2023-08-20T21:39:49.094224",
     "exception": false,
     "start_time": "2023-08-20T21:39:49.059748",
     "status": "completed"
    },
    "tags": []
   },
   "outputs": [
    {
     "name": "stdout",
     "output_type": "stream",
     "text": [
      "71072    66836\n",
      "62910     8202\n",
      "64777     6829\n",
      "70572     6542\n",
      "70750     6434\n",
      "         ...  \n",
      "62227      378\n",
      "61883      376\n",
      "62120      358\n",
      "62367      321\n",
      "62430      321\n",
      "Name: CD_MUNICIPIO, Length: 645, dtype: int64\n"
     ]
    }
   ],
   "source": [
    "print(dados_eleitorado_sp['CD_MUNICIPIO'].value_counts()) #Retorna o total de aparições de cada classe colunar"
   ]
  },
  {
   "cell_type": "code",
   "execution_count": 15,
   "id": "3c04b9fe",
   "metadata": {
    "execution": {
     "iopub.execute_input": "2023-08-20T21:39:49.129899Z",
     "iopub.status.busy": "2023-08-20T21:39:49.129218Z",
     "iopub.status.idle": "2023-08-20T21:39:49.181937Z",
     "shell.execute_reply": "2023-08-20T21:39:49.180469Z"
    },
    "papermill": {
     "duration": 0.072982,
     "end_time": "2023-08-20T21:39:49.184041",
     "exception": false,
     "start_time": "2023-08-20T21:39:49.111059",
     "status": "completed"
    },
    "tags": []
   },
   "outputs": [
    {
     "name": "stdout",
     "output_type": "stream",
     "text": [
      "SÃO PAULO                66836\n",
      "CAMPINAS                  8202\n",
      "GUARULHOS                 6829\n",
      "SANTO ANDRÉ               6542\n",
      "SÃO BERNARDO DO CAMPO     6434\n",
      "                         ...  \n",
      "VITÓRIA BRASIL             378\n",
      "SÃO JOÃO DE IRACEMA        376\n",
      "PRACINHA                   358\n",
      "NOVA CASTILHO              321\n",
      "BORÁ                       321\n",
      "Name: NM_MUNICIPIO, Length: 645, dtype: int64\n"
     ]
    }
   ],
   "source": [
    "print(dados_eleitorado_sp['NM_MUNICIPIO'].value_counts())\n",
    "\n",
    "#Municípios sem erros gramaticais e valores inválidos"
   ]
  },
  {
   "cell_type": "code",
   "execution_count": 16,
   "id": "80b85d38",
   "metadata": {
    "execution": {
     "iopub.execute_input": "2023-08-20T21:39:49.220383Z",
     "iopub.status.busy": "2023-08-20T21:39:49.219482Z",
     "iopub.status.idle": "2023-08-20T21:39:49.277074Z",
     "shell.execute_reply": "2023-08-20T21:39:49.275906Z"
    },
    "papermill": {
     "duration": 0.078147,
     "end_time": "2023-08-20T21:39:49.279439",
     "exception": false,
     "start_time": "2023-08-20T21:39:49.201292",
     "status": "completed"
    },
    "tags": []
   },
   "outputs": [
    {
     "name": "stdout",
     "output_type": "stream",
     "text": [
      "FEMININO         332266\n",
      "MASCULINO        302334\n",
      "NÃO INFORMADO      4902\n",
      "Name: DS_GENERO, dtype: int64\n"
     ]
    }
   ],
   "source": [
    "print(dados_eleitorado_sp['DS_GENERO'].value_counts())\n",
    "\n",
    "#Há valores não informados que podem atrapalhar as análises. Coluna para tratar"
   ]
  },
  {
   "cell_type": "code",
   "execution_count": 17,
   "id": "a870576c",
   "metadata": {
    "execution": {
     "iopub.execute_input": "2023-08-20T21:39:49.315988Z",
     "iopub.status.busy": "2023-08-20T21:39:49.315145Z",
     "iopub.status.idle": "2023-08-20T21:39:49.370638Z",
     "shell.execute_reply": "2023-08-20T21:39:49.369600Z"
    },
    "papermill": {
     "duration": 0.077003,
     "end_time": "2023-08-20T21:39:49.373624",
     "exception": false,
     "start_time": "2023-08-20T21:39:49.296621",
     "status": "completed"
    },
    "tags": []
   },
   "outputs": [
    {
     "name": "stdout",
     "output_type": "stream",
     "text": [
      "SOLTEIRO                  181901\n",
      "CASADO                    172563\n",
      "DIVORCIADO                107375\n",
      "VIÚVO                      93741\n",
      "SEPARADO JUDICIALMENTE     76379\n",
      "NÃO INFORMADO               7543\n",
      "Name: DS_ESTADO_CIVIL, dtype: int64\n"
     ]
    }
   ],
   "source": [
    "print(dados_eleitorado_sp['DS_ESTADO_CIVIL'].value_counts())\n",
    "\n",
    "#Há valores não informados que podem atrapalhar as análises. Coluna para tratar"
   ]
  },
  {
   "cell_type": "code",
   "execution_count": 18,
   "id": "43a66e09",
   "metadata": {
    "execution": {
     "iopub.execute_input": "2023-08-20T21:39:49.409526Z",
     "iopub.status.busy": "2023-08-20T21:39:49.409160Z",
     "iopub.status.idle": "2023-08-20T21:39:49.465382Z",
     "shell.execute_reply": "2023-08-20T21:39:49.464394Z"
    },
    "papermill": {
     "duration": 0.076864,
     "end_time": "2023-08-20T21:39:49.467790",
     "exception": false,
     "start_time": "2023-08-20T21:39:49.390926",
     "status": "completed"
    },
    "tags": []
   },
   "outputs": [
    {
     "name": "stdout",
     "output_type": "stream",
     "text": [
      "55 a 59 anos                      51824\n",
      "60 a 64 anos                      51538\n",
      "50 a 54 anos                      49890\n",
      "65 a 69 anos                      49739\n",
      "45 a 49 anos                      46555\n",
      "70 a 74 anos                      45659\n",
      "40 a 44 anos                      43636\n",
      "75 a 79 anos                      39896\n",
      "35 a 39 anos                      39191\n",
      "80 a 84 anos                      33812\n",
      "30 a 34 anos                      33540\n",
      "25 a 29 anos                      28122\n",
      "85 a 89 anos                      26486\n",
      "21 a 24 anos                      20954\n",
      "90 a 94 anos                      20669\n",
      "95 a 99 anos                      15128\n",
      "20 anos                           11184\n",
      "19 anos                            9940\n",
      "18 anos                            7720\n",
      "100 anos ou mais                   6136\n",
      "17 anos                            5185\n",
      "16 anos                            2430\n",
      "Inválido                            268\n",
      "Name: DS_FAIXA_ETARIA, dtype: int64\n"
     ]
    }
   ],
   "source": [
    "print(dados_eleitorado_sp['DS_FAIXA_ETARIA'].value_counts())\n",
    "\n",
    "#Há valores inválidos que podem atrapalhar as análises. Coluna para tratar"
   ]
  },
  {
   "cell_type": "code",
   "execution_count": 19,
   "id": "a777a3be",
   "metadata": {
    "execution": {
     "iopub.execute_input": "2023-08-20T21:39:49.504994Z",
     "iopub.status.busy": "2023-08-20T21:39:49.504368Z",
     "iopub.status.idle": "2023-08-20T21:39:49.563633Z",
     "shell.execute_reply": "2023-08-20T21:39:49.562529Z"
    },
    "papermill": {
     "duration": 0.080497,
     "end_time": "2023-08-20T21:39:49.565911",
     "exception": false,
     "start_time": "2023-08-20T21:39:49.485414",
     "status": "completed"
    },
    "tags": []
   },
   "outputs": [
    {
     "name": "stdout",
     "output_type": "stream",
     "text": [
      "ENSINO FUNDAMENTAL INCOMPLETO    105105\n",
      "ENSINO MÉDIO COMPLETO             93328\n",
      "ENSINO FUNDAMENTAL COMPLETO       83955\n",
      "LÊ E ESCREVE                      77219\n",
      "SUPERIOR COMPLETO                 76723\n",
      "ENSINO MÉDIO INCOMPLETO           75604\n",
      "ANALFABETO                        68972\n",
      "SUPERIOR INCOMPLETO               58592\n",
      "NÃO INFORMADO                         4\n",
      "Name: DS_GRAU_ESCOLARIDADE, dtype: int64\n"
     ]
    }
   ],
   "source": [
    "print(dados_eleitorado_sp['DS_GRAU_ESCOLARIDADE'].value_counts())\n",
    "\n",
    "#Há valores não informados que podem atrapalhar as análises. Coluna para tratar"
   ]
  },
  {
   "cell_type": "code",
   "execution_count": 20,
   "id": "135dc9b4",
   "metadata": {
    "execution": {
     "iopub.execute_input": "2023-08-20T21:39:49.603181Z",
     "iopub.status.busy": "2023-08-20T21:39:49.602531Z",
     "iopub.status.idle": "2023-08-20T21:39:49.616370Z",
     "shell.execute_reply": "2023-08-20T21:39:49.614877Z"
    },
    "papermill": {
     "duration": 0.034928,
     "end_time": "2023-08-20T21:39:49.618608",
     "exception": false,
     "start_time": "2023-08-20T21:39:49.583680",
     "status": "completed"
    },
    "tags": []
   },
   "outputs": [
    {
     "name": "stdout",
     "output_type": "stream",
     "text": [
      "1       130114\n",
      "2        67309\n",
      "3        44652\n",
      "4        33103\n",
      "5        25972\n",
      "         ...  \n",
      "3512         1\n",
      "3041         1\n",
      "2078         1\n",
      "3105         1\n",
      "1893         1\n",
      "Name: QT_ELEITORES_PERFIL, Length: 2609, dtype: int64\n"
     ]
    }
   ],
   "source": [
    "print(dados_eleitorado_sp['QT_ELEITORES_PERFIL'].value_counts()) #Retorna o total de aparições de cada classe colunar"
   ]
  },
  {
   "cell_type": "markdown",
   "id": "2f08eb48",
   "metadata": {
    "papermill": {
     "duration": 0.017286,
     "end_time": "2023-08-20T21:39:49.653612",
     "exception": false,
     "start_time": "2023-08-20T21:39:49.636326",
     "status": "completed"
    },
    "tags": []
   },
   "source": [
    "<div style=\"font-size: 23px; font-family:Inter\"><b>Conclusão:</b> Há algumas colunas que possuem valores inválidos, ou não informados, que acabam por\n",
    "poluir a base de dados. Para resolver este problema, deve-se substituir os dados categóricos inválidos pelo valor que mais se repete na coluna(moda).</div>"
   ]
  },
  {
   "cell_type": "code",
   "execution_count": 21,
   "id": "3abcd3ad",
   "metadata": {
    "execution": {
     "iopub.execute_input": "2023-08-20T21:39:49.691330Z",
     "iopub.status.busy": "2023-08-20T21:39:49.690705Z",
     "iopub.status.idle": "2023-08-20T21:39:49.697426Z",
     "shell.execute_reply": "2023-08-20T21:39:49.696500Z"
    },
    "papermill": {
     "duration": 0.028169,
     "end_time": "2023-08-20T21:39:49.699656",
     "exception": false,
     "start_time": "2023-08-20T21:39:49.671487",
     "status": "completed"
    },
    "tags": []
   },
   "outputs": [],
   "source": [
    "def substituir_dados_invalidos_pela_moda(df, coluna, dado_nao_nulo=None):\n",
    "    \"\"\"\n",
    "    Substitui valores específicos ou nulos em uma coluna categórica pelo valor mais frequente (moda).\n",
    "    \n",
    "    Parâmetros:\n",
    "        - df: Um conjunto de dados (DataFrame) no formato do Pandas.\n",
    "        - coluna: O nome da coluna categórica que será tratada.\n",
    "        - dado_nao_nulo: Um valor específico da coluna que você deseja substituir.\n",
    "          Pode ser deixado em branco (None) se não quiser fazer essa substituição.\n",
    "    \n",
    "    Retorna:\n",
    "        Um novo DataFrame onde os valores inválidos foram substituídos pela moda da coluna.\n",
    "    \"\"\"\n",
    "    # Calcula a moda da coluna para encontrar o valor mais frequente\n",
    "    moda = df[coluna].mode()[0]\n",
    "    \n",
    "    # Se um valor específico para substituição for fornecido, ele é substituído pela moda\n",
    "    if dado_nao_nulo:\n",
    "        df[coluna] = df[coluna].str.replace(dado_nao_nulo, moda)\n",
    "    \n",
    "    # Preenche os valores ausentes (NaN) com a moda, para garantir que não haja valores inválidos restantes\n",
    "    df[coluna].fillna(moda, inplace=True)\n",
    "    \n",
    "    # Retorna o DataFrame atualizado com os valores tratados\n",
    "    return df\n"
   ]
  },
  {
   "cell_type": "code",
   "execution_count": 22,
   "id": "da1fa5ff",
   "metadata": {
    "execution": {
     "iopub.execute_input": "2023-08-20T21:39:49.736593Z",
     "iopub.status.busy": "2023-08-20T21:39:49.736235Z",
     "iopub.status.idle": "2023-08-20T21:39:50.277193Z",
     "shell.execute_reply": "2023-08-20T21:39:50.276405Z"
    },
    "papermill": {
     "duration": 0.561927,
     "end_time": "2023-08-20T21:39:50.279257",
     "exception": false,
     "start_time": "2023-08-20T21:39:49.717330",
     "status": "completed"
    },
    "tags": []
   },
   "outputs": [
    {
     "data": {
      "text/plain": [
       "SOLTEIRO                  189444\n",
       "CASADO                    172563\n",
       "DIVORCIADO                107375\n",
       "VIÚVO                      93741\n",
       "SEPARADO JUDICIALMENTE     76379\n",
       "Name: DS_ESTADO_CIVIL, dtype: int64"
      ]
     },
     "execution_count": 22,
     "metadata": {},
     "output_type": "execute_result"
    }
   ],
   "source": [
    "#Aplicando a função na coluna DS_ESTADO_CIVIL para remover o dado \"NÃO INFORMADO\"\n",
    "substituir_dados_invalidos_pela_moda(dados_eleitorado_sp, \"DS_ESTADO_CIVIL\", dado_nao_nulo = 'NÃO INFORMADO')\n",
    "dados_eleitorado_sp['DS_ESTADO_CIVIL'].value_counts()"
   ]
  },
  {
   "cell_type": "code",
   "execution_count": 23,
   "id": "1e834afd",
   "metadata": {
    "execution": {
     "iopub.execute_input": "2023-08-20T21:39:50.316382Z",
     "iopub.status.busy": "2023-08-20T21:39:50.315769Z",
     "iopub.status.idle": "2023-08-20T21:39:50.883303Z",
     "shell.execute_reply": "2023-08-20T21:39:50.882458Z"
    },
    "papermill": {
     "duration": 0.588183,
     "end_time": "2023-08-20T21:39:50.885279",
     "exception": false,
     "start_time": "2023-08-20T21:39:50.297096",
     "status": "completed"
    },
    "tags": []
   },
   "outputs": [
    {
     "data": {
      "text/plain": [
       "ENSINO FUNDAMENTAL INCOMPLETO    105109\n",
       "ENSINO MÉDIO COMPLETO             93328\n",
       "ENSINO FUNDAMENTAL COMPLETO       83955\n",
       "LÊ E ESCREVE                      77219\n",
       "SUPERIOR COMPLETO                 76723\n",
       "ENSINO MÉDIO INCOMPLETO           75604\n",
       "ANALFABETO                        68972\n",
       "SUPERIOR INCOMPLETO               58592\n",
       "Name: DS_GRAU_ESCOLARIDADE, dtype: int64"
      ]
     },
     "execution_count": 23,
     "metadata": {},
     "output_type": "execute_result"
    }
   ],
   "source": [
    "#Aplicando a função na coluna DS_GRAU_ESCOLARIDADE para remover o dado \"NÃO INFORMADO\"\n",
    "substituir_dados_invalidos_pela_moda(dados_eleitorado_sp, \"DS_GRAU_ESCOLARIDADE\", dado_nao_nulo = 'NÃO INFORMADO')\n",
    "dados_eleitorado_sp['DS_GRAU_ESCOLARIDADE'].value_counts()"
   ]
  },
  {
   "cell_type": "code",
   "execution_count": 24,
   "id": "c7942a73",
   "metadata": {
    "execution": {
     "iopub.execute_input": "2023-08-20T21:39:50.922960Z",
     "iopub.status.busy": "2023-08-20T21:39:50.922294Z",
     "iopub.status.idle": "2023-08-20T21:39:51.463817Z",
     "shell.execute_reply": "2023-08-20T21:39:51.462638Z"
    },
    "papermill": {
     "duration": 0.562835,
     "end_time": "2023-08-20T21:39:51.466095",
     "exception": false,
     "start_time": "2023-08-20T21:39:50.903260",
     "status": "completed"
    },
    "tags": []
   },
   "outputs": [
    {
     "data": {
      "text/plain": [
       "55 a 59 anos                                            51824\n",
       "60 a 64 anos                                            51538\n",
       "50 a 54 anos                                            49890\n",
       "65 a 69 anos                                            49739\n",
       "45 a 49 anos                                            46555\n",
       "70 a 74 anos                                            45659\n",
       "40 a 44 anos                                            43636\n",
       "75 a 79 anos                                            39896\n",
       "35 a 39 anos                                            39191\n",
       "80 a 84 anos                                            33812\n",
       "30 a 34 anos                                            33540\n",
       "25 a 29 anos                                            28122\n",
       "85 a 89 anos                                            26486\n",
       "21 a 24 anos                                            20954\n",
       "90 a 94 anos                                            20669\n",
       "95 a 99 anos                                            15128\n",
       "20 anos                                                 11184\n",
       "19 anos                                                  9940\n",
       "18 anos                                                  7720\n",
       "100 anos ou mais                                         6136\n",
       "17 anos                                                  5185\n",
       "16 anos                                                  2430\n",
       "55 a 59 anos                                              268\n",
       "Name: DS_FAIXA_ETARIA, dtype: int64"
      ]
     },
     "execution_count": 24,
     "metadata": {},
     "output_type": "execute_result"
    }
   ],
   "source": [
    "#Aplicando a função na coluna DS_FAIXA_ETARIA para remover o dado \"Inválido\"\n",
    "substituir_dados_invalidos_pela_moda(dados_eleitorado_sp, \"DS_FAIXA_ETARIA\", dado_nao_nulo = 'Inválido')\n",
    "dados_eleitorado_sp['DS_FAIXA_ETARIA'].value_counts()"
   ]
  },
  {
   "cell_type": "markdown",
   "id": "63f88b0c",
   "metadata": {
    "papermill": {
     "duration": 0.017505,
     "end_time": "2023-08-20T21:39:51.501467",
     "exception": false,
     "start_time": "2023-08-20T21:39:51.483962",
     "status": "completed"
    },
    "tags": []
   },
   "source": [
    "<div style=\"font-size: 20px; font-family:Inter\"><b>Temos uma coluna em particular que é a de Gênero. Essa coluna possui uma distribuição com proporção de 52.4% para o sexo feminino e 47.6% para o sexo masculino. Para continuar mantendo essa proporção, os valores não informados, ao invés de serem substituídos pela moda e pesarem muito em uma classe(já que são apenas duas), vou realizar a separação desse valor exatamente de acordo com a proporção dos dados.</b></div>"
   ]
  },
  {
   "cell_type": "code",
   "execution_count": 25,
   "id": "713f7f61",
   "metadata": {
    "execution": {
     "iopub.execute_input": "2023-08-20T21:39:51.538894Z",
     "iopub.status.busy": "2023-08-20T21:39:51.538509Z",
     "iopub.status.idle": "2023-08-20T21:39:51.599510Z",
     "shell.execute_reply": "2023-08-20T21:39:51.598369Z"
    },
    "papermill": {
     "duration": 0.081897,
     "end_time": "2023-08-20T21:39:51.601474",
     "exception": false,
     "start_time": "2023-08-20T21:39:51.519577",
     "status": "completed"
    },
    "tags": []
   },
   "outputs": [
    {
     "data": {
      "text/plain": [
       "FEMININO         51.96\n",
       "MASCULINO        47.28\n",
       "NÃO INFORMADO     0.77\n",
       "Name: DS_GENERO, dtype: float64"
      ]
     },
     "execution_count": 25,
     "metadata": {},
     "output_type": "execute_result"
    }
   ],
   "source": [
    "value_counts = dados_eleitorado_sp['DS_GENERO'].value_counts()\n",
    "\"\"\"\n",
    "Obtendo uma noção da porcentagem de valores da coluna de gênero.\n",
    "Para isso, contamos todos os valores e dividimos pelo total de linhas,\n",
    "multiplicando por 100 para obter o valor em %. round para arredondar as casas decimais em duas\n",
    "\"\"\"\n",
    "percentages = (value_counts / len(dados_eleitorado_sp['DS_GENERO']) * 100).round(2)\n",
    "percentages\n"
   ]
  },
  {
   "cell_type": "code",
   "execution_count": 26,
   "id": "f64d340f",
   "metadata": {
    "execution": {
     "iopub.execute_input": "2023-08-20T21:39:51.639380Z",
     "iopub.status.busy": "2023-08-20T21:39:51.638977Z",
     "iopub.status.idle": "2023-08-20T21:39:51.743979Z",
     "shell.execute_reply": "2023-08-20T21:39:51.743194Z"
    },
    "papermill": {
     "duration": 0.126415,
     "end_time": "2023-08-20T21:39:51.746172",
     "exception": false,
     "start_time": "2023-08-20T21:39:51.619757",
     "status": "completed"
    },
    "tags": []
   },
   "outputs": [
    {
     "name": "stdout",
     "output_type": "stream",
     "text": [
      "FEMININO     334823\n",
      "MASCULINO    304679\n",
      "Name: DS_GENERO, dtype: int64\n"
     ]
    }
   ],
   "source": [
    "#Mudança da semente aleatória randômica para manter os resultados em várias execuções\n",
    "np.random.seed(2345)\n",
    "\n",
    "#Gerar amostra de 'Feminino' e 'Masculino'\n",
    "amostra_nao_informado = np.random.choice(\n",
    "                        a=['FEMININO','MASCULINO'], #Valores que serão distribuídos\n",
    "                        size=4902, #tamanho da amostra(mesma quantidade de 'NÃO INFORMADO' do DataFrame) \n",
    "                        replace=True, #salvar as mudanças\n",
    "                        p=[0.524,0.476]) #Probabilidades FEM. e MASC.\n",
    "\n",
    "# Substituir os valores 'NÃO INFORMADO' no DataFrame\n",
    "dados_eleitorado_sp.loc[dados_eleitorado_sp['DS_GENERO'] == 'NÃO INFORMADO', 'DS_GENERO'] = amostra_nao_informado\n",
    "\n",
    "# Verificar o resultado\n",
    "print(dados_eleitorado_sp['DS_GENERO'].value_counts())\n"
   ]
  },
  {
   "cell_type": "markdown",
   "id": "1e4885d3",
   "metadata": {
    "papermill": {
     "duration": 0.017633,
     "end_time": "2023-08-20T21:39:51.782071",
     "exception": false,
     "start_time": "2023-08-20T21:39:51.764438",
     "status": "completed"
    },
    "tags": []
   },
   "source": [
    "<div style=\"font-size: 32px;font-family:Inter\"><b>Removendo linhas duplicatas</b></div>\n",
    "<hr style=\"height:6px; background-color:#5A5A5A\"></hr>"
   ]
  },
  {
   "cell_type": "code",
   "execution_count": 27,
   "id": "a697b171",
   "metadata": {
    "execution": {
     "iopub.execute_input": "2023-08-20T21:39:51.819845Z",
     "iopub.status.busy": "2023-08-20T21:39:51.819104Z",
     "iopub.status.idle": "2023-08-20T21:39:51.825154Z",
     "shell.execute_reply": "2023-08-20T21:39:51.823879Z"
    },
    "papermill": {
     "duration": 0.027327,
     "end_time": "2023-08-20T21:39:51.827207",
     "exception": false,
     "start_time": "2023-08-20T21:39:51.799880",
     "status": "completed"
    },
    "tags": []
   },
   "outputs": [
    {
     "data": {
      "text/plain": [
       "(639502, 9)"
      ]
     },
     "execution_count": 27,
     "metadata": {},
     "output_type": "execute_result"
    }
   ],
   "source": [
    "dados_eleitorado_sp.shape"
   ]
  },
  {
   "cell_type": "code",
   "execution_count": 28,
   "id": "8b900fcb",
   "metadata": {
    "execution": {
     "iopub.execute_input": "2023-08-20T21:39:51.864892Z",
     "iopub.status.busy": "2023-08-20T21:39:51.864501Z",
     "iopub.status.idle": "2023-08-20T21:39:52.301231Z",
     "shell.execute_reply": "2023-08-20T21:39:52.300113Z"
    },
    "papermill": {
     "duration": 0.458517,
     "end_time": "2023-08-20T21:39:52.303829",
     "exception": false,
     "start_time": "2023-08-20T21:39:51.845312",
     "status": "completed"
    },
    "tags": []
   },
   "outputs": [],
   "source": [
    "dados_eleitorado_sp = dados_eleitorado_sp.drop_duplicates() #Retirando valores duplicados"
   ]
  },
  {
   "cell_type": "code",
   "execution_count": 29,
   "id": "f1b07368",
   "metadata": {
    "execution": {
     "iopub.execute_input": "2023-08-20T21:39:52.342087Z",
     "iopub.status.busy": "2023-08-20T21:39:52.341721Z",
     "iopub.status.idle": "2023-08-20T21:39:52.348000Z",
     "shell.execute_reply": "2023-08-20T21:39:52.347083Z"
    },
    "papermill": {
     "duration": 0.027921,
     "end_time": "2023-08-20T21:39:52.349959",
     "exception": false,
     "start_time": "2023-08-20T21:39:52.322038",
     "status": "completed"
    },
    "tags": []
   },
   "outputs": [
    {
     "data": {
      "text/plain": [
       "(599569, 9)"
      ]
     },
     "execution_count": 29,
     "metadata": {},
     "output_type": "execute_result"
    }
   ],
   "source": [
    "dados_eleitorado_sp.shape #Visualizando novo total de linhas"
   ]
  },
  {
   "cell_type": "code",
   "execution_count": 30,
   "id": "f135556f",
   "metadata": {
    "execution": {
     "iopub.execute_input": "2023-08-20T21:39:52.388027Z",
     "iopub.status.busy": "2023-08-20T21:39:52.387640Z",
     "iopub.status.idle": "2023-08-20T21:39:52.404886Z",
     "shell.execute_reply": "2023-08-20T21:39:52.403880Z"
    },
    "papermill": {
     "duration": 0.038934,
     "end_time": "2023-08-20T21:39:52.406998",
     "exception": false,
     "start_time": "2023-08-20T21:39:52.368064",
     "status": "completed"
    },
    "tags": []
   },
   "outputs": [
    {
     "data": {
      "text/html": [
       "<div>\n",
       "<style scoped>\n",
       "    .dataframe tbody tr th:only-of-type {\n",
       "        vertical-align: middle;\n",
       "    }\n",
       "\n",
       "    .dataframe tbody tr th {\n",
       "        vertical-align: top;\n",
       "    }\n",
       "\n",
       "    .dataframe thead th {\n",
       "        text-align: right;\n",
       "    }\n",
       "</style>\n",
       "<table border=\"1\" class=\"dataframe\">\n",
       "  <thead>\n",
       "    <tr style=\"text-align: right;\">\n",
       "      <th></th>\n",
       "      <th>ANO_ELEICAO</th>\n",
       "      <th>SG_UF</th>\n",
       "      <th>CD_MUNICIPIO</th>\n",
       "      <th>NM_MUNICIPIO</th>\n",
       "      <th>DS_GENERO</th>\n",
       "      <th>DS_ESTADO_CIVIL</th>\n",
       "      <th>DS_FAIXA_ETARIA</th>\n",
       "      <th>DS_GRAU_ESCOLARIDADE</th>\n",
       "      <th>QT_ELEITORES_PERFIL</th>\n",
       "    </tr>\n",
       "  </thead>\n",
       "  <tbody>\n",
       "    <tr>\n",
       "      <th>0</th>\n",
       "      <td>2020</td>\n",
       "      <td>SP</td>\n",
       "      <td>70734</td>\n",
       "      <td>SÃO BENTO DO SAPUCAÍ</td>\n",
       "      <td>FEMININO</td>\n",
       "      <td>CASADO</td>\n",
       "      <td>70 a 74 anos</td>\n",
       "      <td>ENSINO FUNDAMENTAL INCOMPLETO</td>\n",
       "      <td>47</td>\n",
       "    </tr>\n",
       "    <tr>\n",
       "      <th>1</th>\n",
       "      <td>2020</td>\n",
       "      <td>SP</td>\n",
       "      <td>70734</td>\n",
       "      <td>SÃO BENTO DO SAPUCAÍ</td>\n",
       "      <td>FEMININO</td>\n",
       "      <td>CASADO</td>\n",
       "      <td>70 a 74 anos</td>\n",
       "      <td>ENSINO FUNDAMENTAL COMPLETO</td>\n",
       "      <td>5</td>\n",
       "    </tr>\n",
       "    <tr>\n",
       "      <th>2</th>\n",
       "      <td>2020</td>\n",
       "      <td>SP</td>\n",
       "      <td>70734</td>\n",
       "      <td>SÃO BENTO DO SAPUCAÍ</td>\n",
       "      <td>FEMININO</td>\n",
       "      <td>CASADO</td>\n",
       "      <td>70 a 74 anos</td>\n",
       "      <td>ENSINO MÉDIO INCOMPLETO</td>\n",
       "      <td>1</td>\n",
       "    </tr>\n",
       "    <tr>\n",
       "      <th>3</th>\n",
       "      <td>2020</td>\n",
       "      <td>SP</td>\n",
       "      <td>70734</td>\n",
       "      <td>SÃO BENTO DO SAPUCAÍ</td>\n",
       "      <td>FEMININO</td>\n",
       "      <td>CASADO</td>\n",
       "      <td>70 a 74 anos</td>\n",
       "      <td>ENSINO MÉDIO COMPLETO</td>\n",
       "      <td>10</td>\n",
       "    </tr>\n",
       "    <tr>\n",
       "      <th>4</th>\n",
       "      <td>2020</td>\n",
       "      <td>SP</td>\n",
       "      <td>70734</td>\n",
       "      <td>SÃO BENTO DO SAPUCAÍ</td>\n",
       "      <td>FEMININO</td>\n",
       "      <td>CASADO</td>\n",
       "      <td>70 a 74 anos</td>\n",
       "      <td>SUPERIOR COMPLETO</td>\n",
       "      <td>23</td>\n",
       "    </tr>\n",
       "    <tr>\n",
       "      <th>...</th>\n",
       "      <td>...</td>\n",
       "      <td>...</td>\n",
       "      <td>...</td>\n",
       "      <td>...</td>\n",
       "      <td>...</td>\n",
       "      <td>...</td>\n",
       "      <td>...</td>\n",
       "      <td>...</td>\n",
       "      <td>...</td>\n",
       "    </tr>\n",
       "    <tr>\n",
       "      <th>4248331</th>\n",
       "      <td>2020</td>\n",
       "      <td>SP</td>\n",
       "      <td>72451</td>\n",
       "      <td>VOTUPORANGA</td>\n",
       "      <td>MASCULINO</td>\n",
       "      <td>CASADO</td>\n",
       "      <td>55 a 59 anos</td>\n",
       "      <td>ENSINO MÉDIO COMPLETO</td>\n",
       "      <td>512</td>\n",
       "    </tr>\n",
       "    <tr>\n",
       "      <th>4248332</th>\n",
       "      <td>2020</td>\n",
       "      <td>SP</td>\n",
       "      <td>72451</td>\n",
       "      <td>VOTUPORANGA</td>\n",
       "      <td>MASCULINO</td>\n",
       "      <td>CASADO</td>\n",
       "      <td>55 a 59 anos</td>\n",
       "      <td>SUPERIOR INCOMPLETO</td>\n",
       "      <td>41</td>\n",
       "    </tr>\n",
       "    <tr>\n",
       "      <th>4248333</th>\n",
       "      <td>2020</td>\n",
       "      <td>SP</td>\n",
       "      <td>72451</td>\n",
       "      <td>VOTUPORANGA</td>\n",
       "      <td>MASCULINO</td>\n",
       "      <td>CASADO</td>\n",
       "      <td>55 a 59 anos</td>\n",
       "      <td>SUPERIOR COMPLETO</td>\n",
       "      <td>323</td>\n",
       "    </tr>\n",
       "    <tr>\n",
       "      <th>4248334</th>\n",
       "      <td>2020</td>\n",
       "      <td>SP</td>\n",
       "      <td>72451</td>\n",
       "      <td>VOTUPORANGA</td>\n",
       "      <td>MASCULINO</td>\n",
       "      <td>CASADO</td>\n",
       "      <td>60 a 64 anos</td>\n",
       "      <td>ANALFABETO</td>\n",
       "      <td>26</td>\n",
       "    </tr>\n",
       "    <tr>\n",
       "      <th>4248335</th>\n",
       "      <td>2020</td>\n",
       "      <td>SP</td>\n",
       "      <td>72451</td>\n",
       "      <td>VOTUPORANGA</td>\n",
       "      <td>MASCULINO</td>\n",
       "      <td>CASADO</td>\n",
       "      <td>60 a 64 anos</td>\n",
       "      <td>LÊ E ESCREVE</td>\n",
       "      <td>251</td>\n",
       "    </tr>\n",
       "  </tbody>\n",
       "</table>\n",
       "<p>599569 rows × 9 columns</p>\n",
       "</div>"
      ],
      "text/plain": [
       "         ANO_ELEICAO SG_UF  CD_MUNICIPIO          NM_MUNICIPIO  DS_GENERO  \\\n",
       "0               2020    SP         70734  SÃO BENTO DO SAPUCAÍ   FEMININO   \n",
       "1               2020    SP         70734  SÃO BENTO DO SAPUCAÍ   FEMININO   \n",
       "2               2020    SP         70734  SÃO BENTO DO SAPUCAÍ   FEMININO   \n",
       "3               2020    SP         70734  SÃO BENTO DO SAPUCAÍ   FEMININO   \n",
       "4               2020    SP         70734  SÃO BENTO DO SAPUCAÍ   FEMININO   \n",
       "...              ...   ...           ...                   ...        ...   \n",
       "4248331         2020    SP         72451           VOTUPORANGA  MASCULINO   \n",
       "4248332         2020    SP         72451           VOTUPORANGA  MASCULINO   \n",
       "4248333         2020    SP         72451           VOTUPORANGA  MASCULINO   \n",
       "4248334         2020    SP         72451           VOTUPORANGA  MASCULINO   \n",
       "4248335         2020    SP         72451           VOTUPORANGA  MASCULINO   \n",
       "\n",
       "        DS_ESTADO_CIVIL                 DS_FAIXA_ETARIA  \\\n",
       "0                CASADO  70 a 74 anos                     \n",
       "1                CASADO  70 a 74 anos                     \n",
       "2                CASADO  70 a 74 anos                     \n",
       "3                CASADO  70 a 74 anos                     \n",
       "4                CASADO  70 a 74 anos                     \n",
       "...                 ...                             ...   \n",
       "4248331          CASADO  55 a 59 anos                     \n",
       "4248332          CASADO  55 a 59 anos                     \n",
       "4248333          CASADO  55 a 59 anos                     \n",
       "4248334          CASADO  60 a 64 anos                     \n",
       "4248335          CASADO  60 a 64 anos                     \n",
       "\n",
       "                  DS_GRAU_ESCOLARIDADE  QT_ELEITORES_PERFIL  \n",
       "0        ENSINO FUNDAMENTAL INCOMPLETO                   47  \n",
       "1          ENSINO FUNDAMENTAL COMPLETO                    5  \n",
       "2              ENSINO MÉDIO INCOMPLETO                    1  \n",
       "3                ENSINO MÉDIO COMPLETO                   10  \n",
       "4                    SUPERIOR COMPLETO                   23  \n",
       "...                                ...                  ...  \n",
       "4248331          ENSINO MÉDIO COMPLETO                  512  \n",
       "4248332            SUPERIOR INCOMPLETO                   41  \n",
       "4248333              SUPERIOR COMPLETO                  323  \n",
       "4248334                     ANALFABETO                   26  \n",
       "4248335                   LÊ E ESCREVE                  251  \n",
       "\n",
       "[599569 rows x 9 columns]"
      ]
     },
     "execution_count": 30,
     "metadata": {},
     "output_type": "execute_result"
    }
   ],
   "source": [
    "dados_eleitorado_sp #Observando o arquivo"
   ]
  },
  {
   "cell_type": "markdown",
   "id": "e800be5a",
   "metadata": {
    "papermill": {
     "duration": 0.018423,
     "end_time": "2023-08-20T21:39:52.444318",
     "exception": false,
     "start_time": "2023-08-20T21:39:52.425895",
     "status": "completed"
    },
    "tags": []
   },
   "source": [
    "<div style=\"font-size: 32px;font-family:Inter\"><b>Resetando a coluna de ID(index)</b></div>\n",
    "<hr style=\"height:6px; background-color:#5A5A5A\"></hr>"
   ]
  },
  {
   "cell_type": "code",
   "execution_count": 31,
   "id": "5e2fb400",
   "metadata": {
    "execution": {
     "iopub.execute_input": "2023-08-20T21:39:52.484712Z",
     "iopub.status.busy": "2023-08-20T21:39:52.483919Z",
     "iopub.status.idle": "2023-08-20T21:39:52.518221Z",
     "shell.execute_reply": "2023-08-20T21:39:52.517427Z"
    },
    "papermill": {
     "duration": 0.0573,
     "end_time": "2023-08-20T21:39:52.520220",
     "exception": false,
     "start_time": "2023-08-20T21:39:52.462920",
     "status": "completed"
    },
    "tags": []
   },
   "outputs": [
    {
     "data": {
      "text/html": [
       "<div>\n",
       "<style scoped>\n",
       "    .dataframe tbody tr th:only-of-type {\n",
       "        vertical-align: middle;\n",
       "    }\n",
       "\n",
       "    .dataframe tbody tr th {\n",
       "        vertical-align: top;\n",
       "    }\n",
       "\n",
       "    .dataframe thead th {\n",
       "        text-align: right;\n",
       "    }\n",
       "</style>\n",
       "<table border=\"1\" class=\"dataframe\">\n",
       "  <thead>\n",
       "    <tr style=\"text-align: right;\">\n",
       "      <th></th>\n",
       "      <th>ANO_ELEICAO</th>\n",
       "      <th>SG_UF</th>\n",
       "      <th>CD_MUNICIPIO</th>\n",
       "      <th>NM_MUNICIPIO</th>\n",
       "      <th>DS_GENERO</th>\n",
       "      <th>DS_ESTADO_CIVIL</th>\n",
       "      <th>DS_FAIXA_ETARIA</th>\n",
       "      <th>DS_GRAU_ESCOLARIDADE</th>\n",
       "      <th>QT_ELEITORES_PERFIL</th>\n",
       "    </tr>\n",
       "  </thead>\n",
       "  <tbody>\n",
       "    <tr>\n",
       "      <th>0</th>\n",
       "      <td>2020</td>\n",
       "      <td>SP</td>\n",
       "      <td>70734</td>\n",
       "      <td>SÃO BENTO DO SAPUCAÍ</td>\n",
       "      <td>FEMININO</td>\n",
       "      <td>CASADO</td>\n",
       "      <td>70 a 74 anos</td>\n",
       "      <td>ENSINO FUNDAMENTAL INCOMPLETO</td>\n",
       "      <td>47</td>\n",
       "    </tr>\n",
       "    <tr>\n",
       "      <th>1</th>\n",
       "      <td>2020</td>\n",
       "      <td>SP</td>\n",
       "      <td>70734</td>\n",
       "      <td>SÃO BENTO DO SAPUCAÍ</td>\n",
       "      <td>FEMININO</td>\n",
       "      <td>CASADO</td>\n",
       "      <td>70 a 74 anos</td>\n",
       "      <td>ENSINO FUNDAMENTAL COMPLETO</td>\n",
       "      <td>5</td>\n",
       "    </tr>\n",
       "    <tr>\n",
       "      <th>2</th>\n",
       "      <td>2020</td>\n",
       "      <td>SP</td>\n",
       "      <td>70734</td>\n",
       "      <td>SÃO BENTO DO SAPUCAÍ</td>\n",
       "      <td>FEMININO</td>\n",
       "      <td>CASADO</td>\n",
       "      <td>70 a 74 anos</td>\n",
       "      <td>ENSINO MÉDIO INCOMPLETO</td>\n",
       "      <td>1</td>\n",
       "    </tr>\n",
       "    <tr>\n",
       "      <th>3</th>\n",
       "      <td>2020</td>\n",
       "      <td>SP</td>\n",
       "      <td>70734</td>\n",
       "      <td>SÃO BENTO DO SAPUCAÍ</td>\n",
       "      <td>FEMININO</td>\n",
       "      <td>CASADO</td>\n",
       "      <td>70 a 74 anos</td>\n",
       "      <td>ENSINO MÉDIO COMPLETO</td>\n",
       "      <td>10</td>\n",
       "    </tr>\n",
       "    <tr>\n",
       "      <th>4</th>\n",
       "      <td>2020</td>\n",
       "      <td>SP</td>\n",
       "      <td>70734</td>\n",
       "      <td>SÃO BENTO DO SAPUCAÍ</td>\n",
       "      <td>FEMININO</td>\n",
       "      <td>CASADO</td>\n",
       "      <td>70 a 74 anos</td>\n",
       "      <td>SUPERIOR COMPLETO</td>\n",
       "      <td>23</td>\n",
       "    </tr>\n",
       "    <tr>\n",
       "      <th>...</th>\n",
       "      <td>...</td>\n",
       "      <td>...</td>\n",
       "      <td>...</td>\n",
       "      <td>...</td>\n",
       "      <td>...</td>\n",
       "      <td>...</td>\n",
       "      <td>...</td>\n",
       "      <td>...</td>\n",
       "      <td>...</td>\n",
       "    </tr>\n",
       "    <tr>\n",
       "      <th>599564</th>\n",
       "      <td>2020</td>\n",
       "      <td>SP</td>\n",
       "      <td>72451</td>\n",
       "      <td>VOTUPORANGA</td>\n",
       "      <td>MASCULINO</td>\n",
       "      <td>CASADO</td>\n",
       "      <td>55 a 59 anos</td>\n",
       "      <td>ENSINO MÉDIO COMPLETO</td>\n",
       "      <td>512</td>\n",
       "    </tr>\n",
       "    <tr>\n",
       "      <th>599565</th>\n",
       "      <td>2020</td>\n",
       "      <td>SP</td>\n",
       "      <td>72451</td>\n",
       "      <td>VOTUPORANGA</td>\n",
       "      <td>MASCULINO</td>\n",
       "      <td>CASADO</td>\n",
       "      <td>55 a 59 anos</td>\n",
       "      <td>SUPERIOR INCOMPLETO</td>\n",
       "      <td>41</td>\n",
       "    </tr>\n",
       "    <tr>\n",
       "      <th>599566</th>\n",
       "      <td>2020</td>\n",
       "      <td>SP</td>\n",
       "      <td>72451</td>\n",
       "      <td>VOTUPORANGA</td>\n",
       "      <td>MASCULINO</td>\n",
       "      <td>CASADO</td>\n",
       "      <td>55 a 59 anos</td>\n",
       "      <td>SUPERIOR COMPLETO</td>\n",
       "      <td>323</td>\n",
       "    </tr>\n",
       "    <tr>\n",
       "      <th>599567</th>\n",
       "      <td>2020</td>\n",
       "      <td>SP</td>\n",
       "      <td>72451</td>\n",
       "      <td>VOTUPORANGA</td>\n",
       "      <td>MASCULINO</td>\n",
       "      <td>CASADO</td>\n",
       "      <td>60 a 64 anos</td>\n",
       "      <td>ANALFABETO</td>\n",
       "      <td>26</td>\n",
       "    </tr>\n",
       "    <tr>\n",
       "      <th>599568</th>\n",
       "      <td>2020</td>\n",
       "      <td>SP</td>\n",
       "      <td>72451</td>\n",
       "      <td>VOTUPORANGA</td>\n",
       "      <td>MASCULINO</td>\n",
       "      <td>CASADO</td>\n",
       "      <td>60 a 64 anos</td>\n",
       "      <td>LÊ E ESCREVE</td>\n",
       "      <td>251</td>\n",
       "    </tr>\n",
       "  </tbody>\n",
       "</table>\n",
       "<p>599569 rows × 9 columns</p>\n",
       "</div>"
      ],
      "text/plain": [
       "        ANO_ELEICAO SG_UF  CD_MUNICIPIO          NM_MUNICIPIO  DS_GENERO  \\\n",
       "0              2020    SP         70734  SÃO BENTO DO SAPUCAÍ   FEMININO   \n",
       "1              2020    SP         70734  SÃO BENTO DO SAPUCAÍ   FEMININO   \n",
       "2              2020    SP         70734  SÃO BENTO DO SAPUCAÍ   FEMININO   \n",
       "3              2020    SP         70734  SÃO BENTO DO SAPUCAÍ   FEMININO   \n",
       "4              2020    SP         70734  SÃO BENTO DO SAPUCAÍ   FEMININO   \n",
       "...             ...   ...           ...                   ...        ...   \n",
       "599564         2020    SP         72451           VOTUPORANGA  MASCULINO   \n",
       "599565         2020    SP         72451           VOTUPORANGA  MASCULINO   \n",
       "599566         2020    SP         72451           VOTUPORANGA  MASCULINO   \n",
       "599567         2020    SP         72451           VOTUPORANGA  MASCULINO   \n",
       "599568         2020    SP         72451           VOTUPORANGA  MASCULINO   \n",
       "\n",
       "       DS_ESTADO_CIVIL                 DS_FAIXA_ETARIA  \\\n",
       "0               CASADO  70 a 74 anos                     \n",
       "1               CASADO  70 a 74 anos                     \n",
       "2               CASADO  70 a 74 anos                     \n",
       "3               CASADO  70 a 74 anos                     \n",
       "4               CASADO  70 a 74 anos                     \n",
       "...                ...                             ...   \n",
       "599564          CASADO  55 a 59 anos                     \n",
       "599565          CASADO  55 a 59 anos                     \n",
       "599566          CASADO  55 a 59 anos                     \n",
       "599567          CASADO  60 a 64 anos                     \n",
       "599568          CASADO  60 a 64 anos                     \n",
       "\n",
       "                 DS_GRAU_ESCOLARIDADE  QT_ELEITORES_PERFIL  \n",
       "0       ENSINO FUNDAMENTAL INCOMPLETO                   47  \n",
       "1         ENSINO FUNDAMENTAL COMPLETO                    5  \n",
       "2             ENSINO MÉDIO INCOMPLETO                    1  \n",
       "3               ENSINO MÉDIO COMPLETO                   10  \n",
       "4                   SUPERIOR COMPLETO                   23  \n",
       "...                               ...                  ...  \n",
       "599564          ENSINO MÉDIO COMPLETO                  512  \n",
       "599565            SUPERIOR INCOMPLETO                   41  \n",
       "599566              SUPERIOR COMPLETO                  323  \n",
       "599567                     ANALFABETO                   26  \n",
       "599568                   LÊ E ESCREVE                  251  \n",
       "\n",
       "[599569 rows x 9 columns]"
      ]
     },
     "execution_count": 31,
     "metadata": {},
     "output_type": "execute_result"
    }
   ],
   "source": [
    "dados_eleitorado_sp = dados_eleitorado_sp.reset_index(drop=True)\n",
    "dados_eleitorado_sp"
   ]
  },
  {
   "cell_type": "markdown",
   "id": "d16e0377",
   "metadata": {
    "papermill": {
     "duration": 0.018499,
     "end_time": "2023-08-20T21:39:52.557542",
     "exception": false,
     "start_time": "2023-08-20T21:39:52.539043",
     "status": "completed"
    },
    "tags": []
   },
   "source": [
    "<div style=\"font-size: 32px;font-family:Inter\"><b>Renomeando as colunas para melhor visualização</b></div>\n",
    "<hr style=\"height:6px; background-color:#5A5A5A\"></hr>"
   ]
  },
  {
   "cell_type": "code",
   "execution_count": 32,
   "id": "86c2141e",
   "metadata": {
    "execution": {
     "iopub.execute_input": "2023-08-20T21:39:52.596657Z",
     "iopub.status.busy": "2023-08-20T21:39:52.595954Z",
     "iopub.status.idle": "2023-08-20T21:39:52.602542Z",
     "shell.execute_reply": "2023-08-20T21:39:52.601610Z"
    },
    "papermill": {
     "duration": 0.02821,
     "end_time": "2023-08-20T21:39:52.604413",
     "exception": false,
     "start_time": "2023-08-20T21:39:52.576203",
     "status": "completed"
    },
    "tags": []
   },
   "outputs": [
    {
     "data": {
      "text/plain": [
       "Index(['ANO_ELEICAO', 'SG_UF', 'CD_MUNICIPIO', 'NM_MUNICIPIO', 'DS_GENERO',\n",
       "       'DS_ESTADO_CIVIL', 'DS_FAIXA_ETARIA', 'DS_GRAU_ESCOLARIDADE',\n",
       "       'QT_ELEITORES_PERFIL'],\n",
       "      dtype='object')"
      ]
     },
     "execution_count": 32,
     "metadata": {},
     "output_type": "execute_result"
    }
   ],
   "source": [
    "dados_eleitorado_sp.columns #Visualizando as colunas do DataFrame"
   ]
  },
  {
   "cell_type": "markdown",
   "id": "76216e0f",
   "metadata": {
    "papermill": {
     "duration": 0.018817,
     "end_time": "2023-08-20T21:39:52.642497",
     "exception": false,
     "start_time": "2023-08-20T21:39:52.623680",
     "status": "completed"
    },
    "tags": []
   },
   "source": [
    "<div style=\"font-size: 23px; font-family:Inter\"><b>Esse dicionário foi criado a partir do arquivo de leiaute do TSE</b></div>"
   ]
  },
  {
   "cell_type": "code",
   "execution_count": 33,
   "id": "6d63bdba",
   "metadata": {
    "execution": {
     "iopub.execute_input": "2023-08-20T21:39:52.682437Z",
     "iopub.status.busy": "2023-08-20T21:39:52.682056Z",
     "iopub.status.idle": "2023-08-20T21:39:52.718170Z",
     "shell.execute_reply": "2023-08-20T21:39:52.717143Z"
    },
    "papermill": {
     "duration": 0.058892,
     "end_time": "2023-08-20T21:39:52.720417",
     "exception": false,
     "start_time": "2023-08-20T21:39:52.661525",
     "status": "completed"
    },
    "tags": []
   },
   "outputs": [
    {
     "data": {
      "text/html": [
       "<div>\n",
       "<style scoped>\n",
       "    .dataframe tbody tr th:only-of-type {\n",
       "        vertical-align: middle;\n",
       "    }\n",
       "\n",
       "    .dataframe tbody tr th {\n",
       "        vertical-align: top;\n",
       "    }\n",
       "\n",
       "    .dataframe thead th {\n",
       "        text-align: right;\n",
       "    }\n",
       "</style>\n",
       "<table border=\"1\" class=\"dataframe\">\n",
       "  <thead>\n",
       "    <tr style=\"text-align: right;\">\n",
       "      <th></th>\n",
       "      <th>Ano da Eleição</th>\n",
       "      <th>Estado</th>\n",
       "      <th>Código do Município</th>\n",
       "      <th>Município de Voto</th>\n",
       "      <th>Gênero do Eleitor(a)</th>\n",
       "      <th>Estado Cívil do Eleitor(a)</th>\n",
       "      <th>Idade</th>\n",
       "      <th>Grau de Escolaridade do Eleitor(a)</th>\n",
       "      <th>Qtd. a Votar</th>\n",
       "    </tr>\n",
       "  </thead>\n",
       "  <tbody>\n",
       "    <tr>\n",
       "      <th>0</th>\n",
       "      <td>2020</td>\n",
       "      <td>SP</td>\n",
       "      <td>70734</td>\n",
       "      <td>SÃO BENTO DO SAPUCAÍ</td>\n",
       "      <td>FEMININO</td>\n",
       "      <td>CASADO</td>\n",
       "      <td>70 a 74 anos</td>\n",
       "      <td>ENSINO FUNDAMENTAL INCOMPLETO</td>\n",
       "      <td>47</td>\n",
       "    </tr>\n",
       "    <tr>\n",
       "      <th>1</th>\n",
       "      <td>2020</td>\n",
       "      <td>SP</td>\n",
       "      <td>70734</td>\n",
       "      <td>SÃO BENTO DO SAPUCAÍ</td>\n",
       "      <td>FEMININO</td>\n",
       "      <td>CASADO</td>\n",
       "      <td>70 a 74 anos</td>\n",
       "      <td>ENSINO FUNDAMENTAL COMPLETO</td>\n",
       "      <td>5</td>\n",
       "    </tr>\n",
       "    <tr>\n",
       "      <th>2</th>\n",
       "      <td>2020</td>\n",
       "      <td>SP</td>\n",
       "      <td>70734</td>\n",
       "      <td>SÃO BENTO DO SAPUCAÍ</td>\n",
       "      <td>FEMININO</td>\n",
       "      <td>CASADO</td>\n",
       "      <td>70 a 74 anos</td>\n",
       "      <td>ENSINO MÉDIO INCOMPLETO</td>\n",
       "      <td>1</td>\n",
       "    </tr>\n",
       "    <tr>\n",
       "      <th>3</th>\n",
       "      <td>2020</td>\n",
       "      <td>SP</td>\n",
       "      <td>70734</td>\n",
       "      <td>SÃO BENTO DO SAPUCAÍ</td>\n",
       "      <td>FEMININO</td>\n",
       "      <td>CASADO</td>\n",
       "      <td>70 a 74 anos</td>\n",
       "      <td>ENSINO MÉDIO COMPLETO</td>\n",
       "      <td>10</td>\n",
       "    </tr>\n",
       "    <tr>\n",
       "      <th>4</th>\n",
       "      <td>2020</td>\n",
       "      <td>SP</td>\n",
       "      <td>70734</td>\n",
       "      <td>SÃO BENTO DO SAPUCAÍ</td>\n",
       "      <td>FEMININO</td>\n",
       "      <td>CASADO</td>\n",
       "      <td>70 a 74 anos</td>\n",
       "      <td>SUPERIOR COMPLETO</td>\n",
       "      <td>23</td>\n",
       "    </tr>\n",
       "    <tr>\n",
       "      <th>...</th>\n",
       "      <td>...</td>\n",
       "      <td>...</td>\n",
       "      <td>...</td>\n",
       "      <td>...</td>\n",
       "      <td>...</td>\n",
       "      <td>...</td>\n",
       "      <td>...</td>\n",
       "      <td>...</td>\n",
       "      <td>...</td>\n",
       "    </tr>\n",
       "    <tr>\n",
       "      <th>599564</th>\n",
       "      <td>2020</td>\n",
       "      <td>SP</td>\n",
       "      <td>72451</td>\n",
       "      <td>VOTUPORANGA</td>\n",
       "      <td>MASCULINO</td>\n",
       "      <td>CASADO</td>\n",
       "      <td>55 a 59 anos</td>\n",
       "      <td>ENSINO MÉDIO COMPLETO</td>\n",
       "      <td>512</td>\n",
       "    </tr>\n",
       "    <tr>\n",
       "      <th>599565</th>\n",
       "      <td>2020</td>\n",
       "      <td>SP</td>\n",
       "      <td>72451</td>\n",
       "      <td>VOTUPORANGA</td>\n",
       "      <td>MASCULINO</td>\n",
       "      <td>CASADO</td>\n",
       "      <td>55 a 59 anos</td>\n",
       "      <td>SUPERIOR INCOMPLETO</td>\n",
       "      <td>41</td>\n",
       "    </tr>\n",
       "    <tr>\n",
       "      <th>599566</th>\n",
       "      <td>2020</td>\n",
       "      <td>SP</td>\n",
       "      <td>72451</td>\n",
       "      <td>VOTUPORANGA</td>\n",
       "      <td>MASCULINO</td>\n",
       "      <td>CASADO</td>\n",
       "      <td>55 a 59 anos</td>\n",
       "      <td>SUPERIOR COMPLETO</td>\n",
       "      <td>323</td>\n",
       "    </tr>\n",
       "    <tr>\n",
       "      <th>599567</th>\n",
       "      <td>2020</td>\n",
       "      <td>SP</td>\n",
       "      <td>72451</td>\n",
       "      <td>VOTUPORANGA</td>\n",
       "      <td>MASCULINO</td>\n",
       "      <td>CASADO</td>\n",
       "      <td>60 a 64 anos</td>\n",
       "      <td>ANALFABETO</td>\n",
       "      <td>26</td>\n",
       "    </tr>\n",
       "    <tr>\n",
       "      <th>599568</th>\n",
       "      <td>2020</td>\n",
       "      <td>SP</td>\n",
       "      <td>72451</td>\n",
       "      <td>VOTUPORANGA</td>\n",
       "      <td>MASCULINO</td>\n",
       "      <td>CASADO</td>\n",
       "      <td>60 a 64 anos</td>\n",
       "      <td>LÊ E ESCREVE</td>\n",
       "      <td>251</td>\n",
       "    </tr>\n",
       "  </tbody>\n",
       "</table>\n",
       "<p>599569 rows × 9 columns</p>\n",
       "</div>"
      ],
      "text/plain": [
       "        Ano da Eleição Estado  Código do Município     Município de Voto  \\\n",
       "0                 2020     SP                70734  SÃO BENTO DO SAPUCAÍ   \n",
       "1                 2020     SP                70734  SÃO BENTO DO SAPUCAÍ   \n",
       "2                 2020     SP                70734  SÃO BENTO DO SAPUCAÍ   \n",
       "3                 2020     SP                70734  SÃO BENTO DO SAPUCAÍ   \n",
       "4                 2020     SP                70734  SÃO BENTO DO SAPUCAÍ   \n",
       "...                ...    ...                  ...                   ...   \n",
       "599564            2020     SP                72451           VOTUPORANGA   \n",
       "599565            2020     SP                72451           VOTUPORANGA   \n",
       "599566            2020     SP                72451           VOTUPORANGA   \n",
       "599567            2020     SP                72451           VOTUPORANGA   \n",
       "599568            2020     SP                72451           VOTUPORANGA   \n",
       "\n",
       "       Gênero do Eleitor(a) Estado Cívil do Eleitor(a)  \\\n",
       "0                  FEMININO                     CASADO   \n",
       "1                  FEMININO                     CASADO   \n",
       "2                  FEMININO                     CASADO   \n",
       "3                  FEMININO                     CASADO   \n",
       "4                  FEMININO                     CASADO   \n",
       "...                     ...                        ...   \n",
       "599564            MASCULINO                     CASADO   \n",
       "599565            MASCULINO                     CASADO   \n",
       "599566            MASCULINO                     CASADO   \n",
       "599567            MASCULINO                     CASADO   \n",
       "599568            MASCULINO                     CASADO   \n",
       "\n",
       "                                 Idade Grau de Escolaridade do Eleitor(a)  \\\n",
       "0       70 a 74 anos                        ENSINO FUNDAMENTAL INCOMPLETO   \n",
       "1       70 a 74 anos                          ENSINO FUNDAMENTAL COMPLETO   \n",
       "2       70 a 74 anos                              ENSINO MÉDIO INCOMPLETO   \n",
       "3       70 a 74 anos                                ENSINO MÉDIO COMPLETO   \n",
       "4       70 a 74 anos                                    SUPERIOR COMPLETO   \n",
       "...                                ...                                ...   \n",
       "599564  55 a 59 anos                                ENSINO MÉDIO COMPLETO   \n",
       "599565  55 a 59 anos                                  SUPERIOR INCOMPLETO   \n",
       "599566  55 a 59 anos                                    SUPERIOR COMPLETO   \n",
       "599567  60 a 64 anos                                           ANALFABETO   \n",
       "599568  60 a 64 anos                                         LÊ E ESCREVE   \n",
       "\n",
       "        Qtd. a Votar  \n",
       "0                 47  \n",
       "1                  5  \n",
       "2                  1  \n",
       "3                 10  \n",
       "4                 23  \n",
       "...              ...  \n",
       "599564           512  \n",
       "599565            41  \n",
       "599566           323  \n",
       "599567            26  \n",
       "599568           251  \n",
       "\n",
       "[599569 rows x 9 columns]"
      ]
     },
     "execution_count": 33,
     "metadata": {},
     "output_type": "execute_result"
    }
   ],
   "source": [
    "dicionario_colunas_mantidas = {'ANO_ELEICAO':'Ano da Eleição',\n",
    "                     'SG_UF':'Estado',\n",
    "                     'CD_MUNICIPIO': 'Código do Município',\n",
    "                     'NM_MUNICIPIO':'Município de Voto',\n",
    "                     'DS_GENERO':'Gênero do Eleitor(a)',\n",
    "                     'DS_ESTADO_CIVIL':'Estado Cívil do Eleitor(a)',\n",
    "                     'DS_FAIXA_ETARIA':'Idade',\n",
    "                     'DS_GRAU_ESCOLARIDADE':'Grau de Escolaridade do Eleitor(a)',\n",
    "                     'QT_ELEITORES_PERFIL':'Qtd. a Votar'}\n",
    "\n",
    "#Renomeando e salvando o DataFrame final\n",
    "perfil_eleitorado_sp = dados_eleitorado_sp.rename(columns=dicionario_colunas_mantidas)\n",
    "perfil_eleitorado_sp"
   ]
  },
  {
   "cell_type": "markdown",
   "id": "304d2851",
   "metadata": {
    "papermill": {
     "duration": 0.019016,
     "end_time": "2023-08-20T21:39:52.758646",
     "exception": false,
     "start_time": "2023-08-20T21:39:52.739630",
     "status": "completed"
    },
    "tags": []
   },
   "source": [
    "<div style=\"font-family:Inter; text-align:center; font-size:36px;\n",
    "            background-color:#5A5A5A; border-radius: 20px; padding: 10px\">\n",
    "    <b style=\"color: white\">Arquivo SP_turno_1.csv</b>\n",
    "</div>"
   ]
  },
  {
   "cell_type": "markdown",
   "id": "816478b8",
   "metadata": {
    "papermill": {
     "duration": 0.018788,
     "end_time": "2023-08-20T21:39:52.796466",
     "exception": false,
     "start_time": "2023-08-20T21:39:52.777678",
     "status": "completed"
    },
    "tags": []
   },
   "source": [
    "<div style=\"font-size: 32px;font-family:Inter\"><b>Importando e analisando o material Votos SP Turno 1 </b></div>\n",
    "<hr style=\"height:6px; background-color:#5A5A5A\"></hr>"
   ]
  },
  {
   "cell_type": "code",
   "execution_count": 34,
   "id": "0ab90b4a",
   "metadata": {
    "execution": {
     "iopub.execute_input": "2023-08-20T21:39:52.836504Z",
     "iopub.status.busy": "2023-08-20T21:39:52.836104Z",
     "iopub.status.idle": "2023-08-20T21:42:00.309271Z",
     "shell.execute_reply": "2023-08-20T21:42:00.307466Z"
    },
    "papermill": {
     "duration": 127.523333,
     "end_time": "2023-08-20T21:42:00.338986",
     "exception": false,
     "start_time": "2023-08-20T21:39:52.815653",
     "status": "completed"
    },
    "tags": []
   },
   "outputs": [
    {
     "data": {
      "text/html": [
       "<div>\n",
       "<style scoped>\n",
       "    .dataframe tbody tr th:only-of-type {\n",
       "        vertical-align: middle;\n",
       "    }\n",
       "\n",
       "    .dataframe tbody tr th {\n",
       "        vertical-align: top;\n",
       "    }\n",
       "\n",
       "    .dataframe thead th {\n",
       "        text-align: right;\n",
       "    }\n",
       "</style>\n",
       "<table border=\"1\" class=\"dataframe\">\n",
       "  <thead>\n",
       "    <tr style=\"text-align: right;\">\n",
       "      <th></th>\n",
       "      <th>DT_GERACAO</th>\n",
       "      <th>HH_GERACAO</th>\n",
       "      <th>ANO_ELEICAO</th>\n",
       "      <th>CD_TIPO_ELEICAO</th>\n",
       "      <th>NM_TIPO_ELEICAO</th>\n",
       "      <th>CD_PLEITO</th>\n",
       "      <th>DT_PLEITO</th>\n",
       "      <th>NR_TURNO</th>\n",
       "      <th>CD_ELEICAO</th>\n",
       "      <th>DS_ELEICAO</th>\n",
       "      <th>SG_UF</th>\n",
       "      <th>CD_MUNICIPIO</th>\n",
       "      <th>NM_MUNICIPIO</th>\n",
       "      <th>NR_ZONA</th>\n",
       "      <th>NR_SECAO</th>\n",
       "      <th>NR_LOCAL_VOTACAO</th>\n",
       "      <th>CD_CARGO_PERGUNTA</th>\n",
       "      <th>DS_CARGO_PERGUNTA</th>\n",
       "      <th>NR_PARTIDO</th>\n",
       "      <th>SG_PARTIDO</th>\n",
       "      <th>NM_PARTIDO</th>\n",
       "      <th>DT_BU_RECEBIDO</th>\n",
       "      <th>QT_APTOS</th>\n",
       "      <th>QT_COMPARECIMENTO</th>\n",
       "      <th>QT_ABSTENCOES</th>\n",
       "      <th>CD_TIPO_URNA</th>\n",
       "      <th>DS_TIPO_URNA</th>\n",
       "      <th>CD_TIPO_VOTAVEL</th>\n",
       "      <th>DS_TIPO_VOTAVEL</th>\n",
       "      <th>NR_VOTAVEL</th>\n",
       "      <th>NM_VOTAVEL</th>\n",
       "      <th>QT_VOTOS</th>\n",
       "      <th>NR_URNA_EFETIVADA</th>\n",
       "      <th>CD_CARGA_1_URNA_EFETIVADA</th>\n",
       "      <th>CD_CARGA_2_URNA_EFETIVADA</th>\n",
       "      <th>CD_FLASHCARD_URNA_EFETIVADA</th>\n",
       "      <th>DT_CARGA_URNA_EFETIVADA</th>\n",
       "      <th>DS_CARGO_PERGUNTA_SECAO</th>\n",
       "      <th>DS_AGREGADAS</th>\n",
       "      <th>DT_ABERTURA</th>\n",
       "      <th>DT_ENCERRAMENTO</th>\n",
       "      <th>QT_ELEITORES_BIOMETRIA_NH</th>\n",
       "      <th>DT_EMISSAO_BU</th>\n",
       "      <th>NR_JUNTA_APURADORA</th>\n",
       "      <th>NR_TURMA_APURADORA</th>\n",
       "    </tr>\n",
       "  </thead>\n",
       "  <tbody>\n",
       "    <tr>\n",
       "      <th>0</th>\n",
       "      <td>18/11/2020</td>\n",
       "      <td>15:49:53</td>\n",
       "      <td>2020</td>\n",
       "      <td>0</td>\n",
       "      <td>Eleição Ordinária</td>\n",
       "      <td>304</td>\n",
       "      <td>15/11/2020</td>\n",
       "      <td>1</td>\n",
       "      <td>426</td>\n",
       "      <td>Eleições Municipais 2020</td>\n",
       "      <td>SP</td>\n",
       "      <td>71072</td>\n",
       "      <td>SÃO PAULO</td>\n",
       "      <td>1</td>\n",
       "      <td>1</td>\n",
       "      <td>1015</td>\n",
       "      <td>11</td>\n",
       "      <td>Prefeito</td>\n",
       "      <td>-1</td>\n",
       "      <td>#NULO#</td>\n",
       "      <td>#NULO#</td>\n",
       "      <td>15/11/2020 22:26:42</td>\n",
       "      <td>386</td>\n",
       "      <td>241</td>\n",
       "      <td>145</td>\n",
       "      <td>1</td>\n",
       "      <td>APURADA</td>\n",
       "      <td>2</td>\n",
       "      <td>Branco</td>\n",
       "      <td>95</td>\n",
       "      <td>Branco</td>\n",
       "      <td>5</td>\n",
       "      <td>1618073</td>\n",
       "      <td>432.454.548.163.181.015.</td>\n",
       "      <td>306.728</td>\n",
       "      <td>E0BA7264</td>\n",
       "      <td>03/11/2020 11:19:00</td>\n",
       "      <td>11 - 1</td>\n",
       "      <td>#NULO#</td>\n",
       "      <td>15/11/2020 07:00:00</td>\n",
       "      <td>15/11/2020 17:02:46</td>\n",
       "      <td>0</td>\n",
       "      <td>15/11/2020 17:04:06</td>\n",
       "      <td>-1</td>\n",
       "      <td>-1</td>\n",
       "    </tr>\n",
       "    <tr>\n",
       "      <th>1</th>\n",
       "      <td>18/11/2020</td>\n",
       "      <td>15:49:53</td>\n",
       "      <td>2020</td>\n",
       "      <td>0</td>\n",
       "      <td>Eleição Ordinária</td>\n",
       "      <td>304</td>\n",
       "      <td>15/11/2020</td>\n",
       "      <td>1</td>\n",
       "      <td>426</td>\n",
       "      <td>Eleições Municipais 2020</td>\n",
       "      <td>SP</td>\n",
       "      <td>71072</td>\n",
       "      <td>SÃO PAULO</td>\n",
       "      <td>1</td>\n",
       "      <td>1</td>\n",
       "      <td>1015</td>\n",
       "      <td>11</td>\n",
       "      <td>Prefeito</td>\n",
       "      <td>13</td>\n",
       "      <td>PT</td>\n",
       "      <td>Partido dos Trabalhadores</td>\n",
       "      <td>15/11/2020 22:26:42</td>\n",
       "      <td>386</td>\n",
       "      <td>241</td>\n",
       "      <td>145</td>\n",
       "      <td>1</td>\n",
       "      <td>APURADA</td>\n",
       "      <td>1</td>\n",
       "      <td>Nominal</td>\n",
       "      <td>13</td>\n",
       "      <td>JILMAR TATTO</td>\n",
       "      <td>4</td>\n",
       "      <td>1618073</td>\n",
       "      <td>432.454.548.163.181.015.</td>\n",
       "      <td>306.728</td>\n",
       "      <td>E0BA7264</td>\n",
       "      <td>03/11/2020 11:19:00</td>\n",
       "      <td>11 - 1</td>\n",
       "      <td>#NULO#</td>\n",
       "      <td>15/11/2020 07:00:00</td>\n",
       "      <td>15/11/2020 17:02:46</td>\n",
       "      <td>0</td>\n",
       "      <td>15/11/2020 17:04:06</td>\n",
       "      <td>-1</td>\n",
       "      <td>-1</td>\n",
       "    </tr>\n",
       "    <tr>\n",
       "      <th>2</th>\n",
       "      <td>18/11/2020</td>\n",
       "      <td>15:49:53</td>\n",
       "      <td>2020</td>\n",
       "      <td>0</td>\n",
       "      <td>Eleição Ordinária</td>\n",
       "      <td>304</td>\n",
       "      <td>15/11/2020</td>\n",
       "      <td>1</td>\n",
       "      <td>426</td>\n",
       "      <td>Eleições Municipais 2020</td>\n",
       "      <td>SP</td>\n",
       "      <td>71072</td>\n",
       "      <td>SÃO PAULO</td>\n",
       "      <td>1</td>\n",
       "      <td>1</td>\n",
       "      <td>1015</td>\n",
       "      <td>11</td>\n",
       "      <td>Prefeito</td>\n",
       "      <td>18</td>\n",
       "      <td>REDE</td>\n",
       "      <td>Rede Sustentabilidade</td>\n",
       "      <td>15/11/2020 22:26:42</td>\n",
       "      <td>386</td>\n",
       "      <td>241</td>\n",
       "      <td>145</td>\n",
       "      <td>1</td>\n",
       "      <td>APURADA</td>\n",
       "      <td>1</td>\n",
       "      <td>Nominal</td>\n",
       "      <td>18</td>\n",
       "      <td>MARINA HELOU</td>\n",
       "      <td>1</td>\n",
       "      <td>1618073</td>\n",
       "      <td>432.454.548.163.181.015.</td>\n",
       "      <td>306.728</td>\n",
       "      <td>E0BA7264</td>\n",
       "      <td>03/11/2020 11:19:00</td>\n",
       "      <td>11 - 1</td>\n",
       "      <td>#NULO#</td>\n",
       "      <td>15/11/2020 07:00:00</td>\n",
       "      <td>15/11/2020 17:02:46</td>\n",
       "      <td>0</td>\n",
       "      <td>15/11/2020 17:04:06</td>\n",
       "      <td>-1</td>\n",
       "      <td>-1</td>\n",
       "    </tr>\n",
       "    <tr>\n",
       "      <th>3</th>\n",
       "      <td>18/11/2020</td>\n",
       "      <td>15:49:53</td>\n",
       "      <td>2020</td>\n",
       "      <td>0</td>\n",
       "      <td>Eleição Ordinária</td>\n",
       "      <td>304</td>\n",
       "      <td>15/11/2020</td>\n",
       "      <td>1</td>\n",
       "      <td>426</td>\n",
       "      <td>Eleições Municipais 2020</td>\n",
       "      <td>SP</td>\n",
       "      <td>71072</td>\n",
       "      <td>SÃO PAULO</td>\n",
       "      <td>1</td>\n",
       "      <td>1</td>\n",
       "      <td>1015</td>\n",
       "      <td>11</td>\n",
       "      <td>Prefeito</td>\n",
       "      <td>40</td>\n",
       "      <td>PSB</td>\n",
       "      <td>Partido Socialista Brasileiro</td>\n",
       "      <td>15/11/2020 22:26:42</td>\n",
       "      <td>386</td>\n",
       "      <td>241</td>\n",
       "      <td>145</td>\n",
       "      <td>1</td>\n",
       "      <td>APURADA</td>\n",
       "      <td>1</td>\n",
       "      <td>Nominal</td>\n",
       "      <td>40</td>\n",
       "      <td>MÁRCIO FRANÇA</td>\n",
       "      <td>29</td>\n",
       "      <td>1618073</td>\n",
       "      <td>432.454.548.163.181.015.</td>\n",
       "      <td>306.728</td>\n",
       "      <td>E0BA7264</td>\n",
       "      <td>03/11/2020 11:19:00</td>\n",
       "      <td>11 - 1</td>\n",
       "      <td>#NULO#</td>\n",
       "      <td>15/11/2020 07:00:00</td>\n",
       "      <td>15/11/2020 17:02:46</td>\n",
       "      <td>0</td>\n",
       "      <td>15/11/2020 17:04:06</td>\n",
       "      <td>-1</td>\n",
       "      <td>-1</td>\n",
       "    </tr>\n",
       "    <tr>\n",
       "      <th>4</th>\n",
       "      <td>18/11/2020</td>\n",
       "      <td>15:49:53</td>\n",
       "      <td>2020</td>\n",
       "      <td>0</td>\n",
       "      <td>Eleição Ordinária</td>\n",
       "      <td>304</td>\n",
       "      <td>15/11/2020</td>\n",
       "      <td>1</td>\n",
       "      <td>426</td>\n",
       "      <td>Eleições Municipais 2020</td>\n",
       "      <td>SP</td>\n",
       "      <td>71072</td>\n",
       "      <td>SÃO PAULO</td>\n",
       "      <td>1</td>\n",
       "      <td>1</td>\n",
       "      <td>1015</td>\n",
       "      <td>11</td>\n",
       "      <td>Prefeito</td>\n",
       "      <td>45</td>\n",
       "      <td>PSDB</td>\n",
       "      <td>Partido da Social Democracia Brasileira</td>\n",
       "      <td>15/11/2020 22:26:42</td>\n",
       "      <td>386</td>\n",
       "      <td>241</td>\n",
       "      <td>145</td>\n",
       "      <td>1</td>\n",
       "      <td>APURADA</td>\n",
       "      <td>1</td>\n",
       "      <td>Nominal</td>\n",
       "      <td>45</td>\n",
       "      <td>BRUNO COVAS</td>\n",
       "      <td>111</td>\n",
       "      <td>1618073</td>\n",
       "      <td>432.454.548.163.181.015.</td>\n",
       "      <td>306.728</td>\n",
       "      <td>E0BA7264</td>\n",
       "      <td>03/11/2020 11:19:00</td>\n",
       "      <td>11 - 1</td>\n",
       "      <td>#NULO#</td>\n",
       "      <td>15/11/2020 07:00:00</td>\n",
       "      <td>15/11/2020 17:02:46</td>\n",
       "      <td>0</td>\n",
       "      <td>15/11/2020 17:04:06</td>\n",
       "      <td>-1</td>\n",
       "      <td>-1</td>\n",
       "    </tr>\n",
       "  </tbody>\n",
       "</table>\n",
       "</div>"
      ],
      "text/plain": [
       "   DT_GERACAO HH_GERACAO  ANO_ELEICAO  CD_TIPO_ELEICAO    NM_TIPO_ELEICAO  \\\n",
       "0  18/11/2020   15:49:53         2020                0  Eleição Ordinária   \n",
       "1  18/11/2020   15:49:53         2020                0  Eleição Ordinária   \n",
       "2  18/11/2020   15:49:53         2020                0  Eleição Ordinária   \n",
       "3  18/11/2020   15:49:53         2020                0  Eleição Ordinária   \n",
       "4  18/11/2020   15:49:53         2020                0  Eleição Ordinária   \n",
       "\n",
       "   CD_PLEITO   DT_PLEITO  NR_TURNO  CD_ELEICAO                DS_ELEICAO  \\\n",
       "0        304  15/11/2020         1         426  Eleições Municipais 2020   \n",
       "1        304  15/11/2020         1         426  Eleições Municipais 2020   \n",
       "2        304  15/11/2020         1         426  Eleições Municipais 2020   \n",
       "3        304  15/11/2020         1         426  Eleições Municipais 2020   \n",
       "4        304  15/11/2020         1         426  Eleições Municipais 2020   \n",
       "\n",
       "  SG_UF  CD_MUNICIPIO NM_MUNICIPIO  NR_ZONA  NR_SECAO  NR_LOCAL_VOTACAO  \\\n",
       "0    SP         71072    SÃO PAULO        1         1              1015   \n",
       "1    SP         71072    SÃO PAULO        1         1              1015   \n",
       "2    SP         71072    SÃO PAULO        1         1              1015   \n",
       "3    SP         71072    SÃO PAULO        1         1              1015   \n",
       "4    SP         71072    SÃO PAULO        1         1              1015   \n",
       "\n",
       "   CD_CARGO_PERGUNTA DS_CARGO_PERGUNTA  NR_PARTIDO SG_PARTIDO  \\\n",
       "0                 11          Prefeito          -1     #NULO#   \n",
       "1                 11          Prefeito          13         PT   \n",
       "2                 11          Prefeito          18       REDE   \n",
       "3                 11          Prefeito          40        PSB   \n",
       "4                 11          Prefeito          45       PSDB   \n",
       "\n",
       "                                NM_PARTIDO       DT_BU_RECEBIDO  QT_APTOS  \\\n",
       "0                                   #NULO#  15/11/2020 22:26:42       386   \n",
       "1                Partido dos Trabalhadores  15/11/2020 22:26:42       386   \n",
       "2                    Rede Sustentabilidade  15/11/2020 22:26:42       386   \n",
       "3            Partido Socialista Brasileiro  15/11/2020 22:26:42       386   \n",
       "4  Partido da Social Democracia Brasileira  15/11/2020 22:26:42       386   \n",
       "\n",
       "   QT_COMPARECIMENTO  QT_ABSTENCOES  CD_TIPO_URNA DS_TIPO_URNA  \\\n",
       "0                241            145             1      APURADA   \n",
       "1                241            145             1      APURADA   \n",
       "2                241            145             1      APURADA   \n",
       "3                241            145             1      APURADA   \n",
       "4                241            145             1      APURADA   \n",
       "\n",
       "   CD_TIPO_VOTAVEL DS_TIPO_VOTAVEL  NR_VOTAVEL     NM_VOTAVEL  QT_VOTOS  \\\n",
       "0                2          Branco          95         Branco         5   \n",
       "1                1         Nominal          13   JILMAR TATTO         4   \n",
       "2                1         Nominal          18   MARINA HELOU         1   \n",
       "3                1         Nominal          40  MÁRCIO FRANÇA        29   \n",
       "4                1         Nominal          45    BRUNO COVAS       111   \n",
       "\n",
       "   NR_URNA_EFETIVADA CD_CARGA_1_URNA_EFETIVADA  CD_CARGA_2_URNA_EFETIVADA  \\\n",
       "0            1618073  432.454.548.163.181.015.                    306.728   \n",
       "1            1618073  432.454.548.163.181.015.                    306.728   \n",
       "2            1618073  432.454.548.163.181.015.                    306.728   \n",
       "3            1618073  432.454.548.163.181.015.                    306.728   \n",
       "4            1618073  432.454.548.163.181.015.                    306.728   \n",
       "\n",
       "  CD_FLASHCARD_URNA_EFETIVADA DT_CARGA_URNA_EFETIVADA DS_CARGO_PERGUNTA_SECAO  \\\n",
       "0                    E0BA7264     03/11/2020 11:19:00                  11 - 1   \n",
       "1                    E0BA7264     03/11/2020 11:19:00                  11 - 1   \n",
       "2                    E0BA7264     03/11/2020 11:19:00                  11 - 1   \n",
       "3                    E0BA7264     03/11/2020 11:19:00                  11 - 1   \n",
       "4                    E0BA7264     03/11/2020 11:19:00                  11 - 1   \n",
       "\n",
       "  DS_AGREGADAS          DT_ABERTURA      DT_ENCERRAMENTO  \\\n",
       "0       #NULO#  15/11/2020 07:00:00  15/11/2020 17:02:46   \n",
       "1       #NULO#  15/11/2020 07:00:00  15/11/2020 17:02:46   \n",
       "2       #NULO#  15/11/2020 07:00:00  15/11/2020 17:02:46   \n",
       "3       #NULO#  15/11/2020 07:00:00  15/11/2020 17:02:46   \n",
       "4       #NULO#  15/11/2020 07:00:00  15/11/2020 17:02:46   \n",
       "\n",
       "   QT_ELEITORES_BIOMETRIA_NH        DT_EMISSAO_BU  NR_JUNTA_APURADORA  \\\n",
       "0                          0  15/11/2020 17:04:06                  -1   \n",
       "1                          0  15/11/2020 17:04:06                  -1   \n",
       "2                          0  15/11/2020 17:04:06                  -1   \n",
       "3                          0  15/11/2020 17:04:06                  -1   \n",
       "4                          0  15/11/2020 17:04:06                  -1   \n",
       "\n",
       "   NR_TURMA_APURADORA  \n",
       "0                  -1  \n",
       "1                  -1  \n",
       "2                  -1  \n",
       "3                  -1  \n",
       "4                  -1  "
      ]
     },
     "execution_count": 34,
     "metadata": {},
     "output_type": "execute_result"
    }
   ],
   "source": [
    "votos_sp = pd.read_csv('/kaggle/input/votos-sp-turno-1/SP_turno_1.csv', sep = ';', encoding = 'latin1')\n",
    "votos_sp.head()"
   ]
  },
  {
   "cell_type": "markdown",
   "id": "0a476451",
   "metadata": {
    "papermill": {
     "duration": 0.020564,
     "end_time": "2023-08-20T21:42:00.380651",
     "exception": false,
     "start_time": "2023-08-20T21:42:00.360087",
     "status": "completed"
    },
    "tags": []
   },
   "source": [
    "<div style=\"font-size: 32px;font-family:Inter\"><b>Visualizando dados brutos </b></div>\n",
    "<hr style=\"height:6px; background-color:#5A5A5A\"></hr>"
   ]
  },
  {
   "cell_type": "code",
   "execution_count": 35,
   "id": "7672e24e",
   "metadata": {
    "execution": {
     "iopub.execute_input": "2023-08-20T21:42:00.423423Z",
     "iopub.status.busy": "2023-08-20T21:42:00.422383Z",
     "iopub.status.idle": "2023-08-20T21:42:00.430242Z",
     "shell.execute_reply": "2023-08-20T21:42:00.429204Z"
    },
    "papermill": {
     "duration": 0.032104,
     "end_time": "2023-08-20T21:42:00.432504",
     "exception": false,
     "start_time": "2023-08-20T21:42:00.400400",
     "status": "completed"
    },
    "tags": []
   },
   "outputs": [
    {
     "data": {
      "text/plain": [
       "(9434000, 45)"
      ]
     },
     "execution_count": 35,
     "metadata": {},
     "output_type": "execute_result"
    }
   ],
   "source": [
    "votos_sp.shape"
   ]
  },
  {
   "cell_type": "code",
   "execution_count": 36,
   "id": "f4749f31",
   "metadata": {
    "execution": {
     "iopub.execute_input": "2023-08-20T21:42:00.474215Z",
     "iopub.status.busy": "2023-08-20T21:42:00.473837Z",
     "iopub.status.idle": "2023-08-20T21:42:00.488547Z",
     "shell.execute_reply": "2023-08-20T21:42:00.487347Z"
    },
    "papermill": {
     "duration": 0.038724,
     "end_time": "2023-08-20T21:42:00.491349",
     "exception": false,
     "start_time": "2023-08-20T21:42:00.452625",
     "status": "completed"
    },
    "tags": []
   },
   "outputs": [
    {
     "name": "stdout",
     "output_type": "stream",
     "text": [
      "<class 'pandas.core.frame.DataFrame'>\n",
      "RangeIndex: 9434000 entries, 0 to 9433999\n",
      "Data columns (total 45 columns):\n",
      " #   Column                       Dtype  \n",
      "---  ------                       -----  \n",
      " 0   DT_GERACAO                   object \n",
      " 1   HH_GERACAO                   object \n",
      " 2   ANO_ELEICAO                  int64  \n",
      " 3   CD_TIPO_ELEICAO              int64  \n",
      " 4   NM_TIPO_ELEICAO              object \n",
      " 5   CD_PLEITO                    int64  \n",
      " 6   DT_PLEITO                    object \n",
      " 7   NR_TURNO                     int64  \n",
      " 8   CD_ELEICAO                   int64  \n",
      " 9   DS_ELEICAO                   object \n",
      " 10  SG_UF                        object \n",
      " 11  CD_MUNICIPIO                 int64  \n",
      " 12  NM_MUNICIPIO                 object \n",
      " 13  NR_ZONA                      int64  \n",
      " 14  NR_SECAO                     int64  \n",
      " 15  NR_LOCAL_VOTACAO             int64  \n",
      " 16  CD_CARGO_PERGUNTA            int64  \n",
      " 17  DS_CARGO_PERGUNTA            object \n",
      " 18  NR_PARTIDO                   int64  \n",
      " 19  SG_PARTIDO                   object \n",
      " 20  NM_PARTIDO                   object \n",
      " 21  DT_BU_RECEBIDO               object \n",
      " 22  QT_APTOS                     int64  \n",
      " 23  QT_COMPARECIMENTO            int64  \n",
      " 24  QT_ABSTENCOES                int64  \n",
      " 25  CD_TIPO_URNA                 int64  \n",
      " 26  DS_TIPO_URNA                 object \n",
      " 27  CD_TIPO_VOTAVEL              int64  \n",
      " 28  DS_TIPO_VOTAVEL              object \n",
      " 29  NR_VOTAVEL                   int64  \n",
      " 30  NM_VOTAVEL                   object \n",
      " 31  QT_VOTOS                     int64  \n",
      " 32  NR_URNA_EFETIVADA            int64  \n",
      " 33  CD_CARGA_1_URNA_EFETIVADA    object \n",
      " 34  CD_CARGA_2_URNA_EFETIVADA    float64\n",
      " 35  CD_FLASHCARD_URNA_EFETIVADA  object \n",
      " 36  DT_CARGA_URNA_EFETIVADA      object \n",
      " 37  DS_CARGO_PERGUNTA_SECAO      object \n",
      " 38  DS_AGREGADAS                 object \n",
      " 39  DT_ABERTURA                  object \n",
      " 40  DT_ENCERRAMENTO              object \n",
      " 41  QT_ELEITORES_BIOMETRIA_NH    int64  \n",
      " 42  DT_EMISSAO_BU                object \n",
      " 43  NR_JUNTA_APURADORA           int64  \n",
      " 44  NR_TURMA_APURADORA           int64  \n",
      "dtypes: float64(1), int64(22), object(22)\n",
      "memory usage: 3.2+ GB\n"
     ]
    }
   ],
   "source": [
    "votos_sp.info()"
   ]
  },
  {
   "cell_type": "markdown",
   "id": "f3eb3d0d",
   "metadata": {
    "papermill": {
     "duration": 0.02029,
     "end_time": "2023-08-20T21:42:00.531966",
     "exception": false,
     "start_time": "2023-08-20T21:42:00.511676",
     "status": "completed"
    },
    "tags": []
   },
   "source": [
    "<div style=\"font-size: 25px; font-family:Inter\"><b>Para a análise que será realizada, quero obter insights e descobertas para as seguintes perguntas:</b></div>\n",
    "\n",
    "\n",
    "<div style=\"font-size: 23px; font-family:Inter\"><b>1.Em qual município o candidato X foi mais votado:</b></div>\n",
    "\n",
    "\n",
    "<ul>\n",
    "    <li><p style=\"font-size: 17px; font-family: Inter\"><b>NM_VOTAVEL</b>: Nome do candidato.</p></li>\n",
    "    <li><p style=\"font-size: 17px; font-family: Inter\"><b>SG_UF</b>: Sigla do estado.</p></li>\n",
    "    <li><p style=\"font-size: 17px; font-family: Inter\"><b>NM_MUNICIPIO</b>: Nome do município.</p></li> \n",
    "    <li><p style=\"font-size: 17px; font-family: Inter\"><b>QT_VOTOS</b>: Quantidade de votos recebidos pelo candidato.</p></li>\n",
    "  </ul>\n",
    "   \n",
    "<div style=\"font-size: 23px; font-family:Inter\"><b>2.Qual candidato foi mais votado em cada município:</b></div>\n",
    "\n",
    "<ul>\n",
    "    <li><p style=\"font-size: 17px; font-family: Inter\"><b>SG_UF:</b>  Sigla do estado.</p></li>\n",
    "    <li><p style=\"font-size: 17px; font-family: Inter\"><b>NM_MUNICIPIO</b>: Nome do município.</p></li>\n",
    "    <li><p style=\"font-size: 17px; font-family: Inter\"><b>NM_VOTAVEL</b>: Nome do candidato.</p></li>\n",
    "    <li><p style=\"font-size: 17px; font-family: Inter\"><b>QT_VOTOS</b>: Quantidade de votos recebidos pelo candidato.</p></li> \n",
    "    </ul>\n",
    "\n",
    "<div style=\"font-size: 23px; font-family:Inter\"><b>3.Qual perfil do eleitorado mais votou em cada candidato:</b></div>\n",
    "\n",
    "<ul>\n",
    "    <li><p style=\"font-size: 17px; font-family: Inter\"><b>DS_GENERO</b>:  Sigla do estado.</p></li>\n",
    "    <li><p style=\"font-size: 17px; font-family: Inter\"><b>Outras colunas relevantes para a análise do perfil do eleitorado, como faixa etária, grau de escolaridade, etc.</b></p></li>\n",
    "</ul>\n",
    "    \n",
    "<div style=\"font-size: 23px; font-family:Inter\"><b>4.Qual foi o candidato mais votado em SP?</b></div>\n",
    "\n",
    "<div style=\"font-size: 23px; font-family:Inter\"><b>Para responde-las, não será necessário tratar todo o DataFrame, necessitando apenas das colunas que nos retornem as respostas para essas perguntas.</b></div>\n",
    "\n"
   ]
  },
  {
   "cell_type": "markdown",
   "id": "b2d7b49c",
   "metadata": {
    "papermill": {
     "duration": 0.01983,
     "end_time": "2023-08-20T21:42:00.572161",
     "exception": false,
     "start_time": "2023-08-20T21:42:00.552331",
     "status": "completed"
    },
    "tags": []
   },
   "source": [
    "<div style=\"font-size: 32px;font-family:Inter\"><b>Estabelecendo as colunas que serão utilizadas</b></div>\n",
    "<hr style=\"height:6px; background-color:#5A5A5A\"></hr>"
   ]
  },
  {
   "cell_type": "code",
   "execution_count": 37,
   "id": "5fb4664a",
   "metadata": {
    "execution": {
     "iopub.execute_input": "2023-08-20T21:42:00.617087Z",
     "iopub.status.busy": "2023-08-20T21:42:00.615961Z",
     "iopub.status.idle": "2023-08-20T21:42:00.621046Z",
     "shell.execute_reply": "2023-08-20T21:42:00.620203Z"
    },
    "papermill": {
     "duration": 0.030009,
     "end_time": "2023-08-20T21:42:00.623113",
     "exception": false,
     "start_time": "2023-08-20T21:42:00.593104",
     "status": "completed"
    },
    "tags": []
   },
   "outputs": [],
   "source": [
    "colunas_utilizadas = ['NM_VOTAVEL', 'SG_UF', 'CD_MUNICIPIO', 'NM_MUNICIPIO', 'QT_VOTOS', 'DS_CARGO_PERGUNTA',\n",
    "                     'NM_PARTIDO', 'QT_ABSTENCOES']"
   ]
  },
  {
   "cell_type": "code",
   "execution_count": 38,
   "id": "434c6252",
   "metadata": {
    "execution": {
     "iopub.execute_input": "2023-08-20T21:42:00.666557Z",
     "iopub.status.busy": "2023-08-20T21:42:00.665735Z",
     "iopub.status.idle": "2023-08-20T21:42:03.120072Z",
     "shell.execute_reply": "2023-08-20T21:42:03.118942Z"
    },
    "papermill": {
     "duration": 2.478743,
     "end_time": "2023-08-20T21:42:03.122320",
     "exception": false,
     "start_time": "2023-08-20T21:42:00.643577",
     "status": "completed"
    },
    "tags": []
   },
   "outputs": [
    {
     "data": {
      "text/html": [
       "<div>\n",
       "<style scoped>\n",
       "    .dataframe tbody tr th:only-of-type {\n",
       "        vertical-align: middle;\n",
       "    }\n",
       "\n",
       "    .dataframe tbody tr th {\n",
       "        vertical-align: top;\n",
       "    }\n",
       "\n",
       "    .dataframe thead th {\n",
       "        text-align: right;\n",
       "    }\n",
       "</style>\n",
       "<table border=\"1\" class=\"dataframe\">\n",
       "  <thead>\n",
       "    <tr style=\"text-align: right;\">\n",
       "      <th></th>\n",
       "      <th>NM_VOTAVEL</th>\n",
       "      <th>SG_UF</th>\n",
       "      <th>CD_MUNICIPIO</th>\n",
       "      <th>NM_MUNICIPIO</th>\n",
       "      <th>QT_VOTOS</th>\n",
       "      <th>DS_CARGO_PERGUNTA</th>\n",
       "      <th>NM_PARTIDO</th>\n",
       "      <th>QT_ABSTENCOES</th>\n",
       "    </tr>\n",
       "  </thead>\n",
       "  <tbody>\n",
       "    <tr>\n",
       "      <th>0</th>\n",
       "      <td>Branco</td>\n",
       "      <td>SP</td>\n",
       "      <td>71072</td>\n",
       "      <td>SÃO PAULO</td>\n",
       "      <td>5</td>\n",
       "      <td>Prefeito</td>\n",
       "      <td>#NULO#</td>\n",
       "      <td>145</td>\n",
       "    </tr>\n",
       "    <tr>\n",
       "      <th>1</th>\n",
       "      <td>JILMAR TATTO</td>\n",
       "      <td>SP</td>\n",
       "      <td>71072</td>\n",
       "      <td>SÃO PAULO</td>\n",
       "      <td>4</td>\n",
       "      <td>Prefeito</td>\n",
       "      <td>Partido dos Trabalhadores</td>\n",
       "      <td>145</td>\n",
       "    </tr>\n",
       "    <tr>\n",
       "      <th>2</th>\n",
       "      <td>MARINA HELOU</td>\n",
       "      <td>SP</td>\n",
       "      <td>71072</td>\n",
       "      <td>SÃO PAULO</td>\n",
       "      <td>1</td>\n",
       "      <td>Prefeito</td>\n",
       "      <td>Rede Sustentabilidade</td>\n",
       "      <td>145</td>\n",
       "    </tr>\n",
       "    <tr>\n",
       "      <th>3</th>\n",
       "      <td>MÁRCIO FRANÇA</td>\n",
       "      <td>SP</td>\n",
       "      <td>71072</td>\n",
       "      <td>SÃO PAULO</td>\n",
       "      <td>29</td>\n",
       "      <td>Prefeito</td>\n",
       "      <td>Partido Socialista Brasileiro</td>\n",
       "      <td>145</td>\n",
       "    </tr>\n",
       "    <tr>\n",
       "      <th>4</th>\n",
       "      <td>BRUNO COVAS</td>\n",
       "      <td>SP</td>\n",
       "      <td>71072</td>\n",
       "      <td>SÃO PAULO</td>\n",
       "      <td>111</td>\n",
       "      <td>Prefeito</td>\n",
       "      <td>Partido da Social Democracia Brasileira</td>\n",
       "      <td>145</td>\n",
       "    </tr>\n",
       "    <tr>\n",
       "      <th>...</th>\n",
       "      <td>...</td>\n",
       "      <td>...</td>\n",
       "      <td>...</td>\n",
       "      <td>...</td>\n",
       "      <td>...</td>\n",
       "      <td>...</td>\n",
       "      <td>...</td>\n",
       "      <td>...</td>\n",
       "    </tr>\n",
       "    <tr>\n",
       "      <th>1495</th>\n",
       "      <td>DRA MÁRCIA TAPIGLIANI</td>\n",
       "      <td>SP</td>\n",
       "      <td>71072</td>\n",
       "      <td>SÃO PAULO</td>\n",
       "      <td>1</td>\n",
       "      <td>Vereador</td>\n",
       "      <td>Podemos</td>\n",
       "      <td>184</td>\n",
       "    </tr>\n",
       "    <tr>\n",
       "      <th>1496</th>\n",
       "      <td>JUNTAS MULHERES SEM TETO</td>\n",
       "      <td>SP</td>\n",
       "      <td>71072</td>\n",
       "      <td>SÃO PAULO</td>\n",
       "      <td>1</td>\n",
       "      <td>Vereador</td>\n",
       "      <td>Partido Socialismo e Liberdade</td>\n",
       "      <td>184</td>\n",
       "    </tr>\n",
       "    <tr>\n",
       "      <th>1497</th>\n",
       "      <td>JAQUE SOTANYI</td>\n",
       "      <td>SP</td>\n",
       "      <td>71072</td>\n",
       "      <td>SÃO PAULO</td>\n",
       "      <td>1</td>\n",
       "      <td>Vereador</td>\n",
       "      <td>Partido da Social Democracia Brasileira</td>\n",
       "      <td>184</td>\n",
       "    </tr>\n",
       "    <tr>\n",
       "      <th>1498</th>\n",
       "      <td>PSOL</td>\n",
       "      <td>SP</td>\n",
       "      <td>71072</td>\n",
       "      <td>SÃO PAULO</td>\n",
       "      <td>8</td>\n",
       "      <td>Vereador</td>\n",
       "      <td>Partido Socialismo e Liberdade</td>\n",
       "      <td>184</td>\n",
       "    </tr>\n",
       "    <tr>\n",
       "      <th>1499</th>\n",
       "      <td>LULI SARRAF</td>\n",
       "      <td>SP</td>\n",
       "      <td>71072</td>\n",
       "      <td>SÃO PAULO</td>\n",
       "      <td>1</td>\n",
       "      <td>Vereador</td>\n",
       "      <td>Partido Verde</td>\n",
       "      <td>184</td>\n",
       "    </tr>\n",
       "  </tbody>\n",
       "</table>\n",
       "<p>1500 rows × 8 columns</p>\n",
       "</div>"
      ],
      "text/plain": [
       "                    NM_VOTAVEL SG_UF  CD_MUNICIPIO NM_MUNICIPIO  QT_VOTOS  \\\n",
       "0                       Branco    SP         71072    SÃO PAULO         5   \n",
       "1                 JILMAR TATTO    SP         71072    SÃO PAULO         4   \n",
       "2                 MARINA HELOU    SP         71072    SÃO PAULO         1   \n",
       "3                MÁRCIO FRANÇA    SP         71072    SÃO PAULO        29   \n",
       "4                  BRUNO COVAS    SP         71072    SÃO PAULO       111   \n",
       "...                        ...   ...           ...          ...       ...   \n",
       "1495     DRA MÁRCIA TAPIGLIANI    SP         71072    SÃO PAULO         1   \n",
       "1496  JUNTAS MULHERES SEM TETO    SP         71072    SÃO PAULO         1   \n",
       "1497             JAQUE SOTANYI    SP         71072    SÃO PAULO         1   \n",
       "1498                      PSOL    SP         71072    SÃO PAULO         8   \n",
       "1499               LULI SARRAF    SP         71072    SÃO PAULO         1   \n",
       "\n",
       "     DS_CARGO_PERGUNTA                               NM_PARTIDO  QT_ABSTENCOES  \n",
       "0             Prefeito                                   #NULO#            145  \n",
       "1             Prefeito                Partido dos Trabalhadores            145  \n",
       "2             Prefeito                    Rede Sustentabilidade            145  \n",
       "3             Prefeito            Partido Socialista Brasileiro            145  \n",
       "4             Prefeito  Partido da Social Democracia Brasileira            145  \n",
       "...                ...                                      ...            ...  \n",
       "1495          Vereador                                  Podemos            184  \n",
       "1496          Vereador           Partido Socialismo e Liberdade            184  \n",
       "1497          Vereador  Partido da Social Democracia Brasileira            184  \n",
       "1498          Vereador           Partido Socialismo e Liberdade            184  \n",
       "1499          Vereador                            Partido Verde            184  \n",
       "\n",
       "[1500 rows x 8 columns]"
      ]
     },
     "execution_count": 38,
     "metadata": {},
     "output_type": "execute_result"
    }
   ],
   "source": [
    "votos_sp = votos_sp[colunas_utilizadas].reset_index(drop=True) #Eliminando colunas não utilizadas\n",
    "votos_sp.head(1500) #Visualizando a nova tabela\n",
    "\n"
   ]
  },
  {
   "cell_type": "markdown",
   "id": "fc22dc3f",
   "metadata": {
    "papermill": {
     "duration": 0.020488,
     "end_time": "2023-08-20T21:42:03.163429",
     "exception": false,
     "start_time": "2023-08-20T21:42:03.142941",
     "status": "completed"
    },
    "tags": []
   },
   "source": [
    "<div style=\"font-size: 32px;font-family:Inter\"><b>Filtrando apenas pelo cargo de Prefeito</b></div>\n",
    "<hr style=\"height:6px; background-color:#5A5A5A\"></hr>"
   ]
  },
  {
   "cell_type": "code",
   "execution_count": 39,
   "id": "1d4a5f64",
   "metadata": {
    "execution": {
     "iopub.execute_input": "2023-08-20T21:42:03.220254Z",
     "iopub.status.busy": "2023-08-20T21:42:03.219233Z",
     "iopub.status.idle": "2023-08-20T21:42:04.087227Z",
     "shell.execute_reply": "2023-08-20T21:42:04.086182Z"
    },
    "papermill": {
     "duration": 0.898923,
     "end_time": "2023-08-20T21:42:04.089500",
     "exception": false,
     "start_time": "2023-08-20T21:42:03.190577",
     "status": "completed"
    },
    "tags": []
   },
   "outputs": [
    {
     "data": {
      "text/html": [
       "<div>\n",
       "<style scoped>\n",
       "    .dataframe tbody tr th:only-of-type {\n",
       "        vertical-align: middle;\n",
       "    }\n",
       "\n",
       "    .dataframe tbody tr th {\n",
       "        vertical-align: top;\n",
       "    }\n",
       "\n",
       "    .dataframe thead th {\n",
       "        text-align: right;\n",
       "    }\n",
       "</style>\n",
       "<table border=\"1\" class=\"dataframe\">\n",
       "  <thead>\n",
       "    <tr style=\"text-align: right;\">\n",
       "      <th></th>\n",
       "      <th>NM_VOTAVEL</th>\n",
       "      <th>SG_UF</th>\n",
       "      <th>CD_MUNICIPIO</th>\n",
       "      <th>NM_MUNICIPIO</th>\n",
       "      <th>QT_VOTOS</th>\n",
       "      <th>DS_CARGO_PERGUNTA</th>\n",
       "      <th>NM_PARTIDO</th>\n",
       "      <th>QT_ABSTENCOES</th>\n",
       "    </tr>\n",
       "  </thead>\n",
       "  <tbody>\n",
       "    <tr>\n",
       "      <th>0</th>\n",
       "      <td>Branco</td>\n",
       "      <td>SP</td>\n",
       "      <td>71072</td>\n",
       "      <td>SÃO PAULO</td>\n",
       "      <td>5</td>\n",
       "      <td>Prefeito</td>\n",
       "      <td>#NULO#</td>\n",
       "      <td>145</td>\n",
       "    </tr>\n",
       "    <tr>\n",
       "      <th>1</th>\n",
       "      <td>JILMAR TATTO</td>\n",
       "      <td>SP</td>\n",
       "      <td>71072</td>\n",
       "      <td>SÃO PAULO</td>\n",
       "      <td>4</td>\n",
       "      <td>Prefeito</td>\n",
       "      <td>Partido dos Trabalhadores</td>\n",
       "      <td>145</td>\n",
       "    </tr>\n",
       "    <tr>\n",
       "      <th>2</th>\n",
       "      <td>MARINA HELOU</td>\n",
       "      <td>SP</td>\n",
       "      <td>71072</td>\n",
       "      <td>SÃO PAULO</td>\n",
       "      <td>1</td>\n",
       "      <td>Prefeito</td>\n",
       "      <td>Rede Sustentabilidade</td>\n",
       "      <td>145</td>\n",
       "    </tr>\n",
       "    <tr>\n",
       "      <th>3</th>\n",
       "      <td>MÁRCIO FRANÇA</td>\n",
       "      <td>SP</td>\n",
       "      <td>71072</td>\n",
       "      <td>SÃO PAULO</td>\n",
       "      <td>29</td>\n",
       "      <td>Prefeito</td>\n",
       "      <td>Partido Socialista Brasileiro</td>\n",
       "      <td>145</td>\n",
       "    </tr>\n",
       "    <tr>\n",
       "      <th>4</th>\n",
       "      <td>BRUNO COVAS</td>\n",
       "      <td>SP</td>\n",
       "      <td>71072</td>\n",
       "      <td>SÃO PAULO</td>\n",
       "      <td>111</td>\n",
       "      <td>Prefeito</td>\n",
       "      <td>Partido da Social Democracia Brasileira</td>\n",
       "      <td>145</td>\n",
       "    </tr>\n",
       "    <tr>\n",
       "      <th>...</th>\n",
       "      <td>...</td>\n",
       "      <td>...</td>\n",
       "      <td>...</td>\n",
       "      <td>...</td>\n",
       "      <td>...</td>\n",
       "      <td>...</td>\n",
       "      <td>...</td>\n",
       "      <td>...</td>\n",
       "    </tr>\n",
       "    <tr>\n",
       "      <th>9433958</th>\n",
       "      <td>FABIO MINEIRO</td>\n",
       "      <td>SP</td>\n",
       "      <td>70157</td>\n",
       "      <td>SANTA ALBERTINA</td>\n",
       "      <td>27</td>\n",
       "      <td>Prefeito</td>\n",
       "      <td>REPUBLICANOS</td>\n",
       "      <td>33</td>\n",
       "    </tr>\n",
       "    <tr>\n",
       "      <th>9433959</th>\n",
       "      <td>CIDO CEREZO</td>\n",
       "      <td>SP</td>\n",
       "      <td>70157</td>\n",
       "      <td>SANTA ALBERTINA</td>\n",
       "      <td>111</td>\n",
       "      <td>Prefeito</td>\n",
       "      <td>Movimento Democrático Brasileiro</td>\n",
       "      <td>33</td>\n",
       "    </tr>\n",
       "    <tr>\n",
       "      <th>9433960</th>\n",
       "      <td>Nulo</td>\n",
       "      <td>SP</td>\n",
       "      <td>70157</td>\n",
       "      <td>SANTA ALBERTINA</td>\n",
       "      <td>6</td>\n",
       "      <td>Prefeito</td>\n",
       "      <td>#NULO#</td>\n",
       "      <td>33</td>\n",
       "    </tr>\n",
       "    <tr>\n",
       "      <th>9433961</th>\n",
       "      <td>JUNINHO FORMIGONI</td>\n",
       "      <td>SP</td>\n",
       "      <td>70157</td>\n",
       "      <td>SANTA ALBERTINA</td>\n",
       "      <td>139</td>\n",
       "      <td>Prefeito</td>\n",
       "      <td>Democratas</td>\n",
       "      <td>33</td>\n",
       "    </tr>\n",
       "    <tr>\n",
       "      <th>9433962</th>\n",
       "      <td>Branco</td>\n",
       "      <td>SP</td>\n",
       "      <td>70157</td>\n",
       "      <td>SANTA ALBERTINA</td>\n",
       "      <td>2</td>\n",
       "      <td>Prefeito</td>\n",
       "      <td>#NULO#</td>\n",
       "      <td>33</td>\n",
       "    </tr>\n",
       "  </tbody>\n",
       "</table>\n",
       "<p>798456 rows × 8 columns</p>\n",
       "</div>"
      ],
      "text/plain": [
       "                NM_VOTAVEL SG_UF  CD_MUNICIPIO     NM_MUNICIPIO  QT_VOTOS  \\\n",
       "0                   Branco    SP         71072        SÃO PAULO         5   \n",
       "1             JILMAR TATTO    SP         71072        SÃO PAULO         4   \n",
       "2             MARINA HELOU    SP         71072        SÃO PAULO         1   \n",
       "3            MÁRCIO FRANÇA    SP         71072        SÃO PAULO        29   \n",
       "4              BRUNO COVAS    SP         71072        SÃO PAULO       111   \n",
       "...                    ...   ...           ...              ...       ...   \n",
       "9433958      FABIO MINEIRO    SP         70157  SANTA ALBERTINA        27   \n",
       "9433959        CIDO CEREZO    SP         70157  SANTA ALBERTINA       111   \n",
       "9433960               Nulo    SP         70157  SANTA ALBERTINA         6   \n",
       "9433961  JUNINHO FORMIGONI    SP         70157  SANTA ALBERTINA       139   \n",
       "9433962             Branco    SP         70157  SANTA ALBERTINA         2   \n",
       "\n",
       "        DS_CARGO_PERGUNTA                               NM_PARTIDO  \\\n",
       "0                Prefeito                                   #NULO#   \n",
       "1                Prefeito                Partido dos Trabalhadores   \n",
       "2                Prefeito                    Rede Sustentabilidade   \n",
       "3                Prefeito            Partido Socialista Brasileiro   \n",
       "4                Prefeito  Partido da Social Democracia Brasileira   \n",
       "...                   ...                                      ...   \n",
       "9433958          Prefeito                             REPUBLICANOS   \n",
       "9433959          Prefeito         Movimento Democrático Brasileiro   \n",
       "9433960          Prefeito                                   #NULO#   \n",
       "9433961          Prefeito                               Democratas   \n",
       "9433962          Prefeito                                   #NULO#   \n",
       "\n",
       "         QT_ABSTENCOES  \n",
       "0                  145  \n",
       "1                  145  \n",
       "2                  145  \n",
       "3                  145  \n",
       "4                  145  \n",
       "...                ...  \n",
       "9433958             33  \n",
       "9433959             33  \n",
       "9433960             33  \n",
       "9433961             33  \n",
       "9433962             33  \n",
       "\n",
       "[798456 rows x 8 columns]"
      ]
     },
     "execution_count": 39,
     "metadata": {},
     "output_type": "execute_result"
    }
   ],
   "source": [
    "votos_sp = votos_sp.loc[votos_sp['DS_CARGO_PERGUNTA'] == 'Prefeito']\n",
    "votos_sp"
   ]
  },
  {
   "cell_type": "markdown",
   "id": "98956fe8",
   "metadata": {
    "papermill": {
     "duration": 0.021093,
     "end_time": "2023-08-20T21:42:04.132790",
     "exception": false,
     "start_time": "2023-08-20T21:42:04.111697",
     "status": "completed"
    },
    "tags": []
   },
   "source": [
    "<div style=\"font-size: 32px;font-family:Inter\"><b>Buscando valores nulos(NaN)</b></div>\n",
    "<hr style=\"height:6px; background-color:#5A5A5A\"></hr>"
   ]
  },
  {
   "cell_type": "code",
   "execution_count": 40,
   "id": "44030fd4",
   "metadata": {
    "execution": {
     "iopub.execute_input": "2023-08-20T21:42:04.177978Z",
     "iopub.status.busy": "2023-08-20T21:42:04.177578Z",
     "iopub.status.idle": "2023-08-20T21:42:04.817051Z",
     "shell.execute_reply": "2023-08-20T21:42:04.816062Z"
    },
    "papermill": {
     "duration": 0.664771,
     "end_time": "2023-08-20T21:42:04.819441",
     "exception": false,
     "start_time": "2023-08-20T21:42:04.154670",
     "status": "completed"
    },
    "tags": []
   },
   "outputs": [
    {
     "data": {
      "text/plain": [
       "NM_VOTAVEL           0\n",
       "SG_UF                0\n",
       "CD_MUNICIPIO         0\n",
       "NM_MUNICIPIO         0\n",
       "QT_VOTOS             0\n",
       "DS_CARGO_PERGUNTA    0\n",
       "NM_PARTIDO           0\n",
       "QT_ABSTENCOES        0\n",
       "dtype: int64"
      ]
     },
     "execution_count": 40,
     "metadata": {},
     "output_type": "execute_result"
    }
   ],
   "source": [
    "votos_sp.isnull().sum() #Retornando a soma dos valores nulos"
   ]
  },
  {
   "cell_type": "markdown",
   "id": "6fd3a112",
   "metadata": {
    "papermill": {
     "duration": 0.021238,
     "end_time": "2023-08-20T21:42:04.862029",
     "exception": false,
     "start_time": "2023-08-20T21:42:04.840791",
     "status": "completed"
    },
    "tags": []
   },
   "source": [
    "<div style=\"font-size: 32px;font-family:Inter\"><b>Analisando se há alguma anomalia nas colunas(erros gramaticais, valores inválidos ou não informados)</b></div>\n",
    "<hr style=\"height:6px; background-color:#5A5A5A\"></hr>"
   ]
  },
  {
   "cell_type": "code",
   "execution_count": 41,
   "id": "4805cf54",
   "metadata": {
    "execution": {
     "iopub.execute_input": "2023-08-20T21:42:04.907467Z",
     "iopub.status.busy": "2023-08-20T21:42:04.907049Z",
     "iopub.status.idle": "2023-08-20T21:42:04.981790Z",
     "shell.execute_reply": "2023-08-20T21:42:04.980562Z"
    },
    "papermill": {
     "duration": 0.100134,
     "end_time": "2023-08-20T21:42:04.984416",
     "exception": false,
     "start_time": "2023-08-20T21:42:04.884282",
     "status": "completed"
    },
    "tags": []
   },
   "outputs": [
    {
     "name": "stdout",
     "output_type": "stream",
     "text": [
      "Nulo                85683\n",
      "Branco              85568\n",
      "MÁRCIO FRANÇA       22397\n",
      "GUILHERME BOULOS    22396\n",
      "BRUNO COVAS         22395\n",
      "                    ...  \n",
      "JUCA TAVONI             4\n",
      "MARCELO FONSECA         4\n",
      "GENIVALDO               4\n",
      "ZÉ ROBERTO MUKA         2\n",
      "PEDRÃO DO BILO          1\n",
      "Name: NM_VOTAVEL, Length: 2528, dtype: int64\n"
     ]
    }
   ],
   "source": [
    "print(votos_sp['NM_VOTAVEL'].value_counts())"
   ]
  },
  {
   "cell_type": "code",
   "execution_count": 42,
   "id": "1337c452",
   "metadata": {
    "execution": {
     "iopub.execute_input": "2023-08-20T21:42:05.029856Z",
     "iopub.status.busy": "2023-08-20T21:42:05.029138Z",
     "iopub.status.idle": "2023-08-20T21:42:05.096189Z",
     "shell.execute_reply": "2023-08-20T21:42:05.094951Z"
    },
    "papermill": {
     "duration": 0.092032,
     "end_time": "2023-08-20T21:42:05.098453",
     "exception": false,
     "start_time": "2023-08-20T21:42:05.006421",
     "status": "completed"
    },
    "tags": []
   },
   "outputs": [
    {
     "name": "stdout",
     "output_type": "stream",
     "text": [
      "SP    798456\n",
      "Name: SG_UF, dtype: int64\n"
     ]
    }
   ],
   "source": [
    "print(votos_sp['SG_UF'].value_counts())"
   ]
  },
  {
   "cell_type": "code",
   "execution_count": 43,
   "id": "aae6ae9b",
   "metadata": {
    "execution": {
     "iopub.execute_input": "2023-08-20T21:42:05.142976Z",
     "iopub.status.busy": "2023-08-20T21:42:05.142584Z",
     "iopub.status.idle": "2023-08-20T21:42:05.210404Z",
     "shell.execute_reply": "2023-08-20T21:42:05.209460Z"
    },
    "papermill": {
     "duration": 0.092604,
     "end_time": "2023-08-20T21:42:05.212461",
     "exception": false,
     "start_time": "2023-08-20T21:42:05.119857",
     "status": "completed"
    },
    "tags": []
   },
   "outputs": [
    {
     "name": "stdout",
     "output_type": "stream",
     "text": [
      "SÃO PAULO                 253743\n",
      "CAMPINAS                   28295\n",
      "GUARULHOS                  24899\n",
      "SÃO JOSÉ DOS CAMPOS        15905\n",
      "SANTOS                     13233\n",
      "                           ...  \n",
      "SAGRES                        18\n",
      "SANTANA DA PONTE PENSA        16\n",
      "BALBINOS                      16\n",
      "URU                           15\n",
      "TRABIJU                       15\n",
      "Name: NM_MUNICIPIO, Length: 645, dtype: int64\n"
     ]
    }
   ],
   "source": [
    "print(votos_sp['NM_MUNICIPIO'].value_counts())"
   ]
  },
  {
   "cell_type": "code",
   "execution_count": 44,
   "id": "6fa343ba",
   "metadata": {
    "execution": {
     "iopub.execute_input": "2023-08-20T21:42:05.257654Z",
     "iopub.status.busy": "2023-08-20T21:42:05.256839Z",
     "iopub.status.idle": "2023-08-20T21:42:05.271339Z",
     "shell.execute_reply": "2023-08-20T21:42:05.270503Z"
    },
    "papermill": {
     "duration": 0.03925,
     "end_time": "2023-08-20T21:42:05.273326",
     "exception": false,
     "start_time": "2023-08-20T21:42:05.234076",
     "status": "completed"
    },
    "tags": []
   },
   "outputs": [
    {
     "name": "stdout",
     "output_type": "stream",
     "text": [
      "1      63284\n",
      "2      44030\n",
      "3      35979\n",
      "4      30859\n",
      "5      26670\n",
      "       ...  \n",
      "314        1\n",
      "313        1\n",
      "316        1\n",
      "329        1\n",
      "323        1\n",
      "Name: QT_VOTOS, Length: 322, dtype: int64\n"
     ]
    }
   ],
   "source": [
    "print(votos_sp['QT_VOTOS'].value_counts())"
   ]
  },
  {
   "cell_type": "code",
   "execution_count": 45,
   "id": "935985b8",
   "metadata": {
    "execution": {
     "iopub.execute_input": "2023-08-20T21:42:05.318216Z",
     "iopub.status.busy": "2023-08-20T21:42:05.317768Z",
     "iopub.status.idle": "2023-08-20T21:42:05.386505Z",
     "shell.execute_reply": "2023-08-20T21:42:05.385488Z"
    },
    "papermill": {
     "duration": 0.095245,
     "end_time": "2023-08-20T21:42:05.390011",
     "exception": false,
     "start_time": "2023-08-20T21:42:05.294766",
     "status": "completed"
    },
    "tags": []
   },
   "outputs": [
    {
     "name": "stdout",
     "output_type": "stream",
     "text": [
      "Prefeito    798456\n",
      "Name: DS_CARGO_PERGUNTA, dtype: int64\n"
     ]
    }
   ],
   "source": [
    "print(votos_sp['DS_CARGO_PERGUNTA'].value_counts())"
   ]
  },
  {
   "cell_type": "code",
   "execution_count": 46,
   "id": "2d88b66c",
   "metadata": {
    "execution": {
     "iopub.execute_input": "2023-08-20T21:42:05.437337Z",
     "iopub.status.busy": "2023-08-20T21:42:05.436694Z",
     "iopub.status.idle": "2023-08-20T21:42:05.511270Z",
     "shell.execute_reply": "2023-08-20T21:42:05.510218Z"
    },
    "papermill": {
     "duration": 0.101647,
     "end_time": "2023-08-20T21:42:05.513854",
     "exception": false,
     "start_time": "2023-08-20T21:42:05.412207",
     "status": "completed"
    },
    "tags": []
   },
   "outputs": [
    {
     "name": "stdout",
     "output_type": "stream",
     "text": [
      "#NULO#                                            171251\n",
      "Partido da Social Democracia Brasileira            64506\n",
      "Partido dos Trabalhadores                          62651\n",
      "Partido Socialismo e Liberdade                     51499\n",
      "Partido Social Democrático                         48379\n",
      "Partido Social Liberal                             43836\n",
      "REPUBLICANOS                                       39632\n",
      "Partido Socialista Brasileiro                      38947\n",
      "Patriota                                           37294\n",
      "Partido Renovador Trabalhista Brasileiro           30808\n",
      "Partido Trabalhista Brasileiro                     19551\n",
      "Partido Democrático Trabalhista                    18907\n",
      "Podemos                                            17986\n",
      "Movimento Democrático Brasileiro                   17369\n",
      "Partido Comunista do Brasil                        17134\n",
      "Partido Liberal                                    15852\n",
      "Democratas                                         14974\n",
      "Rede Sustentabilidade                              14432\n",
      "Partido Verde                                       8869\n",
      "Solidariedade                                       8196\n",
      "Cidadania                                           7946\n",
      "PROGRESSISTAS                                       7385\n",
      "AVANTE                                              6579\n",
      "Partido Socialista dos Trabalhadores Unificado      5854\n",
      "Partido Republicano da Ordem Social                 5370\n",
      "Partido Trabalhista Cristão                         5122\n",
      "Partido Novo                                        4221\n",
      "Democracia Cristã                                   3973\n",
      "Partido Social Cristão                              3387\n",
      "Partido da Mobilização Nacional                     3085\n",
      "Partido da Mulher Brasileira                        1406\n",
      "Partido da Causa Operária                           1308\n",
      "Unidade Popular                                      747\n",
      "Name: NM_PARTIDO, dtype: int64\n"
     ]
    }
   ],
   "source": [
    "print(votos_sp['NM_PARTIDO'].value_counts())"
   ]
  },
  {
   "cell_type": "markdown",
   "id": "4e9e57bf",
   "metadata": {
    "papermill": {
     "duration": 0.021396,
     "end_time": "2023-08-20T21:42:05.557700",
     "exception": false,
     "start_time": "2023-08-20T21:42:05.536304",
     "status": "completed"
    },
    "tags": []
   },
   "source": [
    "<div style=\"font-size: 23px; font-family:Inter\"><b>Conclusão:</b> A quantidade de Votos nulos na coluna <b>NM_PARTIDO</b> é a soma dos valores de Branco e Nulo da coluna <b>NM_VOTAVEL</b>. Como ambos não são considerados no cômputo geral dos votos válidos, unificarei as informações.</div>"
   ]
  },
  {
   "cell_type": "code",
   "execution_count": 47,
   "id": "db31f777",
   "metadata": {
    "execution": {
     "iopub.execute_input": "2023-08-20T21:42:05.603255Z",
     "iopub.status.busy": "2023-08-20T21:42:05.602854Z",
     "iopub.status.idle": "2023-08-20T21:42:06.270492Z",
     "shell.execute_reply": "2023-08-20T21:42:06.269375Z"
    },
    "papermill": {
     "duration": 0.69317,
     "end_time": "2023-08-20T21:42:06.272706",
     "exception": false,
     "start_time": "2023-08-20T21:42:05.579536",
     "status": "completed"
    },
    "tags": []
   },
   "outputs": [
    {
     "data": {
      "text/html": [
       "<div>\n",
       "<style scoped>\n",
       "    .dataframe tbody tr th:only-of-type {\n",
       "        vertical-align: middle;\n",
       "    }\n",
       "\n",
       "    .dataframe tbody tr th {\n",
       "        vertical-align: top;\n",
       "    }\n",
       "\n",
       "    .dataframe thead th {\n",
       "        text-align: right;\n",
       "    }\n",
       "</style>\n",
       "<table border=\"1\" class=\"dataframe\">\n",
       "  <thead>\n",
       "    <tr style=\"text-align: right;\">\n",
       "      <th></th>\n",
       "      <th>NM_VOTAVEL</th>\n",
       "      <th>SG_UF</th>\n",
       "      <th>CD_MUNICIPIO</th>\n",
       "      <th>NM_MUNICIPIO</th>\n",
       "      <th>QT_VOTOS</th>\n",
       "      <th>DS_CARGO_PERGUNTA</th>\n",
       "      <th>NM_PARTIDO</th>\n",
       "      <th>QT_ABSTENCOES</th>\n",
       "    </tr>\n",
       "  </thead>\n",
       "  <tbody>\n",
       "    <tr>\n",
       "      <th>0</th>\n",
       "      <td>Nulo</td>\n",
       "      <td>SP</td>\n",
       "      <td>71072</td>\n",
       "      <td>SÃO PAULO</td>\n",
       "      <td>5</td>\n",
       "      <td>Prefeito</td>\n",
       "      <td>#NULO#</td>\n",
       "      <td>145</td>\n",
       "    </tr>\n",
       "    <tr>\n",
       "      <th>1</th>\n",
       "      <td>JILMAR TATTO</td>\n",
       "      <td>SP</td>\n",
       "      <td>71072</td>\n",
       "      <td>SÃO PAULO</td>\n",
       "      <td>4</td>\n",
       "      <td>Prefeito</td>\n",
       "      <td>Partido dos Trabalhadores</td>\n",
       "      <td>145</td>\n",
       "    </tr>\n",
       "    <tr>\n",
       "      <th>2</th>\n",
       "      <td>MARINA HELOU</td>\n",
       "      <td>SP</td>\n",
       "      <td>71072</td>\n",
       "      <td>SÃO PAULO</td>\n",
       "      <td>1</td>\n",
       "      <td>Prefeito</td>\n",
       "      <td>Rede Sustentabilidade</td>\n",
       "      <td>145</td>\n",
       "    </tr>\n",
       "    <tr>\n",
       "      <th>3</th>\n",
       "      <td>MÁRCIO FRANÇA</td>\n",
       "      <td>SP</td>\n",
       "      <td>71072</td>\n",
       "      <td>SÃO PAULO</td>\n",
       "      <td>29</td>\n",
       "      <td>Prefeito</td>\n",
       "      <td>Partido Socialista Brasileiro</td>\n",
       "      <td>145</td>\n",
       "    </tr>\n",
       "    <tr>\n",
       "      <th>4</th>\n",
       "      <td>BRUNO COVAS</td>\n",
       "      <td>SP</td>\n",
       "      <td>71072</td>\n",
       "      <td>SÃO PAULO</td>\n",
       "      <td>111</td>\n",
       "      <td>Prefeito</td>\n",
       "      <td>Partido da Social Democracia Brasileira</td>\n",
       "      <td>145</td>\n",
       "    </tr>\n",
       "    <tr>\n",
       "      <th>...</th>\n",
       "      <td>...</td>\n",
       "      <td>...</td>\n",
       "      <td>...</td>\n",
       "      <td>...</td>\n",
       "      <td>...</td>\n",
       "      <td>...</td>\n",
       "      <td>...</td>\n",
       "      <td>...</td>\n",
       "    </tr>\n",
       "    <tr>\n",
       "      <th>9433958</th>\n",
       "      <td>FABIO MINEIRO</td>\n",
       "      <td>SP</td>\n",
       "      <td>70157</td>\n",
       "      <td>SANTA ALBERTINA</td>\n",
       "      <td>27</td>\n",
       "      <td>Prefeito</td>\n",
       "      <td>REPUBLICANOS</td>\n",
       "      <td>33</td>\n",
       "    </tr>\n",
       "    <tr>\n",
       "      <th>9433959</th>\n",
       "      <td>CIDO CEREZO</td>\n",
       "      <td>SP</td>\n",
       "      <td>70157</td>\n",
       "      <td>SANTA ALBERTINA</td>\n",
       "      <td>111</td>\n",
       "      <td>Prefeito</td>\n",
       "      <td>Movimento Democrático Brasileiro</td>\n",
       "      <td>33</td>\n",
       "    </tr>\n",
       "    <tr>\n",
       "      <th>9433960</th>\n",
       "      <td>Nulo</td>\n",
       "      <td>SP</td>\n",
       "      <td>70157</td>\n",
       "      <td>SANTA ALBERTINA</td>\n",
       "      <td>6</td>\n",
       "      <td>Prefeito</td>\n",
       "      <td>#NULO#</td>\n",
       "      <td>33</td>\n",
       "    </tr>\n",
       "    <tr>\n",
       "      <th>9433961</th>\n",
       "      <td>JUNINHO FORMIGONI</td>\n",
       "      <td>SP</td>\n",
       "      <td>70157</td>\n",
       "      <td>SANTA ALBERTINA</td>\n",
       "      <td>139</td>\n",
       "      <td>Prefeito</td>\n",
       "      <td>Democratas</td>\n",
       "      <td>33</td>\n",
       "    </tr>\n",
       "    <tr>\n",
       "      <th>9433962</th>\n",
       "      <td>Nulo</td>\n",
       "      <td>SP</td>\n",
       "      <td>70157</td>\n",
       "      <td>SANTA ALBERTINA</td>\n",
       "      <td>2</td>\n",
       "      <td>Prefeito</td>\n",
       "      <td>#NULO#</td>\n",
       "      <td>33</td>\n",
       "    </tr>\n",
       "  </tbody>\n",
       "</table>\n",
       "<p>798456 rows × 8 columns</p>\n",
       "</div>"
      ],
      "text/plain": [
       "                NM_VOTAVEL SG_UF  CD_MUNICIPIO     NM_MUNICIPIO  QT_VOTOS  \\\n",
       "0                     Nulo    SP         71072        SÃO PAULO         5   \n",
       "1             JILMAR TATTO    SP         71072        SÃO PAULO         4   \n",
       "2             MARINA HELOU    SP         71072        SÃO PAULO         1   \n",
       "3            MÁRCIO FRANÇA    SP         71072        SÃO PAULO        29   \n",
       "4              BRUNO COVAS    SP         71072        SÃO PAULO       111   \n",
       "...                    ...   ...           ...              ...       ...   \n",
       "9433958      FABIO MINEIRO    SP         70157  SANTA ALBERTINA        27   \n",
       "9433959        CIDO CEREZO    SP         70157  SANTA ALBERTINA       111   \n",
       "9433960               Nulo    SP         70157  SANTA ALBERTINA         6   \n",
       "9433961  JUNINHO FORMIGONI    SP         70157  SANTA ALBERTINA       139   \n",
       "9433962               Nulo    SP         70157  SANTA ALBERTINA         2   \n",
       "\n",
       "        DS_CARGO_PERGUNTA                               NM_PARTIDO  \\\n",
       "0                Prefeito                                   #NULO#   \n",
       "1                Prefeito                Partido dos Trabalhadores   \n",
       "2                Prefeito                    Rede Sustentabilidade   \n",
       "3                Prefeito            Partido Socialista Brasileiro   \n",
       "4                Prefeito  Partido da Social Democracia Brasileira   \n",
       "...                   ...                                      ...   \n",
       "9433958          Prefeito                             REPUBLICANOS   \n",
       "9433959          Prefeito         Movimento Democrático Brasileiro   \n",
       "9433960          Prefeito                                   #NULO#   \n",
       "9433961          Prefeito                               Democratas   \n",
       "9433962          Prefeito                                   #NULO#   \n",
       "\n",
       "         QT_ABSTENCOES  \n",
       "0                  145  \n",
       "1                  145  \n",
       "2                  145  \n",
       "3                  145  \n",
       "4                  145  \n",
       "...                ...  \n",
       "9433958             33  \n",
       "9433959             33  \n",
       "9433960             33  \n",
       "9433961             33  \n",
       "9433962             33  \n",
       "\n",
       "[798456 rows x 8 columns]"
      ]
     },
     "execution_count": 47,
     "metadata": {},
     "output_type": "execute_result"
    }
   ],
   "source": [
    "#Aplicando a função na coluna NM_VOTAVEL para remover o dado \"Branco\"\n",
    "substituir_dados_invalidos_pela_moda(votos_sp, \"NM_VOTAVEL\", dado_nao_nulo = 'Branco')"
   ]
  },
  {
   "cell_type": "code",
   "execution_count": 48,
   "id": "4e4cb44d",
   "metadata": {
    "execution": {
     "iopub.execute_input": "2023-08-20T21:42:06.318974Z",
     "iopub.status.busy": "2023-08-20T21:42:06.318605Z",
     "iopub.status.idle": "2023-08-20T21:42:06.900429Z",
     "shell.execute_reply": "2023-08-20T21:42:06.899645Z"
    },
    "papermill": {
     "duration": 0.607184,
     "end_time": "2023-08-20T21:42:06.902381",
     "exception": false,
     "start_time": "2023-08-20T21:42:06.295197",
     "status": "completed"
    },
    "tags": []
   },
   "outputs": [
    {
     "data": {
      "text/plain": [
       "BRANCOS OU NULOS    171251\n",
       "MÁRCIO FRANÇA        22397\n",
       "GUILHERME BOULOS     22396\n",
       "BRUNO COVAS          22395\n",
       "CELSO RUSSOMANNO     22392\n",
       "                     ...  \n",
       "JUCA TAVONI              4\n",
       "MARCELO FONSECA          4\n",
       "GENIVALDO                4\n",
       "ZÉ ROBERTO MUKA          2\n",
       "PEDRÃO DO BILO           1\n",
       "Name: NM_VOTAVEL, Length: 2527, dtype: int64"
      ]
     },
     "execution_count": 48,
     "metadata": {},
     "output_type": "execute_result"
    }
   ],
   "source": [
    "#Alterando o nome para \"Brancos e Nulos\"\n",
    "votos_sp[\"NM_VOTAVEL\"] = votos_sp[\"NM_VOTAVEL\"].str.replace('Nulo', 'BRANCOS OU NULOS')\n",
    "\n",
    "\n",
    "#Visualizando as mudanças\n",
    "votos_sp['NM_VOTAVEL'].value_counts()"
   ]
  },
  {
   "cell_type": "code",
   "execution_count": 49,
   "id": "30497383",
   "metadata": {
    "execution": {
     "iopub.execute_input": "2023-08-20T21:42:06.948493Z",
     "iopub.status.busy": "2023-08-20T21:42:06.947760Z",
     "iopub.status.idle": "2023-08-20T21:42:07.551977Z",
     "shell.execute_reply": "2023-08-20T21:42:07.550846Z"
    },
    "papermill": {
     "duration": 0.629766,
     "end_time": "2023-08-20T21:42:07.554360",
     "exception": false,
     "start_time": "2023-08-20T21:42:06.924594",
     "status": "completed"
    },
    "tags": []
   },
   "outputs": [
    {
     "data": {
      "text/plain": [
       "BRANCOS OU NULOS                                  171251\n",
       "Partido da Social Democracia Brasileira            64506\n",
       "Partido dos Trabalhadores                          62651\n",
       "Partido Socialismo e Liberdade                     51499\n",
       "Partido Social Democrático                         48379\n",
       "Partido Social Liberal                             43836\n",
       "REPUBLICANOS                                       39632\n",
       "Partido Socialista Brasileiro                      38947\n",
       "Patriota                                           37294\n",
       "Partido Renovador Trabalhista Brasileiro           30808\n",
       "Partido Trabalhista Brasileiro                     19551\n",
       "Partido Democrático Trabalhista                    18907\n",
       "Podemos                                            17986\n",
       "Movimento Democrático Brasileiro                   17369\n",
       "Partido Comunista do Brasil                        17134\n",
       "Partido Liberal                                    15852\n",
       "Democratas                                         14974\n",
       "Rede Sustentabilidade                              14432\n",
       "Partido Verde                                       8869\n",
       "Solidariedade                                       8196\n",
       "Cidadania                                           7946\n",
       "PROGRESSISTAS                                       7385\n",
       "AVANTE                                              6579\n",
       "Partido Socialista dos Trabalhadores Unificado      5854\n",
       "Partido Republicano da Ordem Social                 5370\n",
       "Partido Trabalhista Cristão                         5122\n",
       "Partido Novo                                        4221\n",
       "Democracia Cristã                                   3973\n",
       "Partido Social Cristão                              3387\n",
       "Partido da Mobilização Nacional                     3085\n",
       "Partido da Mulher Brasileira                        1406\n",
       "Partido da Causa Operária                           1308\n",
       "Unidade Popular                                      747\n",
       "Name: NM_PARTIDO, dtype: int64"
      ]
     },
     "execution_count": 49,
     "metadata": {},
     "output_type": "execute_result"
    }
   ],
   "source": [
    "votos_sp[\"NM_PARTIDO\"] = votos_sp[\"NM_PARTIDO\"].str.replace('#NULO#', 'BRANCOS OU NULOS')\n",
    "\n",
    "#Visualizando as mudanças\n",
    "votos_sp['NM_PARTIDO'].value_counts()"
   ]
  },
  {
   "cell_type": "markdown",
   "id": "8c4cd1e5",
   "metadata": {
    "papermill": {
     "duration": 0.022457,
     "end_time": "2023-08-20T21:42:07.599298",
     "exception": false,
     "start_time": "2023-08-20T21:42:07.576841",
     "status": "completed"
    },
    "tags": []
   },
   "source": [
    "<div style=\"font-size: 32px;font-family:Inter\"><b>Resetando a coluna de ID(index)</b></div>\n",
    "<hr style=\"height:6px; background-color:#5A5A5A\"></hr>"
   ]
  },
  {
   "cell_type": "code",
   "execution_count": 50,
   "id": "b4e14202",
   "metadata": {
    "execution": {
     "iopub.execute_input": "2023-08-20T21:42:07.645826Z",
     "iopub.status.busy": "2023-08-20T21:42:07.644819Z",
     "iopub.status.idle": "2023-08-20T21:42:07.777625Z",
     "shell.execute_reply": "2023-08-20T21:42:07.776547Z"
    },
    "papermill": {
     "duration": 0.158655,
     "end_time": "2023-08-20T21:42:07.780097",
     "exception": false,
     "start_time": "2023-08-20T21:42:07.621442",
     "status": "completed"
    },
    "tags": []
   },
   "outputs": [],
   "source": [
    "votos_sp = votos_sp.reset_index(drop=True)"
   ]
  },
  {
   "cell_type": "code",
   "execution_count": 51,
   "id": "cea53090",
   "metadata": {
    "execution": {
     "iopub.execute_input": "2023-08-20T21:42:07.826510Z",
     "iopub.status.busy": "2023-08-20T21:42:07.825623Z",
     "iopub.status.idle": "2023-08-20T21:42:07.842275Z",
     "shell.execute_reply": "2023-08-20T21:42:07.841332Z"
    },
    "papermill": {
     "duration": 0.041882,
     "end_time": "2023-08-20T21:42:07.844265",
     "exception": false,
     "start_time": "2023-08-20T21:42:07.802383",
     "status": "completed"
    },
    "tags": []
   },
   "outputs": [
    {
     "data": {
      "text/html": [
       "<div>\n",
       "<style scoped>\n",
       "    .dataframe tbody tr th:only-of-type {\n",
       "        vertical-align: middle;\n",
       "    }\n",
       "\n",
       "    .dataframe tbody tr th {\n",
       "        vertical-align: top;\n",
       "    }\n",
       "\n",
       "    .dataframe thead th {\n",
       "        text-align: right;\n",
       "    }\n",
       "</style>\n",
       "<table border=\"1\" class=\"dataframe\">\n",
       "  <thead>\n",
       "    <tr style=\"text-align: right;\">\n",
       "      <th></th>\n",
       "      <th>NM_VOTAVEL</th>\n",
       "      <th>SG_UF</th>\n",
       "      <th>CD_MUNICIPIO</th>\n",
       "      <th>NM_MUNICIPIO</th>\n",
       "      <th>QT_VOTOS</th>\n",
       "      <th>DS_CARGO_PERGUNTA</th>\n",
       "      <th>NM_PARTIDO</th>\n",
       "      <th>QT_ABSTENCOES</th>\n",
       "    </tr>\n",
       "  </thead>\n",
       "  <tbody>\n",
       "    <tr>\n",
       "      <th>0</th>\n",
       "      <td>BRANCOS OU NULOS</td>\n",
       "      <td>SP</td>\n",
       "      <td>71072</td>\n",
       "      <td>SÃO PAULO</td>\n",
       "      <td>5</td>\n",
       "      <td>Prefeito</td>\n",
       "      <td>BRANCOS OU NULOS</td>\n",
       "      <td>145</td>\n",
       "    </tr>\n",
       "    <tr>\n",
       "      <th>1</th>\n",
       "      <td>JILMAR TATTO</td>\n",
       "      <td>SP</td>\n",
       "      <td>71072</td>\n",
       "      <td>SÃO PAULO</td>\n",
       "      <td>4</td>\n",
       "      <td>Prefeito</td>\n",
       "      <td>Partido dos Trabalhadores</td>\n",
       "      <td>145</td>\n",
       "    </tr>\n",
       "    <tr>\n",
       "      <th>2</th>\n",
       "      <td>MARINA HELOU</td>\n",
       "      <td>SP</td>\n",
       "      <td>71072</td>\n",
       "      <td>SÃO PAULO</td>\n",
       "      <td>1</td>\n",
       "      <td>Prefeito</td>\n",
       "      <td>Rede Sustentabilidade</td>\n",
       "      <td>145</td>\n",
       "    </tr>\n",
       "    <tr>\n",
       "      <th>3</th>\n",
       "      <td>MÁRCIO FRANÇA</td>\n",
       "      <td>SP</td>\n",
       "      <td>71072</td>\n",
       "      <td>SÃO PAULO</td>\n",
       "      <td>29</td>\n",
       "      <td>Prefeito</td>\n",
       "      <td>Partido Socialista Brasileiro</td>\n",
       "      <td>145</td>\n",
       "    </tr>\n",
       "    <tr>\n",
       "      <th>4</th>\n",
       "      <td>BRUNO COVAS</td>\n",
       "      <td>SP</td>\n",
       "      <td>71072</td>\n",
       "      <td>SÃO PAULO</td>\n",
       "      <td>111</td>\n",
       "      <td>Prefeito</td>\n",
       "      <td>Partido da Social Democracia Brasileira</td>\n",
       "      <td>145</td>\n",
       "    </tr>\n",
       "    <tr>\n",
       "      <th>...</th>\n",
       "      <td>...</td>\n",
       "      <td>...</td>\n",
       "      <td>...</td>\n",
       "      <td>...</td>\n",
       "      <td>...</td>\n",
       "      <td>...</td>\n",
       "      <td>...</td>\n",
       "      <td>...</td>\n",
       "    </tr>\n",
       "    <tr>\n",
       "      <th>798451</th>\n",
       "      <td>FABIO MINEIRO</td>\n",
       "      <td>SP</td>\n",
       "      <td>70157</td>\n",
       "      <td>SANTA ALBERTINA</td>\n",
       "      <td>27</td>\n",
       "      <td>Prefeito</td>\n",
       "      <td>REPUBLICANOS</td>\n",
       "      <td>33</td>\n",
       "    </tr>\n",
       "    <tr>\n",
       "      <th>798452</th>\n",
       "      <td>CIDO CEREZO</td>\n",
       "      <td>SP</td>\n",
       "      <td>70157</td>\n",
       "      <td>SANTA ALBERTINA</td>\n",
       "      <td>111</td>\n",
       "      <td>Prefeito</td>\n",
       "      <td>Movimento Democrático Brasileiro</td>\n",
       "      <td>33</td>\n",
       "    </tr>\n",
       "    <tr>\n",
       "      <th>798453</th>\n",
       "      <td>BRANCOS OU NULOS</td>\n",
       "      <td>SP</td>\n",
       "      <td>70157</td>\n",
       "      <td>SANTA ALBERTINA</td>\n",
       "      <td>6</td>\n",
       "      <td>Prefeito</td>\n",
       "      <td>BRANCOS OU NULOS</td>\n",
       "      <td>33</td>\n",
       "    </tr>\n",
       "    <tr>\n",
       "      <th>798454</th>\n",
       "      <td>JUNINHO FORMIGONI</td>\n",
       "      <td>SP</td>\n",
       "      <td>70157</td>\n",
       "      <td>SANTA ALBERTINA</td>\n",
       "      <td>139</td>\n",
       "      <td>Prefeito</td>\n",
       "      <td>Democratas</td>\n",
       "      <td>33</td>\n",
       "    </tr>\n",
       "    <tr>\n",
       "      <th>798455</th>\n",
       "      <td>BRANCOS OU NULOS</td>\n",
       "      <td>SP</td>\n",
       "      <td>70157</td>\n",
       "      <td>SANTA ALBERTINA</td>\n",
       "      <td>2</td>\n",
       "      <td>Prefeito</td>\n",
       "      <td>BRANCOS OU NULOS</td>\n",
       "      <td>33</td>\n",
       "    </tr>\n",
       "  </tbody>\n",
       "</table>\n",
       "<p>798456 rows × 8 columns</p>\n",
       "</div>"
      ],
      "text/plain": [
       "               NM_VOTAVEL SG_UF  CD_MUNICIPIO     NM_MUNICIPIO  QT_VOTOS  \\\n",
       "0        BRANCOS OU NULOS    SP         71072        SÃO PAULO         5   \n",
       "1            JILMAR TATTO    SP         71072        SÃO PAULO         4   \n",
       "2            MARINA HELOU    SP         71072        SÃO PAULO         1   \n",
       "3           MÁRCIO FRANÇA    SP         71072        SÃO PAULO        29   \n",
       "4             BRUNO COVAS    SP         71072        SÃO PAULO       111   \n",
       "...                   ...   ...           ...              ...       ...   \n",
       "798451      FABIO MINEIRO    SP         70157  SANTA ALBERTINA        27   \n",
       "798452        CIDO CEREZO    SP         70157  SANTA ALBERTINA       111   \n",
       "798453   BRANCOS OU NULOS    SP         70157  SANTA ALBERTINA         6   \n",
       "798454  JUNINHO FORMIGONI    SP         70157  SANTA ALBERTINA       139   \n",
       "798455   BRANCOS OU NULOS    SP         70157  SANTA ALBERTINA         2   \n",
       "\n",
       "       DS_CARGO_PERGUNTA                               NM_PARTIDO  \\\n",
       "0               Prefeito                         BRANCOS OU NULOS   \n",
       "1               Prefeito                Partido dos Trabalhadores   \n",
       "2               Prefeito                    Rede Sustentabilidade   \n",
       "3               Prefeito            Partido Socialista Brasileiro   \n",
       "4               Prefeito  Partido da Social Democracia Brasileira   \n",
       "...                  ...                                      ...   \n",
       "798451          Prefeito                             REPUBLICANOS   \n",
       "798452          Prefeito         Movimento Democrático Brasileiro   \n",
       "798453          Prefeito                         BRANCOS OU NULOS   \n",
       "798454          Prefeito                               Democratas   \n",
       "798455          Prefeito                         BRANCOS OU NULOS   \n",
       "\n",
       "        QT_ABSTENCOES  \n",
       "0                 145  \n",
       "1                 145  \n",
       "2                 145  \n",
       "3                 145  \n",
       "4                 145  \n",
       "...               ...  \n",
       "798451             33  \n",
       "798452             33  \n",
       "798453             33  \n",
       "798454             33  \n",
       "798455             33  \n",
       "\n",
       "[798456 rows x 8 columns]"
      ]
     },
     "execution_count": 51,
     "metadata": {},
     "output_type": "execute_result"
    }
   ],
   "source": [
    "votos_sp"
   ]
  },
  {
   "cell_type": "markdown",
   "id": "9ac4cdb1",
   "metadata": {
    "papermill": {
     "duration": 0.022549,
     "end_time": "2023-08-20T21:42:07.889393",
     "exception": false,
     "start_time": "2023-08-20T21:42:07.866844",
     "status": "completed"
    },
    "tags": []
   },
   "source": [
    "<div style=\"font-size: 32px;font-family:Inter\"><b>Renomeando as colunas para melhor visualização</b></div>\n",
    "<hr style=\"height:6px; background-color:#5A5A5A\"></hr>"
   ]
  },
  {
   "cell_type": "code",
   "execution_count": 52,
   "id": "ddc2da2c",
   "metadata": {
    "execution": {
     "iopub.execute_input": "2023-08-20T21:42:07.937760Z",
     "iopub.status.busy": "2023-08-20T21:42:07.936750Z",
     "iopub.status.idle": "2023-08-20T21:42:07.977766Z",
     "shell.execute_reply": "2023-08-20T21:42:07.976711Z"
    },
    "papermill": {
     "duration": 0.067217,
     "end_time": "2023-08-20T21:42:07.980281",
     "exception": false,
     "start_time": "2023-08-20T21:42:07.913064",
     "status": "completed"
    },
    "tags": []
   },
   "outputs": [
    {
     "data": {
      "text/html": [
       "<div>\n",
       "<style scoped>\n",
       "    .dataframe tbody tr th:only-of-type {\n",
       "        vertical-align: middle;\n",
       "    }\n",
       "\n",
       "    .dataframe tbody tr th {\n",
       "        vertical-align: top;\n",
       "    }\n",
       "\n",
       "    .dataframe thead th {\n",
       "        text-align: right;\n",
       "    }\n",
       "</style>\n",
       "<table border=\"1\" class=\"dataframe\">\n",
       "  <thead>\n",
       "    <tr style=\"text-align: right;\">\n",
       "      <th></th>\n",
       "      <th>Nome do Candidato</th>\n",
       "      <th>Estado</th>\n",
       "      <th>Código do Município</th>\n",
       "      <th>Município</th>\n",
       "      <th>Qtd. de Votos</th>\n",
       "      <th>Cargo de Ocupação</th>\n",
       "      <th>Nome do Partido</th>\n",
       "      <th>Qtd. de Abstenções</th>\n",
       "    </tr>\n",
       "  </thead>\n",
       "  <tbody>\n",
       "    <tr>\n",
       "      <th>0</th>\n",
       "      <td>BRANCOS OU NULOS</td>\n",
       "      <td>SP</td>\n",
       "      <td>71072</td>\n",
       "      <td>SÃO PAULO</td>\n",
       "      <td>5</td>\n",
       "      <td>Prefeito</td>\n",
       "      <td>BRANCOS OU NULOS</td>\n",
       "      <td>145</td>\n",
       "    </tr>\n",
       "    <tr>\n",
       "      <th>1</th>\n",
       "      <td>JILMAR TATTO</td>\n",
       "      <td>SP</td>\n",
       "      <td>71072</td>\n",
       "      <td>SÃO PAULO</td>\n",
       "      <td>4</td>\n",
       "      <td>Prefeito</td>\n",
       "      <td>Partido dos Trabalhadores</td>\n",
       "      <td>145</td>\n",
       "    </tr>\n",
       "    <tr>\n",
       "      <th>2</th>\n",
       "      <td>MARINA HELOU</td>\n",
       "      <td>SP</td>\n",
       "      <td>71072</td>\n",
       "      <td>SÃO PAULO</td>\n",
       "      <td>1</td>\n",
       "      <td>Prefeito</td>\n",
       "      <td>Rede Sustentabilidade</td>\n",
       "      <td>145</td>\n",
       "    </tr>\n",
       "    <tr>\n",
       "      <th>3</th>\n",
       "      <td>MÁRCIO FRANÇA</td>\n",
       "      <td>SP</td>\n",
       "      <td>71072</td>\n",
       "      <td>SÃO PAULO</td>\n",
       "      <td>29</td>\n",
       "      <td>Prefeito</td>\n",
       "      <td>Partido Socialista Brasileiro</td>\n",
       "      <td>145</td>\n",
       "    </tr>\n",
       "    <tr>\n",
       "      <th>4</th>\n",
       "      <td>BRUNO COVAS</td>\n",
       "      <td>SP</td>\n",
       "      <td>71072</td>\n",
       "      <td>SÃO PAULO</td>\n",
       "      <td>111</td>\n",
       "      <td>Prefeito</td>\n",
       "      <td>Partido da Social Democracia Brasileira</td>\n",
       "      <td>145</td>\n",
       "    </tr>\n",
       "    <tr>\n",
       "      <th>...</th>\n",
       "      <td>...</td>\n",
       "      <td>...</td>\n",
       "      <td>...</td>\n",
       "      <td>...</td>\n",
       "      <td>...</td>\n",
       "      <td>...</td>\n",
       "      <td>...</td>\n",
       "      <td>...</td>\n",
       "    </tr>\n",
       "    <tr>\n",
       "      <th>798451</th>\n",
       "      <td>FABIO MINEIRO</td>\n",
       "      <td>SP</td>\n",
       "      <td>70157</td>\n",
       "      <td>SANTA ALBERTINA</td>\n",
       "      <td>27</td>\n",
       "      <td>Prefeito</td>\n",
       "      <td>REPUBLICANOS</td>\n",
       "      <td>33</td>\n",
       "    </tr>\n",
       "    <tr>\n",
       "      <th>798452</th>\n",
       "      <td>CIDO CEREZO</td>\n",
       "      <td>SP</td>\n",
       "      <td>70157</td>\n",
       "      <td>SANTA ALBERTINA</td>\n",
       "      <td>111</td>\n",
       "      <td>Prefeito</td>\n",
       "      <td>Movimento Democrático Brasileiro</td>\n",
       "      <td>33</td>\n",
       "    </tr>\n",
       "    <tr>\n",
       "      <th>798453</th>\n",
       "      <td>BRANCOS OU NULOS</td>\n",
       "      <td>SP</td>\n",
       "      <td>70157</td>\n",
       "      <td>SANTA ALBERTINA</td>\n",
       "      <td>6</td>\n",
       "      <td>Prefeito</td>\n",
       "      <td>BRANCOS OU NULOS</td>\n",
       "      <td>33</td>\n",
       "    </tr>\n",
       "    <tr>\n",
       "      <th>798454</th>\n",
       "      <td>JUNINHO FORMIGONI</td>\n",
       "      <td>SP</td>\n",
       "      <td>70157</td>\n",
       "      <td>SANTA ALBERTINA</td>\n",
       "      <td>139</td>\n",
       "      <td>Prefeito</td>\n",
       "      <td>Democratas</td>\n",
       "      <td>33</td>\n",
       "    </tr>\n",
       "    <tr>\n",
       "      <th>798455</th>\n",
       "      <td>BRANCOS OU NULOS</td>\n",
       "      <td>SP</td>\n",
       "      <td>70157</td>\n",
       "      <td>SANTA ALBERTINA</td>\n",
       "      <td>2</td>\n",
       "      <td>Prefeito</td>\n",
       "      <td>BRANCOS OU NULOS</td>\n",
       "      <td>33</td>\n",
       "    </tr>\n",
       "  </tbody>\n",
       "</table>\n",
       "<p>798456 rows × 8 columns</p>\n",
       "</div>"
      ],
      "text/plain": [
       "        Nome do Candidato Estado  Código do Município        Município  \\\n",
       "0        BRANCOS OU NULOS     SP                71072        SÃO PAULO   \n",
       "1            JILMAR TATTO     SP                71072        SÃO PAULO   \n",
       "2            MARINA HELOU     SP                71072        SÃO PAULO   \n",
       "3           MÁRCIO FRANÇA     SP                71072        SÃO PAULO   \n",
       "4             BRUNO COVAS     SP                71072        SÃO PAULO   \n",
       "...                   ...    ...                  ...              ...   \n",
       "798451      FABIO MINEIRO     SP                70157  SANTA ALBERTINA   \n",
       "798452        CIDO CEREZO     SP                70157  SANTA ALBERTINA   \n",
       "798453   BRANCOS OU NULOS     SP                70157  SANTA ALBERTINA   \n",
       "798454  JUNINHO FORMIGONI     SP                70157  SANTA ALBERTINA   \n",
       "798455   BRANCOS OU NULOS     SP                70157  SANTA ALBERTINA   \n",
       "\n",
       "        Qtd. de Votos Cargo de Ocupação  \\\n",
       "0                   5          Prefeito   \n",
       "1                   4          Prefeito   \n",
       "2                   1          Prefeito   \n",
       "3                  29          Prefeito   \n",
       "4                 111          Prefeito   \n",
       "...               ...               ...   \n",
       "798451             27          Prefeito   \n",
       "798452            111          Prefeito   \n",
       "798453              6          Prefeito   \n",
       "798454            139          Prefeito   \n",
       "798455              2          Prefeito   \n",
       "\n",
       "                                Nome do Partido  Qtd. de Abstenções  \n",
       "0                              BRANCOS OU NULOS                 145  \n",
       "1                     Partido dos Trabalhadores                 145  \n",
       "2                         Rede Sustentabilidade                 145  \n",
       "3                 Partido Socialista Brasileiro                 145  \n",
       "4       Partido da Social Democracia Brasileira                 145  \n",
       "...                                         ...                 ...  \n",
       "798451                             REPUBLICANOS                  33  \n",
       "798452         Movimento Democrático Brasileiro                  33  \n",
       "798453                         BRANCOS OU NULOS                  33  \n",
       "798454                               Democratas                  33  \n",
       "798455                         BRANCOS OU NULOS                  33  \n",
       "\n",
       "[798456 rows x 8 columns]"
      ]
     },
     "execution_count": 52,
     "metadata": {},
     "output_type": "execute_result"
    }
   ],
   "source": [
    "dicionario_colunas = {'NM_VOTAVEL':'Nome do Candidato',\n",
    "                     'SG_UF':'Estado',\n",
    "                     'CD_MUNICIPIO': 'Código do Município',\n",
    "                     'NM_MUNICIPIO': 'Município',\n",
    "                     'QT_VOTOS':'Qtd. de Votos',\n",
    "                     'DS_CARGO_PERGUNTA':'Cargo de Ocupação',\n",
    "                     'DS_ESTADO_CIVIL':'Estado Cívil do Eleitor(a)',\n",
    "                     'NM_PARTIDO': 'Nome do Partido',\n",
    "                     'QT_ABSTENCOES':'Qtd. de Abstenções'}\n",
    "\n",
    "#Renomeando e salvando o DataFrame final\n",
    "votos_sp_turno1 = votos_sp.rename(columns=dicionario_colunas)\n",
    "votos_sp_turno1"
   ]
  },
  {
   "cell_type": "markdown",
   "id": "fb7cef51",
   "metadata": {
    "papermill": {
     "duration": 0.022619,
     "end_time": "2023-08-20T21:42:08.026619",
     "exception": false,
     "start_time": "2023-08-20T21:42:08.004000",
     "status": "completed"
    },
    "tags": []
   },
   "source": [
    "<div style=\"font-size: 32px;font-family:Inter\"><b>Exportando os novos arquivos limpos para csv</b></div>\n",
    "<hr style=\"height:6px; background-color:#5A5A5A\"></hr>"
   ]
  },
  {
   "cell_type": "code",
   "execution_count": 53,
   "id": "41bb78dc",
   "metadata": {
    "execution": {
     "iopub.execute_input": "2023-08-20T21:42:08.073966Z",
     "iopub.status.busy": "2023-08-20T21:42:08.073587Z",
     "iopub.status.idle": "2023-08-20T21:42:11.477918Z",
     "shell.execute_reply": "2023-08-20T21:42:11.476975Z"
    },
    "papermill": {
     "duration": 3.430963,
     "end_time": "2023-08-20T21:42:11.480473",
     "exception": false,
     "start_time": "2023-08-20T21:42:08.049510",
     "status": "completed"
    },
    "tags": []
   },
   "outputs": [],
   "source": [
    "# Exportar o DataFrame para um novo arquivo CSV\n",
    "perfil_eleitorado_sp.to_csv('perfil_eleitoral_sp.csv')"
   ]
  },
  {
   "cell_type": "code",
   "execution_count": 54,
   "id": "38f52b84",
   "metadata": {
    "execution": {
     "iopub.execute_input": "2023-08-20T21:42:11.527791Z",
     "iopub.status.busy": "2023-08-20T21:42:11.527432Z",
     "iopub.status.idle": "2023-08-20T21:42:15.357368Z",
     "shell.execute_reply": "2023-08-20T21:42:15.356443Z"
    },
    "papermill": {
     "duration": 3.856507,
     "end_time": "2023-08-20T21:42:15.359872",
     "exception": false,
     "start_time": "2023-08-20T21:42:11.503365",
     "status": "completed"
    },
    "tags": []
   },
   "outputs": [],
   "source": [
    "# Exportar o DataFrame para um novo arquivo CSV\n",
    "votos_sp_turno1.to_csv('votos_sp_turno1.csv')"
   ]
  },
  {
   "cell_type": "code",
   "execution_count": null,
   "id": "80d118ed",
   "metadata": {
    "papermill": {
     "duration": 0.02199,
     "end_time": "2023-08-20T21:42:15.404756",
     "exception": false,
     "start_time": "2023-08-20T21:42:15.382766",
     "status": "completed"
    },
    "tags": []
   },
   "outputs": [],
   "source": []
  }
 ],
 "metadata": {
  "kernelspec": {
   "display_name": "Python 3",
   "language": "python",
   "name": "python3"
  },
  "language_info": {
   "codemirror_mode": {
    "name": "ipython",
    "version": 3
   },
   "file_extension": ".py",
   "mimetype": "text/x-python",
   "name": "python",
   "nbconvert_exporter": "python",
   "pygments_lexer": "ipython3",
   "version": "3.10.12"
  },
  "papermill": {
   "default_parameters": {},
   "duration": 184.891456,
   "end_time": "2023-08-20T21:42:18.049453",
   "environment_variables": {},
   "exception": null,
   "input_path": "__notebook__.ipynb",
   "output_path": "__notebook__.ipynb",
   "parameters": {},
   "start_time": "2023-08-20T21:39:13.157997",
   "version": "2.4.0"
  }
 },
 "nbformat": 4,
 "nbformat_minor": 5
}
